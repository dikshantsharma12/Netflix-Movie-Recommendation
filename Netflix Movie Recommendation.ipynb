{
 "cells": [
  {
   "cell_type": "code",
   "execution_count": 1,
   "metadata": {},
   "outputs": [],
   "source": [
    "from datetime import datetime\n",
    "import pandas as pd\n",
    "import numpy as np\n",
    "import seaborn as sns\n",
    "sns.set_style(\"whitegrid\")\n",
    "import os\n",
    "import random\n",
    "import matplotlib.pyplot as plt\n",
    "from scipy import sparse\n",
    "from sklearn.metrics.pairwise import cosine_similarity\n"
   ]
  },
  {
   "cell_type": "markdown",
   "metadata": {},
   "source": [
    "## Reading dataset"
   ]
  },
  {
   "cell_type": "code",
   "execution_count": 2,
   "metadata": {},
   "outputs": [
    {
     "name": "stdout",
     "output_type": "stream",
     "text": [
      "Reading from file: ./Data/combined_data_2.txt...\n",
      "Reading of file./Data/combined_data_2.txt is completed\n",
      "\n",
      "Reading from file: ./Data/combined_data_4.txt...\n",
      "Reading of file./Data/combined_data_4.txt is completed\n",
      "\n",
      "Total time taken0:03:13.727466\n"
     ]
    }
   ],
   "source": [
    "if not os.path.isfile(\"./data/NetflixRating.csv\"):\n",
    "    startTime=datetime.now()\n",
    "    data=open(\"./Data/NetflixRatings.csv\",mode=\"w\")\n",
    "    \n",
    "    files=[\"./Data/combined_data_2.txt\",'./Data/combined_data_4.txt']\n",
    "    for file in files:\n",
    "        print(\"Reading from file: \"+str(file)+\"...\")\n",
    "        with open(file) as f:\n",
    "            \n",
    "            for line in f:\n",
    "                line=line.strip()\n",
    "                \n",
    "                if line.endswith(\":\"):\n",
    "                    movieID=line.replace(\":\",\"\")\n",
    "                else:\n",
    "                    row=[]\n",
    "                    row=[x for x in line.split(\",\")]\n",
    "                    row.insert(0,movieID)\n",
    "                    data.write(\",\".join(row))\n",
    "                    data.write(\"\\n\")\n",
    "        print(\"Reading of file\"+str(file)+\" is completed\\n\")\n",
    "    data.close()\n",
    "    print(\"Total time taken\" + str(datetime.now()-startTime))\n",
    "    "
   ]
  },
  {
   "cell_type": "code",
   "execution_count": 3,
   "metadata": {},
   "outputs": [],
   "source": [
    "if not os.path.isfile(\"./Data/NetflixData.pkl\"):\n",
    "    startTime=datetime.now()\n",
    "    final_data=pd.read_csv(\"./Data/NetflixRatings.csv\",sep=\",\",names=[\"MovieID\",\"CustID\",\"Ratings\",\"Date\"])\n",
    "    final_data[\"Date\"]=pd.to_datetime(final_data[\"Date\"])\n",
    "    final_data.sort_values(by=\"Date\",inplace=True)\n",
    "    print(\"Time taken for execturion of above code =\"+str(datetime.now()-startTime))"
   ]
  },
  {
   "cell_type": "code",
   "execution_count": 4,
   "metadata": {},
   "outputs": [],
   "source": [
    "if not os.path.isfile(\"./Data/NetflixData.pkl\"):\n",
    "    final_data.to_pickle(\"./Data/NetflixData.pkl\")\n",
    "else:\n",
    "    final_data=pd.read_pickle(\"./Data/NetflixData.pkl\")"
   ]
  },
  {
   "cell_type": "code",
   "execution_count": 5,
   "metadata": {},
   "outputs": [
    {
     "data": {
      "text/html": [
       "<div>\n",
       "<style scoped>\n",
       "    .dataframe tbody tr th:only-of-type {\n",
       "        vertical-align: middle;\n",
       "    }\n",
       "\n",
       "    .dataframe tbody tr th {\n",
       "        vertical-align: top;\n",
       "    }\n",
       "\n",
       "    .dataframe thead th {\n",
       "        text-align: right;\n",
       "    }\n",
       "</style>\n",
       "<table border=\"1\" class=\"dataframe\">\n",
       "  <thead>\n",
       "    <tr style=\"text-align: right;\">\n",
       "      <th></th>\n",
       "      <th>MovieID</th>\n",
       "      <th>CustID</th>\n",
       "      <th>Ratings</th>\n",
       "      <th>Date</th>\n",
       "    </tr>\n",
       "  </thead>\n",
       "  <tbody>\n",
       "    <tr>\n",
       "      <th>49557332</th>\n",
       "      <td>17064</td>\n",
       "      <td>510180</td>\n",
       "      <td>2</td>\n",
       "      <td>1999-11-11</td>\n",
       "    </tr>\n",
       "    <tr>\n",
       "      <th>46370047</th>\n",
       "      <td>16465</td>\n",
       "      <td>510180</td>\n",
       "      <td>3</td>\n",
       "      <td>1999-11-11</td>\n",
       "    </tr>\n",
       "    <tr>\n",
       "      <th>22463125</th>\n",
       "      <td>8357</td>\n",
       "      <td>510180</td>\n",
       "      <td>4</td>\n",
       "      <td>1999-11-11</td>\n",
       "    </tr>\n",
       "    <tr>\n",
       "      <th>35237815</th>\n",
       "      <td>14660</td>\n",
       "      <td>510180</td>\n",
       "      <td>2</td>\n",
       "      <td>1999-11-11</td>\n",
       "    </tr>\n",
       "    <tr>\n",
       "      <th>21262258</th>\n",
       "      <td>8079</td>\n",
       "      <td>510180</td>\n",
       "      <td>2</td>\n",
       "      <td>1999-11-11</td>\n",
       "    </tr>\n",
       "  </tbody>\n",
       "</table>\n",
       "</div>"
      ],
      "text/plain": [
       "          MovieID  CustID  Ratings       Date\n",
       "49557332    17064  510180        2 1999-11-11\n",
       "46370047    16465  510180        3 1999-11-11\n",
       "22463125     8357  510180        4 1999-11-11\n",
       "35237815    14660  510180        2 1999-11-11\n",
       "21262258     8079  510180        2 1999-11-11"
      ]
     },
     "execution_count": 5,
     "metadata": {},
     "output_type": "execute_result"
    }
   ],
   "source": [
    "final_data.head()"
   ]
  },
  {
   "cell_type": "code",
   "execution_count": 6,
   "metadata": {},
   "outputs": [
    {
     "name": "stdout",
     "output_type": "stream",
     "text": [
      "<class 'pandas.core.frame.DataFrame'>\n",
      "Int64Index: 53825114 entries, 49557332 to 17495310\n",
      "Data columns (total 4 columns):\n",
      " #   Column   Dtype         \n",
      "---  ------   -----         \n",
      " 0   MovieID  int64         \n",
      " 1   CustID   int64         \n",
      " 2   Ratings  int64         \n",
      " 3   Date     datetime64[ns]\n",
      "dtypes: datetime64[ns](1), int64(3)\n",
      "memory usage: 2.0 GB\n"
     ]
    }
   ],
   "source": [
    "final_data.info()"
   ]
  },
  {
   "cell_type": "code",
   "execution_count": 7,
   "metadata": {},
   "outputs": [],
   "source": [
    "final_data.reset_index(inplace=True)"
   ]
  },
  {
   "cell_type": "code",
   "execution_count": 8,
   "metadata": {},
   "outputs": [
    {
     "data": {
      "text/html": [
       "<div>\n",
       "<style scoped>\n",
       "    .dataframe tbody tr th:only-of-type {\n",
       "        vertical-align: middle;\n",
       "    }\n",
       "\n",
       "    .dataframe tbody tr th {\n",
       "        vertical-align: top;\n",
       "    }\n",
       "\n",
       "    .dataframe thead th {\n",
       "        text-align: right;\n",
       "    }\n",
       "</style>\n",
       "<table border=\"1\" class=\"dataframe\">\n",
       "  <thead>\n",
       "    <tr style=\"text-align: right;\">\n",
       "      <th></th>\n",
       "      <th>MovieID</th>\n",
       "      <th>CustID</th>\n",
       "      <th>Ratings</th>\n",
       "      <th>Date</th>\n",
       "    </tr>\n",
       "  </thead>\n",
       "  <tbody>\n",
       "    <tr>\n",
       "      <th>0</th>\n",
       "      <td>17064</td>\n",
       "      <td>510180</td>\n",
       "      <td>2</td>\n",
       "      <td>1999-11-11</td>\n",
       "    </tr>\n",
       "    <tr>\n",
       "      <th>1</th>\n",
       "      <td>16465</td>\n",
       "      <td>510180</td>\n",
       "      <td>3</td>\n",
       "      <td>1999-11-11</td>\n",
       "    </tr>\n",
       "    <tr>\n",
       "      <th>2</th>\n",
       "      <td>8357</td>\n",
       "      <td>510180</td>\n",
       "      <td>4</td>\n",
       "      <td>1999-11-11</td>\n",
       "    </tr>\n",
       "    <tr>\n",
       "      <th>3</th>\n",
       "      <td>14660</td>\n",
       "      <td>510180</td>\n",
       "      <td>2</td>\n",
       "      <td>1999-11-11</td>\n",
       "    </tr>\n",
       "    <tr>\n",
       "      <th>4</th>\n",
       "      <td>8079</td>\n",
       "      <td>510180</td>\n",
       "      <td>2</td>\n",
       "      <td>1999-11-11</td>\n",
       "    </tr>\n",
       "  </tbody>\n",
       "</table>\n",
       "</div>"
      ],
      "text/plain": [
       "   MovieID  CustID  Ratings       Date\n",
       "0    17064  510180        2 1999-11-11\n",
       "1    16465  510180        3 1999-11-11\n",
       "2     8357  510180        4 1999-11-11\n",
       "3    14660  510180        2 1999-11-11\n",
       "4     8079  510180        2 1999-11-11"
      ]
     },
     "execution_count": 8,
     "metadata": {},
     "output_type": "execute_result"
    }
   ],
   "source": [
    "final_data.drop(\"index\",axis=1,inplace=True)\n",
    "final_data.head()"
   ]
  },
  {
   "cell_type": "code",
   "execution_count": 9,
   "metadata": {},
   "outputs": [
    {
     "name": "stdout",
     "output_type": "stream",
     "text": [
      "Total Null values in data :\n",
      "  MovieID    0\n",
      "CustID     0\n",
      "Ratings    0\n",
      "Date       0\n",
      "dtype: int64\n"
     ]
    }
   ],
   "source": [
    "print(\"Total Null values in data :\\n \", final_data.isnull().sum())"
   ]
  },
  {
   "cell_type": "code",
   "execution_count": 10,
   "metadata": {},
   "outputs": [
    {
     "name": "stdout",
     "output_type": "stream",
     "text": [
      "Number of duplicate rows:  0\n"
     ]
    }
   ],
   "source": [
    "duplicates=final_data.duplicated([\"MovieID\",\"CustID\",\"Ratings\"])\n",
    "print(\"Number of duplicate rows: \", duplicates.sum())"
   ]
  },
  {
   "cell_type": "code",
   "execution_count": 11,
   "metadata": {},
   "outputs": [
    {
     "data": {
      "text/plain": [
       "0           False\n",
       "1           False\n",
       "2           False\n",
       "3           False\n",
       "4           False\n",
       "            ...  \n",
       "53825109    False\n",
       "53825110    False\n",
       "53825111    False\n",
       "53825112    False\n",
       "53825113    False\n",
       "Length: 53825114, dtype: bool"
      ]
     },
     "execution_count": 11,
     "metadata": {},
     "output_type": "execute_result"
    }
   ],
   "source": [
    "duplicates"
   ]
  },
  {
   "cell_type": "code",
   "execution_count": 12,
   "metadata": {},
   "outputs": [],
   "source": [
    "if not os.path.isfile(\"./Data/TrainData.pkl\"):\n",
    "    final_data.iloc[:int(final_data.shape[0]*0.80)].to_pickle(\"./Data/TrainData.pkl\")\n",
    "    Train_data=pd.read_pickle('./Data/TrainData.pkl')\n",
    "else:\n",
    "    Train_data=pd.read_pickle(\"./Data/TrainData.pkl\")\n",
    "if not os.path.isfile(\"./Data/testData.pkl\"):\n",
    "    final_data.iloc[int(final_data.shape[0]*0.80):].to_pickle(\"./Data/TestData.pkl\")\n",
    "    Test_data=pd.read_pickle('./Data/TestData.pkl')\n",
    "else:\n",
    "    Test_data=pd.read_pickle(\"./Data/TestData.pkl\")\n",
    "    "
   ]
  },
  {
   "cell_type": "code",
   "execution_count": 13,
   "metadata": {},
   "outputs": [
    {
     "data": {
      "text/html": [
       "<div>\n",
       "<style scoped>\n",
       "    .dataframe tbody tr th:only-of-type {\n",
       "        vertical-align: middle;\n",
       "    }\n",
       "\n",
       "    .dataframe tbody tr th {\n",
       "        vertical-align: top;\n",
       "    }\n",
       "\n",
       "    .dataframe thead th {\n",
       "        text-align: right;\n",
       "    }\n",
       "</style>\n",
       "<table border=\"1\" class=\"dataframe\">\n",
       "  <thead>\n",
       "    <tr style=\"text-align: right;\">\n",
       "      <th></th>\n",
       "      <th>MovieID</th>\n",
       "      <th>CustID</th>\n",
       "      <th>Ratings</th>\n",
       "      <th>Date</th>\n",
       "    </tr>\n",
       "  </thead>\n",
       "  <tbody>\n",
       "    <tr>\n",
       "      <th>0</th>\n",
       "      <td>17064</td>\n",
       "      <td>510180</td>\n",
       "      <td>2</td>\n",
       "      <td>1999-11-11</td>\n",
       "    </tr>\n",
       "    <tr>\n",
       "      <th>1</th>\n",
       "      <td>16465</td>\n",
       "      <td>510180</td>\n",
       "      <td>3</td>\n",
       "      <td>1999-11-11</td>\n",
       "    </tr>\n",
       "    <tr>\n",
       "      <th>2</th>\n",
       "      <td>8357</td>\n",
       "      <td>510180</td>\n",
       "      <td>4</td>\n",
       "      <td>1999-11-11</td>\n",
       "    </tr>\n",
       "    <tr>\n",
       "      <th>3</th>\n",
       "      <td>14660</td>\n",
       "      <td>510180</td>\n",
       "      <td>2</td>\n",
       "      <td>1999-11-11</td>\n",
       "    </tr>\n",
       "    <tr>\n",
       "      <th>4</th>\n",
       "      <td>8079</td>\n",
       "      <td>510180</td>\n",
       "      <td>2</td>\n",
       "      <td>1999-11-11</td>\n",
       "    </tr>\n",
       "  </tbody>\n",
       "</table>\n",
       "</div>"
      ],
      "text/plain": [
       "   MovieID  CustID  Ratings       Date\n",
       "0    17064  510180        2 1999-11-11\n",
       "1    16465  510180        3 1999-11-11\n",
       "2     8357  510180        4 1999-11-11\n",
       "3    14660  510180        2 1999-11-11\n",
       "4     8079  510180        2 1999-11-11"
      ]
     },
     "execution_count": 13,
     "metadata": {},
     "output_type": "execute_result"
    }
   ],
   "source": [
    "Train_data.head()"
   ]
  },
  {
   "cell_type": "code",
   "execution_count": 14,
   "metadata": {},
   "outputs": [
    {
     "data": {
      "text/html": [
       "<div>\n",
       "<style scoped>\n",
       "    .dataframe tbody tr th:only-of-type {\n",
       "        vertical-align: middle;\n",
       "    }\n",
       "\n",
       "    .dataframe tbody tr th {\n",
       "        vertical-align: top;\n",
       "    }\n",
       "\n",
       "    .dataframe thead th {\n",
       "        text-align: right;\n",
       "    }\n",
       "</style>\n",
       "<table border=\"1\" class=\"dataframe\">\n",
       "  <thead>\n",
       "    <tr style=\"text-align: right;\">\n",
       "      <th></th>\n",
       "      <th>MovieID</th>\n",
       "      <th>CustID</th>\n",
       "      <th>Ratings</th>\n",
       "      <th>Date</th>\n",
       "    </tr>\n",
       "  </thead>\n",
       "  <tbody>\n",
       "    <tr>\n",
       "      <th>0</th>\n",
       "      <td>17405</td>\n",
       "      <td>1557557</td>\n",
       "      <td>4</td>\n",
       "      <td>2005-08-09</td>\n",
       "    </tr>\n",
       "    <tr>\n",
       "      <th>1</th>\n",
       "      <td>13462</td>\n",
       "      <td>2017421</td>\n",
       "      <td>4</td>\n",
       "      <td>2005-08-09</td>\n",
       "    </tr>\n",
       "    <tr>\n",
       "      <th>2</th>\n",
       "      <td>6475</td>\n",
       "      <td>934053</td>\n",
       "      <td>4</td>\n",
       "      <td>2005-08-09</td>\n",
       "    </tr>\n",
       "    <tr>\n",
       "      <th>3</th>\n",
       "      <td>6007</td>\n",
       "      <td>1156578</td>\n",
       "      <td>5</td>\n",
       "      <td>2005-08-09</td>\n",
       "    </tr>\n",
       "    <tr>\n",
       "      <th>4</th>\n",
       "      <td>5085</td>\n",
       "      <td>2311323</td>\n",
       "      <td>4</td>\n",
       "      <td>2005-08-09</td>\n",
       "    </tr>\n",
       "  </tbody>\n",
       "</table>\n",
       "</div>"
      ],
      "text/plain": [
       "   MovieID   CustID  Ratings       Date\n",
       "0    17405  1557557        4 2005-08-09\n",
       "1    13462  2017421        4 2005-08-09\n",
       "2     6475   934053        4 2005-08-09\n",
       "3     6007  1156578        5 2005-08-09\n",
       "4     5085  2311323        4 2005-08-09"
      ]
     },
     "execution_count": 14,
     "metadata": {},
     "output_type": "execute_result"
    }
   ],
   "source": [
    "Test_data.reset_index(drop=True,inplace=True)\n",
    "Test_data.head()"
   ]
  },
  {
   "cell_type": "code",
   "execution_count": 15,
   "metadata": {},
   "outputs": [],
   "source": [
    "def to_million(number):\n",
    "    return str(number/10**6)+\"M\""
   ]
  },
  {
   "cell_type": "code",
   "execution_count": 16,
   "metadata": {},
   "outputs": [
    {
     "name": "stderr",
     "output_type": "stream",
     "text": [
      "<ipython-input-16-3df54d8b8a95>:3: UserWarning: FixedFormatter should only be used together with FixedLocator\n",
      "  ax.set_yticklabels([to_million(num) for num in ax.get_yticks()])\n"
     ]
    },
    {
     "data": {
      "image/png": "[encoded data removed]",
      "text/plain": [
       "<Figure size 864x576 with 1 Axes>"
      ]
     },
     "metadata": {},
     "output_type": "display_data"
    }
   ],
   "source": [
    "plt.figure(figsize=(12,8))\n",
    "ax=sns.countplot(x=\"Ratings\",data=Train_data)\n",
    "ax.set_yticklabels([to_million(num) for num in ax.get_yticks()])\n",
    "\n",
    "plt.tick_params(labelsize=15)\n",
    "plt.title(\"Rating Distribution\",fontsize=20)\n",
    "plt.xlabel(\"Ratings\",fontsize=20)\n",
    "plt.ylabel(\"Total of Rating (In Million)\",fontsize=20)\n",
    "plt.show()"
   ]
  },
  {
   "cell_type": "code",
   "execution_count": 17,
   "metadata": {},
   "outputs": [],
   "source": [
    "Train_data[\"DayOfWeek\"]=Train_data.Date.dt.day_name()"
   ]
  },
  {
   "cell_type": "code",
   "execution_count": 18,
   "metadata": {},
   "outputs": [
    {
     "data": {
      "text/html": [
       "<div>\n",
       "<style scoped>\n",
       "    .dataframe tbody tr th:only-of-type {\n",
       "        vertical-align: middle;\n",
       "    }\n",
       "\n",
       "    .dataframe tbody tr th {\n",
       "        vertical-align: top;\n",
       "    }\n",
       "\n",
       "    .dataframe thead th {\n",
       "        text-align: right;\n",
       "    }\n",
       "</style>\n",
       "<table border=\"1\" class=\"dataframe\">\n",
       "  <thead>\n",
       "    <tr style=\"text-align: right;\">\n",
       "      <th></th>\n",
       "      <th>MovieID</th>\n",
       "      <th>CustID</th>\n",
       "      <th>Ratings</th>\n",
       "      <th>Date</th>\n",
       "      <th>DayOfWeek</th>\n",
       "    </tr>\n",
       "  </thead>\n",
       "  <tbody>\n",
       "    <tr>\n",
       "      <th>0</th>\n",
       "      <td>17064</td>\n",
       "      <td>510180</td>\n",
       "      <td>2</td>\n",
       "      <td>1999-11-11</td>\n",
       "      <td>Thursday</td>\n",
       "    </tr>\n",
       "    <tr>\n",
       "      <th>1</th>\n",
       "      <td>16465</td>\n",
       "      <td>510180</td>\n",
       "      <td>3</td>\n",
       "      <td>1999-11-11</td>\n",
       "      <td>Thursday</td>\n",
       "    </tr>\n",
       "    <tr>\n",
       "      <th>2</th>\n",
       "      <td>8357</td>\n",
       "      <td>510180</td>\n",
       "      <td>4</td>\n",
       "      <td>1999-11-11</td>\n",
       "      <td>Thursday</td>\n",
       "    </tr>\n",
       "    <tr>\n",
       "      <th>3</th>\n",
       "      <td>14660</td>\n",
       "      <td>510180</td>\n",
       "      <td>2</td>\n",
       "      <td>1999-11-11</td>\n",
       "      <td>Thursday</td>\n",
       "    </tr>\n",
       "    <tr>\n",
       "      <th>4</th>\n",
       "      <td>8079</td>\n",
       "      <td>510180</td>\n",
       "      <td>2</td>\n",
       "      <td>1999-11-11</td>\n",
       "      <td>Thursday</td>\n",
       "    </tr>\n",
       "  </tbody>\n",
       "</table>\n",
       "</div>"
      ],
      "text/plain": [
       "   MovieID  CustID  Ratings       Date DayOfWeek\n",
       "0    17064  510180        2 1999-11-11  Thursday\n",
       "1    16465  510180        3 1999-11-11  Thursday\n",
       "2     8357  510180        4 1999-11-11  Thursday\n",
       "3    14660  510180        2 1999-11-11  Thursday\n",
       "4     8079  510180        2 1999-11-11  Thursday"
      ]
     },
     "execution_count": 18,
     "metadata": {},
     "output_type": "execute_result"
    }
   ],
   "source": [
    "Train_data.head()"
   ]
  },
  {
   "cell_type": "code",
   "execution_count": 19,
   "metadata": {},
   "outputs": [
    {
     "name": "stderr",
     "output_type": "stream",
     "text": [
      "<ipython-input-19-19d905d69786>:4: UserWarning: FixedFormatter should only be used together with FixedLocator\n",
      "  ax.set_yticklabels([to_million(num) for num in ax.get_yticks()])\n"
     ]
    },
    {
     "data": {
      "image/png": "[encoded data removed]",
      "text/plain": [
       "<Figure size 720x576 with 1 Axes>"
      ]
     },
     "metadata": {},
     "output_type": "display_data"
    }
   ],
   "source": [
    "plt.figure(figsize=(10,8))\n",
    "ax=Train_data.resample(\"M\",on=\"Date\")[\"Ratings\"].count().plot()\n",
    "\n",
    "ax.set_yticklabels([to_million(num) for num in ax.get_yticks()])\n",
    "ax.set_title(\"Number of Ratings per Month\",fontsize=20)\n",
    "plt.xlabel(\"Date\",fontsize=20)\n",
    "plt.ylabel(\"Total of Rating per Month(In Million)\",fontsize=20)\n",
    "plt.show()"
   ]
  },
  {
   "cell_type": "code",
   "execution_count": 20,
   "metadata": {},
   "outputs": [],
   "source": [
    "moveis_rated_per_user=Train_data.groupby(\"CustID\")[\"Ratings\"].count().sort_values(ascending=False)"
   ]
  },
  {
   "cell_type": "code",
   "execution_count": 21,
   "metadata": {},
   "outputs": [
    {
     "data": {
      "text/plain": [
       "CustID\n",
       "305344     8779\n",
       "2439493    8126\n",
       "387418     7884\n",
       "1639792    4983\n",
       "1461435    4846\n",
       "Name: Ratings, dtype: int64"
      ]
     },
     "execution_count": 21,
     "metadata": {},
     "output_type": "execute_result"
    }
   ],
   "source": [
    "moveis_rated_per_user.head()"
   ]
  },
  {
   "cell_type": "code",
   "execution_count": 22,
   "metadata": {},
   "outputs": [
    {
     "data": {
      "image/png": "[encoded data removed]",
      "text/plain": [
       "<Figure size 1008x504 with 2 Axes>"
      ]
     },
     "metadata": {},
     "output_type": "display_data"
    }
   ],
   "source": [
    "fig, axes=plt.subplots(nrows=1,ncols=2,figsize=(14,7))\n",
    "\n",
    "sns.kdeplot(moveis_rated_per_user.values,shade=True,ax=axes[0])\n",
    "axes[0].set_title(\"PDF\",fontsize=18)\n",
    "axes[0].set_xlabel(\"Number of Rating by user\",fontsize=18)\n",
    "axes[0].tick_params(labelsize=15)\n",
    "\n",
    "sns.kdeplot(moveis_rated_per_user.values,shade=True,cumulative=True,ax=axes[1])\n",
    "axes[1].set_title(\"CDF\",fontsize=18)\n",
    "axes[1].set_xlabel(\"Number of Rating by user\",fontsize=18)\n",
    "axes[1].tick_params(labelsize=15)\n",
    "\n",
    "fig.subplots_adjust(wspace=2)\n",
    "plt.tight_layout()\n",
    "plt.show()\n"
   ]
  },
  {
   "cell_type": "code",
   "execution_count": 23,
   "metadata": {},
   "outputs": [
    {
     "name": "stdout",
     "output_type": "stream",
     "text": [
      "Information about movie ratings grouped by users:\n"
     ]
    },
    {
     "data": {
      "text/plain": [
       "count    401901.00000\n",
       "mean        107.14104\n",
       "std         155.05350\n",
       "min           1.00000\n",
       "25%          19.00000\n",
       "50%          48.00000\n",
       "75%         133.00000\n",
       "max        8779.00000\n",
       "Name: Ratings, dtype: float64"
      ]
     },
     "execution_count": 23,
     "metadata": {},
     "output_type": "execute_result"
    }
   ],
   "source": [
    "print(\"Information about movie ratings grouped by users:\")\n",
    "moveis_rated_per_user.describe()"
   ]
  },
  {
   "cell_type": "code",
   "execution_count": 24,
   "metadata": {},
   "outputs": [],
   "source": [
    "quantiles=moveis_rated_per_user.quantile(np.arange(0,1.01,0.01))"
   ]
  },
  {
   "cell_type": "code",
   "execution_count": 25,
   "metadata": {},
   "outputs": [],
   "source": [
    "import warnings\n",
    "warnings.filterwarnings('ignore')"
   ]
  },
  {
   "cell_type": "code",
   "execution_count": 26,
   "metadata": {},
   "outputs": [
    {
     "data": {
      "image/png": "[encoded data removed]",
      "text/plain": [
       "<Figure size 720x432 with 1 Axes>"
      ]
     },
     "metadata": {},
     "output_type": "display_data"
    }
   ],
   "source": [
    "fig =plt.figure(figsize=(10,6))\n",
    "axes=fig.add_axes([0.1,0.1,1,1])\n",
    "axes.set_title(\"Quantile values of Rating per user\",fontsize=20)\n",
    "axes.set_xlabel(\"Quantiels\",fontsize=20)\n",
    "axes.set_ylabel(\"Rating Per User\",fontsize=20)\n",
    "axes.plot(quantiles)\n",
    "\n",
    "plt.scatter(x=quantiles.index[::5],y=quantiles.values[::5],c=\"red\",s=70,label=\"quantiles with 0.05 intervals\")\n",
    "plt.scatter(x=quantiles.index[::25],y=quantiles.values[::25],c=\"green\",s=70,label=\"quantiles with 0.25 intervals\")\n",
    "plt.legend(loc=\"upper left\",fontsize=20)\n",
    "\n",
    "for x,y in zip(quantiles.index[::25],quantiles.values[::25]):\n",
    "    plt.annotate(s='({},{})'.format(x,y),xy=(x,y),fontweight=\"bold\",fontsize=16,xytext=(x-0.05,y+180))\n",
    "\n",
    "axes.tick_params(labelsize=15)"
   ]
  },
  {
   "cell_type": "code",
   "execution_count": 27,
   "metadata": {},
   "outputs": [
    {
     "data": {
      "text/plain": [
       "0.00       1.0\n",
       "0.05       4.0\n",
       "0.10       8.0\n",
       "0.15      12.0\n",
       "0.20      15.0\n",
       "0.25      19.0\n",
       "0.30      23.0\n",
       "0.35      27.0\n",
       "0.40      33.0\n",
       "0.45      40.0\n",
       "0.50      48.0\n",
       "0.55      59.0\n",
       "0.60      72.0\n",
       "0.65      88.0\n",
       "0.70     108.0\n",
       "0.75     133.0\n",
       "0.80     166.0\n",
       "0.85     213.0\n",
       "0.90     281.0\n",
       "0.95     404.0\n",
       "1.00    8779.0\n",
       "Name: Ratings, dtype: float64"
      ]
     },
     "execution_count": 27,
     "metadata": {},
     "output_type": "execute_result"
    }
   ],
   "source": [
    "quantiles[::5]"
   ]
  },
  {
   "cell_type": "code",
   "execution_count": 28,
   "metadata": {},
   "outputs": [
    {
     "name": "stdout",
     "output_type": "stream",
     "text": [
      "Total number of rating below 75th Percentile ->301857\n",
      "Total number of rating above 75th Percentile ->100044\n"
     ]
    }
   ],
   "source": [
    "print(\"Total number of rating below 75th Percentile ->\" + str(sum(moveis_rated_per_user<=133)))\n",
    "print(\"Total number of rating above 75th Percentile ->\" + str(sum(moveis_rated_per_user>133)))"
   ]
  },
  {
   "cell_type": "markdown",
   "metadata": {},
   "source": [
    "## Analysis Per Movie"
   ]
  },
  {
   "cell_type": "code",
   "execution_count": 29,
   "metadata": {},
   "outputs": [],
   "source": [
    "rating_per_movie=Train_data.groupby(\"MovieID\")[\"Ratings\"].count().sort_values(ascending=False)"
   ]
  },
  {
   "cell_type": "code",
   "execution_count": 30,
   "metadata": {},
   "outputs": [
    {
     "data": {
      "image/png": "[encoded data removed]",
      "text/plain": [
       "<Figure size 864x432 with 1 Axes>"
      ]
     },
     "metadata": {},
     "output_type": "display_data"
    }
   ],
   "source": [
    "fig = plt.figure(figsize = (12, 6))\n",
    "axes = fig.add_axes([0.1,0.1,1,1])\n",
    "plt.title(\"Number of Ratings Per Movie\", fontsize = 20)\n",
    "plt.xlabel(\"Movie\", fontsize = 20)\n",
    "plt.ylabel(\"Count of Ratings\", fontsize = 20)\n",
    "plt.plot(rating_per_movie.values)\n",
    "plt.tick_params(labelsize = 15)\n",
    "axes.set_xticklabels([])\n",
    "plt.show()"
   ]
  },
  {
   "cell_type": "code",
   "execution_count": 31,
   "metadata": {},
   "outputs": [
    {
     "data": {
      "image/png": "[encoded data removed]",
      "text/plain": [
       "<Figure size 864x576 with 1 Axes>"
      ]
     },
     "metadata": {},
     "output_type": "display_data"
    }
   ],
   "source": [
    "fig = plt.figure(figsize = (12, 8))\n",
    "\n",
    "axes = sns.countplot(x = \"DayOfWeek\", data = Train_data)\n",
    "axes.set_title(\"Day of week VS Number of Ratings\", fontsize = 20)\n",
    "axes.set_xlabel(\"Day of Week\", fontsize = 20)\n",
    "axes.set_ylabel(\"Number of Ratings\", fontsize = 20)\n",
    "axes.set_yticklabels([to_million(num) for num in ax.get_yticks()])\n",
    "axes.tick_params(labelsize = 15)\n",
    "\n",
    "plt.show()"
   ]
  },
  {
   "cell_type": "code",
   "execution_count": 32,
   "metadata": {},
   "outputs": [
    {
     "data": {
      "image/png": "[encoded data removed]",
      "text/plain": [
       "<Figure size 864x576 with 1 Axes>"
      ]
     },
     "metadata": {},
     "output_type": "display_data"
    }
   ],
   "source": [
    "fig = plt.figure(figsize = (12, 8))\n",
    "\n",
    "axes = sns.boxplot(x = \"DayOfWeek\", y = \"Ratings\", data = Train_data)\n",
    "axes.set_title(\"Day of week VS Number of Ratings\", fontsize = 20)\n",
    "axes.set_xlabel(\"Day of Week\", fontsize = 20)\n",
    "axes.set_ylabel(\"Number of Ratings\", fontsize = 20)\n",
    "axes.tick_params(labelsize = 15)\n",
    "\n",
    "plt.show()"
   ]
  },
  {
   "cell_type": "code",
   "execution_count": 33,
   "metadata": {},
   "outputs": [
    {
     "data": {
      "text/plain": [
       "DayOfWeek\n",
       "Friday       3.589555\n",
       "Monday       3.577235\n",
       "Saturday     3.595120\n",
       "Sunday       3.596637\n",
       "Thursday     3.583570\n",
       "Tuesday      3.574852\n",
       "Wednesday    3.585002\n",
       "Name: Ratings, dtype: float64"
      ]
     },
     "execution_count": 33,
     "metadata": {},
     "output_type": "execute_result"
    }
   ],
   "source": [
    "average_ratings_dayofweek=Train_data.groupby(\"DayOfWeek\")[\"Ratings\"].mean()\n",
    "average_ratings_dayofweek"
   ]
  },
  {
   "cell_type": "code",
   "execution_count": 34,
   "metadata": {},
   "outputs": [
    {
     "name": "stdout",
     "output_type": "stream",
     "text": [
      "Creating USER_ITEM sparse matrix for train Data\n",
      "Sparse Data is already present in your disk, no need to create further. Loading Sparse Matrix\n",
      "Shape of Train Sparse matrix = (2649430, 17771)\n",
      "0:00:01.410659\n"
     ]
    }
   ],
   "source": [
    "startTime = datetime.now()\n",
    "print(\"Creating USER_ITEM sparse matrix for train Data\")\n",
    "if os.path.isfile(\"./Data/TrainUISparseData.npz\"):\n",
    "    print(\"Sparse Data is already present in your disk, no need to create further. Loading Sparse Matrix\")\n",
    "    TrainUISparseData = sparse.load_npz(\"./Data/TrainUISparseData.npz\")\n",
    "    print(\"Shape of Train Sparse matrix = \"+str(TrainUISparseData.shape))\n",
    "    \n",
    "else:\n",
    "    print(\"We are creating sparse data\")\n",
    "    TrainUISparseData = sparse.csr_matrix((Train_data.Ratings, (Train_data.CustID, Train_data.MovieID)))\n",
    "    print(\"Creation done. Shape of sparse matrix = \"+str(TrainUISparseData.shape))\n",
    "    print(\"Saving it into disk for furthur usage.\")\n",
    "    sparse.save_npz(\"./Data/TrainUISparseData.npz\", TrainUISparseData)\n",
    "    print(\"Done\\n\")\n",
    "\n",
    "print(datetime.now() - startTime)"
   ]
  },
  {
   "cell_type": "code",
   "execution_count": 35,
   "metadata": {},
   "outputs": [
    {
     "name": "stdout",
     "output_type": "stream",
     "text": [
      "Creating USER_ITEM sparse matrix for test Data\n",
      "Sparse Data is already present in your disk, no need to create further. Loading Sparse Matrix\n",
      "Shape of Test Sparse matrix = (2649430, 17771)\n",
      "0:00:00.654829\n"
     ]
    }
   ],
   "source": [
    "startTime = datetime.now()\n",
    "print(\"Creating USER_ITEM sparse matrix for test Data\")\n",
    "if os.path.isfile(\"./Data/TestUISparseData.npz\"):\n",
    "    print(\"Sparse Data is already present in your disk, no need to create further. Loading Sparse Matrix\")\n",
    "    TestUISparseData = sparse.load_npz(\"./Data/TestUISparseData.npz\")\n",
    "    print(\"Shape of Test Sparse matrix = \"+str(TestUISparseData.shape))\n",
    "    \n",
    "else:\n",
    "    print(\"We are creating sparse data\")\n",
    "    TestUISparseData = sparse.csr_matrix((Test_data.Ratings, (Test_data.CustID, Test_data.MovieID)))\n",
    "    print(\"Creation done. Shape of sparse matrix = \"+str(TestUISparseData.shape))\n",
    "    print(\"Saving it into disk for furthur usage.\")\n",
    "    sparse.save_npz(\"./Data/TestUISparseData.npz\", TestUISparseData)\n",
    "    print(\"Done\\n\")\n",
    "\n",
    "print(datetime.now() - startTime)"
   ]
  },
  {
   "cell_type": "code",
   "execution_count": 36,
   "metadata": {},
   "outputs": [
    {
     "name": "stdout",
     "output_type": "stream",
     "text": [
      "Sparsity Of Train matrix : 99.90854433187319% \n"
     ]
    }
   ],
   "source": [
    "rows,cols = TrainUISparseData.shape\n",
    "presentElements = TrainUISparseData.count_nonzero()\n",
    "\n",
    "print(\"Sparsity Of Train matrix : {}% \".format((1-(presentElements/(rows*cols)))*100))"
   ]
  },
  {
   "cell_type": "code",
   "execution_count": 37,
   "metadata": {},
   "outputs": [
    {
     "name": "stdout",
     "output_type": "stream",
     "text": [
      "Sparsity Of Test matrix : 99.97713608243731% \n"
     ]
    }
   ],
   "source": [
    "rows,cols = TestUISparseData.shape\n",
    "presentElements = TestUISparseData.count_nonzero()\n",
    "\n",
    "print(\"Sparsity Of Test matrix : {}% \".format((1-(presentElements/(rows*cols)))*100))"
   ]
  },
  {
   "cell_type": "markdown",
   "metadata": {},
   "source": [
    "## Finding Global average of all movie ratings, Average rating per user, and Average rating per movie"
   ]
  },
  {
   "cell_type": "code",
   "execution_count": 38,
   "metadata": {},
   "outputs": [],
   "source": [
    "def getAverageRatings(sparseMatrix, if_user):\n",
    "    ax= 1 if if_user else 0\n",
    "    sumOfRatings=sparseMatrix.sum(axis=ax).A1\n",
    "    \n",
    "    noOfRatings = (sparseMatrix!=0).sum(axis = ax).A1  \n",
    "    \n",
    "    rows, cols = sparseMatrix.shape\n",
    "    averageRatings = {i: sumOfRatings[i]/noOfRatings[i] for i in range(rows if if_user else cols) if noOfRatings[i]!=0}\n",
    "    return averageRatings"
   ]
  },
  {
   "cell_type": "code",
   "execution_count": 39,
   "metadata": {},
   "outputs": [
    {
     "name": "stdout",
     "output_type": "stream",
     "text": [
      "Global Average Rating 3.5844935859517806\n"
     ]
    }
   ],
   "source": [
    "Global_Average_Rating = TrainUISparseData.sum()/TrainUISparseData.count_nonzero()\n",
    "print(\"Global Average Rating {}\".format(Global_Average_Rating))"
   ]
  },
  {
   "cell_type": "code",
   "execution_count": 40,
   "metadata": {},
   "outputs": [
    {
     "name": "stdout",
     "output_type": "stream",
     "text": [
      "Average rating of user 25 = 3.0\n"
     ]
    }
   ],
   "source": [
    "AvgRatingUser = getAverageRatings(TrainUISparseData, True)\n",
    "print(\"Average rating of user 25 = {}\".format(AvgRatingUser[25]))"
   ]
  },
  {
   "cell_type": "code",
   "execution_count": 41,
   "metadata": {},
   "outputs": [
    {
     "name": "stdout",
     "output_type": "stream",
     "text": [
      "Average rating of movie 4500 = 3.28\n"
     ]
    }
   ],
   "source": [
    "AvgRatingMovie = getAverageRatings(TrainUISparseData, False)\n",
    "print(\"Average rating of movie 4500 = {}\".format(AvgRatingMovie[4500]))"
   ]
  },
  {
   "cell_type": "code",
   "execution_count": 42,
   "metadata": {},
   "outputs": [
    {
     "data": {
      "image/png": "[encoded data removed]",
      "text/plain": [
       "<Figure size 1152x504 with 2 Axes>"
      ]
     },
     "metadata": {},
     "output_type": "display_data"
    }
   ],
   "source": [
    "fig, axes = plt.subplots(nrows = 1, ncols = 2, figsize = (16, 7))\n",
    "fig.suptitle('Avg Ratings per User and per Movie', fontsize=25)\n",
    "\n",
    "user_average = [rats for rats in AvgRatingUser.values()]\n",
    "sns.distplot(user_average, hist = False, ax = axes[0], label = \"PDF\")\n",
    "sns.kdeplot(user_average, cumulative = True, ax = axes[0], label = \"CDF\")\n",
    "axes[0].set_title(\"Average Rating Per User\", fontsize=20)\n",
    "axes[0].tick_params(labelsize = 15)\n",
    "axes[0].legend(loc='upper left', fontsize = 17)\n",
    "\n",
    "movie_average = [ratm for ratm in AvgRatingMovie.values()]\n",
    "sns.distplot(movie_average, hist = False, ax = axes[1], label = \"PDF\")\n",
    "sns.kdeplot(movie_average, cumulative = True, ax = axes[1], label = \"CDF\")\n",
    "axes[1].set_title(\"Average Rating Per Movie\", fontsize=20)\n",
    "axes[1].tick_params(labelsize = 15)\n",
    "axes[1].legend(loc='upper left', fontsize = 17)\n",
    "\n",
    "plt.subplots_adjust(wspace=0.2, top=0.85)\n",
    "plt.show()"
   ]
  },
  {
   "cell_type": "markdown",
   "metadata": {},
   "source": [
    "# Cold Start Problem\n",
    "## Cold Start Problem with Users"
   ]
  },
  {
   "cell_type": "code",
   "execution_count": 43,
   "metadata": {},
   "outputs": [
    {
     "name": "stdout",
     "output_type": "stream",
     "text": [
      "Total number of users = 478723\n",
      "Number of Users in train data= 401901\n",
      "Number of Users not present in train data = 76822(16.0%)\n"
     ]
    }
   ],
   "source": [
    "total_users=len(np.unique(final_data[\"CustID\"]))\n",
    "train_users=len(AvgRatingUser)\n",
    "uncommonUsers=total_users-train_users\n",
    "\n",
    "print(\"Total number of users = {}\".format(total_users))\n",
    "print(\"Number of Users in train data= {}\".format(train_users))\n",
    "print(\"Number of Users not present in train data = {}({}%)\".format(uncommonUsers, np.round((uncommonUsers/total_users)*100), 2))"
   ]
  },
  {
   "cell_type": "code",
   "execution_count": 44,
   "metadata": {},
   "outputs": [
    {
     "name": "stdout",
     "output_type": "stream",
     "text": [
      "Total number of Movies = 9114\n",
      "Number of Movies in train data= 8931\n",
      "Number of Movies not present in train data = 183(2.0%)\n"
     ]
    }
   ],
   "source": [
    "total_movies = len(np.unique(final_data[\"MovieID\"]))\n",
    "train_movies = len(AvgRatingMovie)\n",
    "uncommonMovies = total_movies - train_movies\n",
    "                  \n",
    "print(\"Total number of Movies = {}\".format(total_movies))\n",
    "print(\"Number of Movies in train data= {}\".format(train_movies))\n",
    "print(\"Number of Movies not present in train data = {}({}%)\".format(uncommonMovies, np.round((uncommonMovies/total_movies)*100), 2))"
   ]
  },
  {
   "cell_type": "markdown",
   "metadata": {},
   "source": [
    "# Computing Similarity Matrices\n",
    "## Computing User-User Similarity Matrix"
   ]
  },
  {
   "cell_type": "code",
   "execution_count": 45,
   "metadata": {},
   "outputs": [
    {
     "name": "stdout",
     "output_type": "stream",
     "text": [
      "6\n",
      "7\n",
      "10\n",
      "25\n",
      "33\n",
      "42\n",
      "59\n",
      "79\n",
      "83\n",
      "87\n",
      "94\n",
      "97\n",
      "131\n",
      "134\n",
      "142\n",
      "149\n",
      "158\n",
      "168\n",
      "169\n",
      "178\n",
      "183\n",
      "188\n",
      "189\n",
      "192\n",
      "195\n",
      "199\n",
      "201\n",
      "242\n",
      "247\n",
      "248\n",
      "261\n",
      "265\n",
      "266\n",
      "267\n",
      "268\n",
      "283\n",
      "291\n",
      "296\n",
      "298\n",
      "299\n",
      "301\n",
      "302\n",
      "304\n",
      "305\n",
      "307\n",
      "308\n",
      "310\n",
      "312\n",
      "314\n",
      "330\n",
      "331\n",
      "333\n",
      "352\n",
      "363\n",
      "368\n",
      "369\n",
      "379\n",
      "383\n",
      "384\n",
      "385\n",
      "392\n",
      "413\n",
      "416\n",
      "424\n",
      "437\n",
      "439\n",
      "440\n",
      "442\n",
      "453\n",
      "462\n",
      "470\n",
      "471\n",
      "477\n",
      "478\n",
      "479\n",
      "481\n",
      "485\n",
      "490\n",
      "491\n",
      "492\n",
      "495\n",
      "508\n",
      "515\n",
      "517\n",
      "527\n",
      "529\n",
      "536\n",
      "540\n",
      "544\n",
      "546\n",
      "550\n",
      "561\n",
      "576\n",
      "585\n",
      "592\n",
      "596\n",
      "602\n",
      "609\n",
      "614\n",
      "616\n"
     ]
    }
   ],
   "source": [
    "row_index, col_index = TrainUISparseData.nonzero()\n",
    "rows = np.unique(row_index)\n",
    "for i in rows[:100]:\n",
    "    print(i)"
   ]
  },
  {
   "cell_type": "code",
   "execution_count": 46,
   "metadata": {},
   "outputs": [],
   "source": [
    "def getUser_UserSimilarity(sparseMatrix,top=100):\n",
    "    startTimestamp20=datetime.now()\n",
    "    \n",
    "    row_index,col_index=sparseMatrix.nonzero()\n",
    "    \n",
    "    rows=np.unique(row_index)\n",
    "    similarMatrix=np.zeros(61700).reshape(617,100)\n",
    "    \n",
    "    timeTaken= []\n",
    "    howManyDone=0\n",
    "    \n",
    "    for row in rows[:top]:\n",
    "        howManyDone+=1\n",
    "        startTimestamp=datetime.now().timestamp()\n",
    "        sim=cosine_similarity(sparseMatrix.getrow(row),sparseMatrix).ravel()\n",
    "        top100_similar_indices=sim.argsort()[-top:]\n",
    "        top100_similar = sim[top100_similar_indices]\n",
    "        similarMatrix[row] = top100_similar\n",
    "        timeforOne = datetime.now().timestamp() - startTimestamp\n",
    "        timeTaken.append(timeforOne)\n",
    "        if howManyDone % 20 == 0:\n",
    "            print(\"Time elapsed for {} users = {}sec\".format(howManyDone, (datetime.now() - startTimestamp20)))\n",
    "    print(\"Average Time taken to compute similarity matrix for 1 user = \"+str(sum(timeTaken)/len(timeTaken))+\"seconds\")\n",
    "    \n",
    "    fig = plt.figure(figsize = (12,8))\n",
    "    plt.plot(timeTaken, label = 'Time Taken For Each User')\n",
    "    plt.plot(np.cumsum(timeTaken), label='Cumulative Time')\n",
    "    plt.legend(loc='upper left', fontsize = 15)\n",
    "    plt.xlabel('Users', fontsize = 20)\n",
    "    plt.ylabel('Time(Seconds)', fontsize = 20)\n",
    "    plt.tick_params(labelsize = 15)\n",
    "    plt.show()\n",
    "    \n",
    "    return similarMatrix"
   ]
  },
  {
   "cell_type": "code",
   "execution_count": 47,
   "metadata": {},
   "outputs": [
    {
     "name": "stdout",
     "output_type": "stream",
     "text": [
      "Time elapsed for 20 users = 0:00:38.501206sec\n",
      "Time elapsed for 40 users = 0:01:16.498813sec\n",
      "Time elapsed for 60 users = 0:01:51.317434sec\n",
      "Time elapsed for 80 users = 0:02:42.906302sec\n",
      "Time elapsed for 100 users = 0:03:25.743244sec\n",
      "Average Time taken to compute similarity matrix for 1 user = 2.0424892473220826seconds\n"
     ]
    },
    {
     "data": {
      "image/png": "[encoded data removed]",
      "text/plain": [
       "<Figure size 864x576 with 1 Axes>"
      ]
     },
     "metadata": {},
     "output_type": "display_data"
    }
   ],
   "source": [
    "simMatrix = getUser_UserSimilarity(TrainUISparseData, 100)"
   ]
  },
  {
   "cell_type": "markdown",
   "metadata": {},
   "source": [
    "# Movie-Movie Similarity Matrix"
   ]
  },
  {
   "cell_type": "code",
   "execution_count": 48,
   "metadata": {},
   "outputs": [
    {
     "name": "stdout",
     "output_type": "stream",
     "text": [
      "File exists in the disk. Loading the file...\n",
      "Dimension of Matrix = (17771, 17771)\n",
      "0:00:05.227068\n"
     ]
    }
   ],
   "source": [
    "start = datetime.now()\n",
    "\n",
    "if not os.path.isfile(\"./Data/m_m_similarity.npz\"):\n",
    "    print(\"Movie-Movie Similarity file does not exist in your disk. Creating Movie-Movie Similarity Matrix...\")\n",
    "    \n",
    "    m_m_similarity = cosine_similarity(TrainUISparseData.T, dense_output = False)\n",
    "    print(\"Done\")\n",
    "    print(\"Dimension of Matrix = {}\".format(m_m_similarity.shape))\n",
    "    print(\"Storing the Movie Similarity matrix on disk for further usage\")\n",
    "    sparse.save_npz(\"./Data/m_m_similarity.npz\", m_m_similarity)\n",
    "else:\n",
    "    print(\"File exists in the disk. Loading the file...\")\n",
    "    m_m_similarity = sparse.load_npz(\"./Data/m_m_similarity.npz\")\n",
    "    print(\"Dimension of Matrix = {}\".format(m_m_similarity.shape))\n",
    "    \n",
    "print(datetime.now() - start)"
   ]
  },
  {
   "cell_type": "code",
   "execution_count": 49,
   "metadata": {},
   "outputs": [],
   "source": [
    "movie_ids=np.unique(m_m_similarity.nonzero())\n",
    "\n",
    "similar_movies_dict=dict()\n",
    "for movie in movie_ids:\n",
    "    smlr=np.argsort(-m_m_similarity[movie].toarray().ravel())[1:100]\n",
    "    similar_movies_dict[movie]=smlr"
   ]
  },
  {
   "cell_type": "code",
   "execution_count": 50,
   "metadata": {},
   "outputs": [],
   "source": [
    "\n",
    "movie_titles_df = pd.read_csv(\"./Data/movie_titles.csv\",sep = \",\", header = None, names=['MovieID', 'Year_of_Release', 'Movie_Title'], index_col = \"MovieID\", encoding = \"iso8859_2\") "
   ]
  },
  {
   "cell_type": "code",
   "execution_count": 51,
   "metadata": {},
   "outputs": [
    {
     "data": {
      "text/html": [
       "<div>\n",
       "<style scoped>\n",
       "    .dataframe tbody tr th:only-of-type {\n",
       "        vertical-align: middle;\n",
       "    }\n",
       "\n",
       "    .dataframe tbody tr th {\n",
       "        vertical-align: top;\n",
       "    }\n",
       "\n",
       "    .dataframe thead th {\n",
       "        text-align: right;\n",
       "    }\n",
       "</style>\n",
       "<table border=\"1\" class=\"dataframe\">\n",
       "  <thead>\n",
       "    <tr style=\"text-align: right;\">\n",
       "      <th></th>\n",
       "      <th>Year_of_Release</th>\n",
       "      <th>Movie_Title</th>\n",
       "    </tr>\n",
       "    <tr>\n",
       "      <th>MovieID</th>\n",
       "      <th></th>\n",
       "      <th></th>\n",
       "    </tr>\n",
       "  </thead>\n",
       "  <tbody>\n",
       "    <tr>\n",
       "      <th>1</th>\n",
       "      <td>2003.0</td>\n",
       "      <td>Dinosaur Planet</td>\n",
       "    </tr>\n",
       "    <tr>\n",
       "      <th>2</th>\n",
       "      <td>2004.0</td>\n",
       "      <td>Isle of Man TT 2004 Review</td>\n",
       "    </tr>\n",
       "    <tr>\n",
       "      <th>3</th>\n",
       "      <td>1997.0</td>\n",
       "      <td>Character</td>\n",
       "    </tr>\n",
       "    <tr>\n",
       "      <th>4</th>\n",
       "      <td>1994.0</td>\n",
       "      <td>Paula Abdul's Get Up &amp; Dance</td>\n",
       "    </tr>\n",
       "    <tr>\n",
       "      <th>5</th>\n",
       "      <td>2004.0</td>\n",
       "      <td>The Rise and Fall of ECW</td>\n",
       "    </tr>\n",
       "  </tbody>\n",
       "</table>\n",
       "</div>"
      ],
      "text/plain": [
       "         Year_of_Release                   Movie_Title\n",
       "MovieID                                               \n",
       "1                 2003.0               Dinosaur Planet\n",
       "2                 2004.0    Isle of Man TT 2004 Review\n",
       "3                 1997.0                     Character\n",
       "4                 1994.0  Paula Abdul's Get Up & Dance\n",
       "5                 2004.0      The Rise and Fall of ECW"
      ]
     },
     "execution_count": 51,
     "metadata": {},
     "output_type": "execute_result"
    }
   ],
   "source": [
    "movie_titles_df.head()"
   ]
  },
  {
   "cell_type": "code",
   "execution_count": 52,
   "metadata": {},
   "outputs": [
    {
     "name": "stdout",
     "output_type": "stream",
     "text": [
      "Name of the movie -------> Godzilla's Revenge\n",
      "Number of ratings by users for movie Godzilla's Revenge is 285\n",
      "Number of similar movies to Godzilla's Revenge is 8863\n"
     ]
    }
   ],
   "source": [
    "movieID_GR = 17765\n",
    "\n",
    "print(\"Name of the movie -------> \"+str(movie_titles_df.loc[movieID_GR][1]))\n",
    "\n",
    "print(\"Number of ratings by users for movie {} is {}\".format(movie_titles_df.loc[movieID_GR][1], TrainUISparseData[:,movieID_GR].getnnz()))\n",
    "\n",
    "print(\"Number of similar movies to {} is {}\".format(movie_titles_df.loc[movieID_GR][1], m_m_similarity[movieID_GR].count_nonzero()))"
   ]
  },
  {
   "cell_type": "code",
   "execution_count": 53,
   "metadata": {},
   "outputs": [],
   "source": [
    "all_similar=sorted(m_m_similarity[movieID_GR].toarray().ravel(),reverse=True)[1:]\n",
    "\n",
    "similar_100=all_similar[:101]"
   ]
  },
  {
   "cell_type": "code",
   "execution_count": 54,
   "metadata": {},
   "outputs": [
    {
     "data": {
      "image/png": "[encoded data removed]",
      "text/plain": [
       "<Figure size 720x576 with 1 Axes>"
      ]
     },
     "metadata": {},
     "output_type": "display_data"
    }
   ],
   "source": [
    "plt.figure(figsize = (10, 8))\n",
    "plt.plot(all_similar, label = \"All Similar\")\n",
    "plt.plot(similar_100, label = \"Top 100 Similar Movies\")\n",
    "plt.title(\"Similar Movies to Godzilla's Revenge\", fontsize = 25)\n",
    "plt.ylabel(\"Cosine Similarity Values\", fontsize = 20)\n",
    "plt.tick_params(labelsize = 15)\n",
    "plt.legend(fontsize = 20)\n",
    "plt.show()"
   ]
  },
  {
   "cell_type": "code",
   "execution_count": 55,
   "metadata": {},
   "outputs": [
    {
     "data": {
      "text/html": [
       "<div>\n",
       "<style scoped>\n",
       "    .dataframe tbody tr th:only-of-type {\n",
       "        vertical-align: middle;\n",
       "    }\n",
       "\n",
       "    .dataframe tbody tr th {\n",
       "        vertical-align: top;\n",
       "    }\n",
       "\n",
       "    .dataframe thead th {\n",
       "        text-align: right;\n",
       "    }\n",
       "</style>\n",
       "<table border=\"1\" class=\"dataframe\">\n",
       "  <thead>\n",
       "    <tr style=\"text-align: right;\">\n",
       "      <th></th>\n",
       "      <th>Year_of_Release</th>\n",
       "      <th>Movie_Title</th>\n",
       "    </tr>\n",
       "    <tr>\n",
       "      <th>MovieID</th>\n",
       "      <th></th>\n",
       "      <th></th>\n",
       "    </tr>\n",
       "  </thead>\n",
       "  <tbody>\n",
       "    <tr>\n",
       "      <th>15810</th>\n",
       "      <td>1964.0</td>\n",
       "      <td>Godzilla vs. Mothra</td>\n",
       "    </tr>\n",
       "    <tr>\n",
       "      <th>5907</th>\n",
       "      <td>1956.0</td>\n",
       "      <td>Godzilla: King of the Monsters</td>\n",
       "    </tr>\n",
       "    <tr>\n",
       "      <th>14623</th>\n",
       "      <td>1971.0</td>\n",
       "      <td>Godzilla vs. Hedorah</td>\n",
       "    </tr>\n",
       "    <tr>\n",
       "      <th>8233</th>\n",
       "      <td>1968.0</td>\n",
       "      <td>Destroy All Monsters</td>\n",
       "    </tr>\n",
       "    <tr>\n",
       "      <th>17746</th>\n",
       "      <td>1991.0</td>\n",
       "      <td>Godzilla &amp; Mothra: Battle for Earth / Vs. King...</td>\n",
       "    </tr>\n",
       "    <tr>\n",
       "      <th>15123</th>\n",
       "      <td>1995.0</td>\n",
       "      <td>Godzilla vs. Destroyah / Godzilla vs. Space Go...</td>\n",
       "    </tr>\n",
       "    <tr>\n",
       "      <th>8601</th>\n",
       "      <td>1997.0</td>\n",
       "      <td>Rebirth of Mothra 1 &amp; 2: Double Feature</td>\n",
       "    </tr>\n",
       "    <tr>\n",
       "      <th>8656</th>\n",
       "      <td>1993.0</td>\n",
       "      <td>Godzilla vs. Mechagodzilla II</td>\n",
       "    </tr>\n",
       "    <tr>\n",
       "      <th>7140</th>\n",
       "      <td>2003.0</td>\n",
       "      <td>Godzilla: Tokyo S.O.S.</td>\n",
       "    </tr>\n",
       "    <tr>\n",
       "      <th>7228</th>\n",
       "      <td>1996.0</td>\n",
       "      <td>Gamera 2: Attack of Legion</td>\n",
       "    </tr>\n",
       "  </tbody>\n",
       "</table>\n",
       "</div>"
      ],
      "text/plain": [
       "         Year_of_Release                                        Movie_Title\n",
       "MovieID                                                                    \n",
       "15810             1964.0                                Godzilla vs. Mothra\n",
       "5907              1956.0                     Godzilla: King of the Monsters\n",
       "14623             1971.0                               Godzilla vs. Hedorah\n",
       "8233              1968.0                               Destroy All Monsters\n",
       "17746             1991.0  Godzilla & Mothra: Battle for Earth / Vs. King...\n",
       "15123             1995.0  Godzilla vs. Destroyah / Godzilla vs. Space Go...\n",
       "8601              1997.0            Rebirth of Mothra 1 & 2: Double Feature\n",
       "8656              1993.0                      Godzilla vs. Mechagodzilla II\n",
       "7140              2003.0                             Godzilla: Tokyo S.O.S.\n",
       "7228              1996.0                         Gamera 2: Attack of Legion"
      ]
     },
     "execution_count": 55,
     "metadata": {},
     "output_type": "execute_result"
    }
   ],
   "source": [
    "movie_titles_df.loc[similar_movies_dict[movieID_GR][:10]]"
   ]
  },
  {
   "cell_type": "markdown",
   "metadata": {},
   "source": [
    "# Machine Learning Models"
   ]
  },
  {
   "cell_type": "code",
   "execution_count": 56,
   "metadata": {},
   "outputs": [],
   "source": [
    "def get_sample_sparse_matrix(sparseMatrix, n_users,n_movies):\n",
    "    startTime=datetime.now()\n",
    "    users, movies, ratings=sparse.find(sparseMatrix)\n",
    "    uniq_users=np.unique(users)\n",
    "    uniq_movies=np.unique(movies)\n",
    "    \n",
    "    np.random.seed(15)\n",
    "    userS=np.random.choice(uniq_users,n_users,replace=False)\n",
    "    movieS=np.random.choice(uniq_movies,n_movies,replace=False)\n",
    "    mask=np.logical_and(np.isin(users,userS),np.isin(movies,movieS))\n",
    "    sparse_sample=sparse.csr_matrix((ratings[mask],(users[mask],movies[mask])),\n",
    "                                  shape=(max(userS)+1,max(movieS)+1))\n",
    "    print(\"Sparse Matrix creation done. Saving it for later use.\")\n",
    "    sparse.save_npz(path, sparse_sample)\n",
    "    print(\"Done\")\n",
    "    print(\"Shape of Sparse Sampled Matrix = \"+str(sparse_sample.shape))\n",
    "    \n",
    "    print(datetime.now() - start)\n",
    "    return sparse_sample"
   ]
  },
  {
   "cell_type": "code",
   "execution_count": 57,
   "metadata": {},
   "outputs": [
    {
     "name": "stdout",
     "output_type": "stream",
     "text": [
      "File is already present in the disk. Loading the file...\n",
      "File loading done.\n",
      "Shape of Train Sample Sparse Matrix = (2649117, 17764)\n"
     ]
    }
   ],
   "source": [
    "path = \"./Data/TrainUISparseData_Sample.npz\"\n",
    "if not os.path.isfile(path):\n",
    "    print(\"Sample sparse matrix is not present in the disk. We are creating it...\")\n",
    "    train_sample_sparse = get_sample_sparse_matrix(TrainUISparseData, 4000, 400)\n",
    "else:\n",
    "    print(\"File is already present in the disk. Loading the file...\")\n",
    "    train_sample_sparse = sparse.load_npz(path)\n",
    "    print(\"File loading done.\")\n",
    "    print(\"Shape of Train Sample Sparse Matrix = \"+str(train_sample_sparse.shape))"
   ]
  },
  {
   "cell_type": "markdown",
   "metadata": {},
   "source": [
    "# For Test Data"
   ]
  },
  {
   "cell_type": "code",
   "execution_count": 58,
   "metadata": {},
   "outputs": [
    {
     "name": "stdout",
     "output_type": "stream",
     "text": [
      "File is already present in the disk. Loading the file...\n",
      "File loading done.\n",
      "Shape of Test Sample Sparse Matrix = (2647588, 17689)\n"
     ]
    }
   ],
   "source": [
    "path = \"./Data/TestUISparseData_Sample.npz\"\n",
    "if not os.path.isfile(path):\n",
    "    print(\"Sample sparse matrix is not present in the disk. We are creating it...\")\n",
    "    test_sample_sparse = get_sample_sparse_matrix(TestUISparseData, 2000, 200)\n",
    "else:\n",
    "    print(\"File is already present in the disk. Loading the file...\")\n",
    "    test_sample_sparse = sparse.load_npz(path)\n",
    "    print(\"File loading done.\")\n",
    "    print(\"Shape of Test Sample Sparse Matrix = \"+str(test_sample_sparse.shape))"
   ]
  },
  {
   "cell_type": "markdown",
   "metadata": {},
   "source": [
    "## Finding Global Average of all movie ratings, Average rating per User, and Average rating per Movie (from sampled train)"
   ]
  },
  {
   "cell_type": "code",
   "execution_count": 59,
   "metadata": {},
   "outputs": [
    {
     "name": "stdout",
     "output_type": "stream",
     "text": [
      "Global average of all movies ratings in Train Sample Sparse is 3.58\n"
     ]
    }
   ],
   "source": [
    "print(\"Global average of all movies ratings in Train Sample Sparse is {}\".format(np.round((train_sample_sparse.sum()/train_sample_sparse.count_nonzero()), 2)))"
   ]
  },
  {
   "cell_type": "code",
   "execution_count": 60,
   "metadata": {},
   "outputs": [
    {
     "name": "stdout",
     "output_type": "stream",
     "text": [
      "Average move rating for movie 14890 is 3.2870967741935484\n"
     ]
    }
   ],
   "source": [
    "globalAvgMovies = getAverageRatings(train_sample_sparse, False)\n",
    "print(\"Average move rating for movie 14890 is {}\".format(globalAvgMovies[14890]))"
   ]
  },
  {
   "cell_type": "code",
   "execution_count": 61,
   "metadata": {},
   "outputs": [
    {
     "name": "stdout",
     "output_type": "stream",
     "text": [
      "Average user rating for user 16879 is 3.738095238095238\n"
     ]
    }
   ],
   "source": [
    "globalAvgUsers = getAverageRatings(train_sample_sparse, True)\n",
    "print(\"Average user rating for user 16879 is {}\".format(globalAvgMovies[16879]))"
   ]
  },
  {
   "cell_type": "markdown",
   "metadata": {},
   "source": [
    "## Featurizing data"
   ]
  },
  {
   "cell_type": "code",
   "execution_count": 62,
   "metadata": {},
   "outputs": [
    {
     "name": "stdout",
     "output_type": "stream",
     "text": [
      "No of ratings in Our Sampled train matrix is : 19214\n",
      "No of ratings in Our Sampled test matrix is : 1150\n"
     ]
    }
   ],
   "source": [
    "print(\"No of ratings in Our Sampled train matrix is : {}\".format(train_sample_sparse.count_nonzero()))\n",
    "print(\"No of ratings in Our Sampled test matrix is : {}\".format(test_sample_sparse.count_nonzero()))"
   ]
  },
  {
   "cell_type": "code",
   "execution_count": 63,
   "metadata": {},
   "outputs": [],
   "source": [
    "sample_train_users, sample_train_movies, sample_train_ratings = sparse.find(train_sample_sparse)"
   ]
  },
  {
   "cell_type": "code",
   "execution_count": 64,
   "metadata": {},
   "outputs": [
    {
     "name": "stdout",
     "output_type": "stream",
     "text": [
      "File is already present in your disk. You do not have to prepare it again.\n"
     ]
    }
   ],
   "source": [
    "if os.path.isfile(\"./Data/Train_Regression.csv\"):\n",
    "    print(\"File is already present in your disk. You do not have to prepare it again.\")\n",
    "else:\n",
    "    startTime = datetime.now()\n",
    "    print(\"Preparing Train csv file for {} rows\".format(len(sample_train_ratings)))\n",
    "    with open(\"./Data/Train_Regression.csv\", mode = \"w\") as data:\n",
    "        count = 0\n",
    "        for user, movie, rating in zip(sample_train_users, sample_train_movies, sample_train_ratings):\n",
    "            row = list()\n",
    "            row.append(user)  #appending user ID\n",
    "            row.append(movie) #appending movie ID\n",
    "            row.append(train_sample_sparse.sum()/train_sample_sparse.count_nonzero()) #appending global average rating\n",
    "\n",
    "#----------------------------------Ratings given to \"movie\" by top 5 similar users with \"user\"--------------------#\n",
    "            similar_users = cosine_similarity(train_sample_sparse[user], train_sample_sparse).ravel()\n",
    "            similar_users_indices = np.argsort(-similar_users)[1:]\n",
    "            similar_users_ratings = train_sample_sparse[similar_users_indices, movie].toarray().ravel()\n",
    "            top_similar_user_ratings = list(similar_users_ratings[similar_users_ratings != 0][:5])\n",
    "            top_similar_user_ratings.extend([globalAvgMovies[movie]]*(5-len(top_similar_user_ratings)))\n",
    "            #above line means that if top 5 ratings are not available then rest of the ratings will be filled by \"movie\" average\n",
    "            #rating. Let say only 3 out of 5 ratings are available then rest 2 will be \"movie\" average rating.\n",
    "            row.extend(top_similar_user_ratings)\n",
    "            \n",
    " #----------------------------------Ratings given by \"user\" to top 5 similar movies with \"movie\"------------------#\n",
    "            similar_movies = cosine_similarity(train_sample_sparse[:,movie].T, train_sample_sparse.T).ravel()\n",
    "            similar_movies_indices = np.argsort(-similar_movies)[1:]\n",
    "            similar_movies_ratings = train_sample_sparse[user, similar_movies_indices].toarray().ravel()\n",
    "            top_similar_movie_ratings = list(similar_movies_ratings[similar_movies_ratings != 0][:5])\n",
    "            top_similar_movie_ratings.extend([globalAvgUsers[user]]*(5-len(top_similar_movie_ratings)))\n",
    "            #above line means that if top 5 ratings are not available then rest of the ratings will be filled by \"user\" average\n",
    "            #rating. Let say only 3 out of 5 ratings are available then rest 2 will be \"user\" average rating.\n",
    "            row.extend(top_similar_movie_ratings)\n",
    "            \n",
    " #----------------------------------Appending \"user\" average, \"movie\" average & rating of \"user\"\"movie\"-----------#\n",
    "            row.append(globalAvgUsers[user])\n",
    "            row.append(globalAvgMovies[movie])\n",
    "            row.append(rating)\n",
    "            \n",
    "#-----------------------------------Converting rows and appending them as comma separated values to csv file------#\n",
    "            data.write(\",\".join(map(str, row)))\n",
    "            data.write(\"\\n\")\n",
    "    \n",
    "            count += 1\n",
    "            if count % 2000 == 0:\n",
    "                print(\"Done for {}. Time elapsed: {}\".format(count, (datetime.now() - startTime)))\n",
    "                \n",
    "    print(\"Total Time for {} rows = {}\".format(len(sample_train_ratings), (datetime.now() - startTime)))"
   ]
  },
  {
   "cell_type": "code",
   "execution_count": 65,
   "metadata": {},
   "outputs": [
    {
     "data": {
      "text/html": [
       "<div>\n",
       "<style scoped>\n",
       "    .dataframe tbody tr th:only-of-type {\n",
       "        vertical-align: middle;\n",
       "    }\n",
       "\n",
       "    .dataframe tbody tr th {\n",
       "        vertical-align: top;\n",
       "    }\n",
       "\n",
       "    .dataframe thead th {\n",
       "        text-align: right;\n",
       "    }\n",
       "</style>\n",
       "<table border=\"1\" class=\"dataframe\">\n",
       "  <thead>\n",
       "    <tr style=\"text-align: right;\">\n",
       "      <th></th>\n",
       "      <th>User_ID</th>\n",
       "      <th>Movie_ID</th>\n",
       "      <th>Global_Average</th>\n",
       "      <th>SUR1</th>\n",
       "      <th>SUR2</th>\n",
       "      <th>SUR3</th>\n",
       "      <th>SUR4</th>\n",
       "      <th>SUR5</th>\n",
       "      <th>SMR1</th>\n",
       "      <th>SMR2</th>\n",
       "      <th>SMR3</th>\n",
       "      <th>SMR4</th>\n",
       "      <th>SMR5</th>\n",
       "      <th>User_Average</th>\n",
       "      <th>Movie_Average</th>\n",
       "      <th>Rating</th>\n",
       "    </tr>\n",
       "  </thead>\n",
       "  <tbody>\n",
       "    <tr>\n",
       "      <th>0</th>\n",
       "      <td>180921</td>\n",
       "      <td>4512</td>\n",
       "      <td>3.582804</td>\n",
       "      <td>3.0</td>\n",
       "      <td>2.0</td>\n",
       "      <td>1.0</td>\n",
       "      <td>2.0</td>\n",
       "      <td>1.0</td>\n",
       "      <td>4.0</td>\n",
       "      <td>3.0</td>\n",
       "      <td>4.0</td>\n",
       "      <td>2.0</td>\n",
       "      <td>2.0</td>\n",
       "      <td>2.900000</td>\n",
       "      <td>2.5</td>\n",
       "      <td>1</td>\n",
       "    </tr>\n",
       "    <tr>\n",
       "      <th>1</th>\n",
       "      <td>210185</td>\n",
       "      <td>4512</td>\n",
       "      <td>3.582804</td>\n",
       "      <td>2.0</td>\n",
       "      <td>1.0</td>\n",
       "      <td>3.0</td>\n",
       "      <td>3.0</td>\n",
       "      <td>4.0</td>\n",
       "      <td>3.0</td>\n",
       "      <td>3.0</td>\n",
       "      <td>3.0</td>\n",
       "      <td>4.0</td>\n",
       "      <td>4.0</td>\n",
       "      <td>3.388889</td>\n",
       "      <td>2.5</td>\n",
       "      <td>2</td>\n",
       "    </tr>\n",
       "    <tr>\n",
       "      <th>2</th>\n",
       "      <td>218038</td>\n",
       "      <td>4512</td>\n",
       "      <td>3.582804</td>\n",
       "      <td>2.0</td>\n",
       "      <td>3.0</td>\n",
       "      <td>3.0</td>\n",
       "      <td>2.0</td>\n",
       "      <td>4.0</td>\n",
       "      <td>4.0</td>\n",
       "      <td>4.0</td>\n",
       "      <td>4.0</td>\n",
       "      <td>3.0</td>\n",
       "      <td>5.0</td>\n",
       "      <td>4.250000</td>\n",
       "      <td>2.5</td>\n",
       "      <td>4</td>\n",
       "    </tr>\n",
       "    <tr>\n",
       "      <th>3</th>\n",
       "      <td>221936</td>\n",
       "      <td>4512</td>\n",
       "      <td>3.582804</td>\n",
       "      <td>4.0</td>\n",
       "      <td>2.0</td>\n",
       "      <td>2.0</td>\n",
       "      <td>1.0</td>\n",
       "      <td>2.0</td>\n",
       "      <td>3.0</td>\n",
       "      <td>4.0</td>\n",
       "      <td>4.0</td>\n",
       "      <td>5.0</td>\n",
       "      <td>3.0</td>\n",
       "      <td>3.458333</td>\n",
       "      <td>2.5</td>\n",
       "      <td>3</td>\n",
       "    </tr>\n",
       "    <tr>\n",
       "      <th>4</th>\n",
       "      <td>370736</td>\n",
       "      <td>4512</td>\n",
       "      <td>3.582804</td>\n",
       "      <td>2.0</td>\n",
       "      <td>4.0</td>\n",
       "      <td>1.0</td>\n",
       "      <td>2.0</td>\n",
       "      <td>2.0</td>\n",
       "      <td>4.0</td>\n",
       "      <td>4.0</td>\n",
       "      <td>4.0</td>\n",
       "      <td>4.0</td>\n",
       "      <td>5.0</td>\n",
       "      <td>4.038462</td>\n",
       "      <td>2.5</td>\n",
       "      <td>4</td>\n",
       "    </tr>\n",
       "  </tbody>\n",
       "</table>\n",
       "</div>"
      ],
      "text/plain": [
       "   User_ID  Movie_ID  Global_Average  SUR1  SUR2  SUR3  SUR4  SUR5  SMR1  \\\n",
       "0   180921      4512        3.582804   3.0   2.0   1.0   2.0   1.0   4.0   \n",
       "1   210185      4512        3.582804   2.0   1.0   3.0   3.0   4.0   3.0   \n",
       "2   218038      4512        3.582804   2.0   3.0   3.0   2.0   4.0   4.0   \n",
       "3   221936      4512        3.582804   4.0   2.0   2.0   1.0   2.0   3.0   \n",
       "4   370736      4512        3.582804   2.0   4.0   1.0   2.0   2.0   4.0   \n",
       "\n",
       "   SMR2  SMR3  SMR4  SMR5  User_Average  Movie_Average  Rating  \n",
       "0   3.0   4.0   2.0   2.0      2.900000            2.5       1  \n",
       "1   3.0   3.0   4.0   4.0      3.388889            2.5       2  \n",
       "2   4.0   4.0   3.0   5.0      4.250000            2.5       4  \n",
       "3   4.0   4.0   5.0   3.0      3.458333            2.5       3  \n",
       "4   4.0   4.0   4.0   5.0      4.038462            2.5       4  "
      ]
     },
     "execution_count": 65,
     "metadata": {},
     "output_type": "execute_result"
    }
   ],
   "source": [
    "Train_Reg = pd.read_csv(\"./Data/Train_Regression.csv\", names = [\"User_ID\", \"Movie_ID\", \"Global_Average\", \"SUR1\", \"SUR2\", \"SUR3\", \"SUR4\", \"SUR5\", \"SMR1\",\n",
    "                                                                 \"SMR2\", \"SMR3\", \"SMR4\", \"SMR5\", \"User_Average\", \"Movie_Average\", \"Rating\"])\n",
    "Train_Reg.head()"
   ]
  },
  {
   "cell_type": "code",
   "execution_count": 66,
   "metadata": {},
   "outputs": [
    {
     "name": "stdout",
     "output_type": "stream",
     "text": [
      "Number of nan Values =0\n"
     ]
    }
   ],
   "source": [
    "print(\"Number of nan Values =\"+str(Train_Reg.isnull().sum().sum()))"
   ]
  },
  {
   "cell_type": "code",
   "execution_count": 67,
   "metadata": {},
   "outputs": [
    {
     "name": "stdout",
     "output_type": "stream",
     "text": [
      "Shape of Train DataFrame = (19214, 16)\n"
     ]
    }
   ],
   "source": [
    "print(\"Shape of Train DataFrame = {}\".format(Train_Reg.shape))"
   ]
  },
  {
   "cell_type": "markdown",
   "metadata": {},
   "source": [
    "# Featurizing Test Data"
   ]
  },
  {
   "cell_type": "code",
   "execution_count": 68,
   "metadata": {},
   "outputs": [],
   "source": [
    "sample_test_users, sample_test_movies, sample_test_ratings = sparse.find(test_sample_sparse)"
   ]
  },
  {
   "cell_type": "code",
   "execution_count": 69,
   "metadata": {},
   "outputs": [
    {
     "name": "stdout",
     "output_type": "stream",
     "text": [
      "File is already present in your disk. You do not have to prepare it again.\n"
     ]
    }
   ],
   "source": [
    "if os.path.isfile(\"./Data/Test_Regression.csv\"):\n",
    "    print(\"File is already present in your disk. You do not have to prepare it again.\")\n",
    "else:\n",
    "    startTime = datetime.now()\n",
    "    print(\"Preparing Test csv file for {} rows\".format(len(sample_test_ratings)))\n",
    "    with open(\"./Data/Test_Regression.csv\", mode = \"w\") as data:\n",
    "        count = 0\n",
    "        for user, movie, rating in zip(sample_test_users, sample_test_movies, sample_test_ratings):\n",
    "            row = list()\n",
    "            row.append(user)  #appending user ID\n",
    "            row.append(movie) #appending movie ID\n",
    "            row.append(train_sample_sparse.sum()/train_sample_sparse.count_nonzero()) #appending global average rating\n",
    "\n",
    "#-----------------------------Ratings given to \"movie\" by top 5 similar users with \"user\"-------------------------#\n",
    "            try:\n",
    "                similar_users = cosine_similarity(train_sample_sparse[user], train_sample_sparse).ravel()\n",
    "                similar_users_indices = np.argsort(-similar_users)[1:]\n",
    "                similar_users_ratings = train_sample_sparse[similar_users_indices, movie].toarray().ravel()\n",
    "                top_similar_user_ratings = list(similar_users_ratings[similar_users_ratings != 0][:5])\n",
    "                top_similar_user_ratings.extend([globalAvgMovies[movie]]*(5-len(top_similar_user_ratings)))\n",
    "                #above line means that if top 5 ratings are not available then rest of the ratings will be filled by \"movie\" \n",
    "                #average rating. Let say only 3 out of 5 ratings are available then rest 2 will be \"movie\" average rating.\n",
    "                row.extend(top_similar_user_ratings)\n",
    "            #########Cold Start Problem, for a new user or a new movie#########    \n",
    "            except(IndexError, KeyError):\n",
    "                global_average_train_rating = [train_sample_sparse.sum()/train_sample_sparse.count_nonzero()]*5\n",
    "                row.extend(global_average_train_rating)\n",
    "            except:\n",
    "                raise\n",
    "                \n",
    " #-----------------------------Ratings given by \"user\" to top 5 similar movies with \"movie\"-----------------------#\n",
    "            try:\n",
    "                similar_movies = cosine_similarity(train_sample_sparse[:,movie].T, train_sample_sparse.T).ravel()\n",
    "                similar_movies_indices = np.argsort(-similar_movies)[1:]\n",
    "                similar_movies_ratings = train_sample_sparse[user, similar_movies_indices].toarray().ravel()\n",
    "                top_similar_movie_ratings = list(similar_movies_ratings[similar_movies_ratings != 0][:5])\n",
    "                top_similar_movie_ratings.extend([globalAvgUsers[user]]*(5-len(top_similar_movie_ratings)))\n",
    "                #above line means that if top 5 ratings are not available then rest of the ratings will be filled by \"user\" \n",
    "                #average rating. Let say only 3 out of 5 ratings are available then rest 2 will be \"user\" average rating.\n",
    "                row.extend(top_similar_movie_ratings)\n",
    "            #########Cold Start Problem, for a new user or a new movie#########\n",
    "            except(IndexError, KeyError):\n",
    "                global_average_train_rating = [train_sample_sparse.sum()/train_sample_sparse.count_nonzero()]*5\n",
    "                row.extend(global_average_train_rating)\n",
    "            except:\n",
    "                raise\n",
    "                \n",
    " #-----------------------------Appending \"user\" average, \"movie\" average & rating of \"user\"\"movie\"----------------#\n",
    "            try:        \n",
    "                row.append(globalAvgUsers[user])\n",
    "            except (KeyError):\n",
    "                global_average_train_rating = train_sample_sparse.sum()/train_sample_sparse.count_nonzero()\n",
    "                row.append(global_average_train_rating)\n",
    "            except:\n",
    "                raise\n",
    "                \n",
    "            try:\n",
    "                row.append(globalAvgMovies[movie])\n",
    "            except(KeyError):\n",
    "                global_average_train_rating = train_sample_sparse.sum()/train_sample_sparse.count_nonzero()\n",
    "                row.append(global_average_train_rating)\n",
    "            except:\n",
    "                raise\n",
    "                \n",
    "            row.append(rating)\n",
    "            \n",
    "#------------------------------Converting rows and appending them as comma separated values to csv file-----------#\n",
    "            data.write(\",\".join(map(str, row)))\n",
    "            data.write(\"\\n\")\n",
    "    \n",
    "            count += 1\n",
    "            if count % 100 == 0:\n",
    "                print(\"Done for {}. Time elapsed: {}\".format(count, (datetime.now() - startTime)))\n",
    "                \n",
    "    print(\"Total Time for {} rows = {}\".format(len(sample_test_ratings), (datetime.now() - startTime)))"
   ]
  },
  {
   "cell_type": "code",
   "execution_count": 70,
   "metadata": {},
   "outputs": [],
   "source": [
    "Test_reg=pd.read_csv(\"./Data/Test_Regression.csv\",names=[\"User_ID\", \"Movie_ID\", \"Global_Average\", \"SUR1\", \"SUR2\", \"SUR3\", \"SUR4\", \"SUR5\", \"SMR1\",\n",
    "                                                                 \"SMR2\", \"SMR3\", \"SMR4\", \"SMR5\", \"User_Average\", \"Movie_Average\", \"Rating\"])"
   ]
  },
  {
   "cell_type": "code",
   "execution_count": 71,
   "metadata": {},
   "outputs": [
    {
     "data": {
      "text/html": [
       "<div>\n",
       "<style scoped>\n",
       "    .dataframe tbody tr th:only-of-type {\n",
       "        vertical-align: middle;\n",
       "    }\n",
       "\n",
       "    .dataframe tbody tr th {\n",
       "        vertical-align: top;\n",
       "    }\n",
       "\n",
       "    .dataframe thead th {\n",
       "        text-align: right;\n",
       "    }\n",
       "</style>\n",
       "<table border=\"1\" class=\"dataframe\">\n",
       "  <thead>\n",
       "    <tr style=\"text-align: right;\">\n",
       "      <th></th>\n",
       "      <th>User_ID</th>\n",
       "      <th>Movie_ID</th>\n",
       "      <th>Global_Average</th>\n",
       "      <th>SUR1</th>\n",
       "      <th>SUR2</th>\n",
       "      <th>SUR3</th>\n",
       "      <th>SUR4</th>\n",
       "      <th>SUR5</th>\n",
       "      <th>SMR1</th>\n",
       "      <th>SMR2</th>\n",
       "      <th>SMR3</th>\n",
       "      <th>SMR4</th>\n",
       "      <th>SMR5</th>\n",
       "      <th>User_Average</th>\n",
       "      <th>Movie_Average</th>\n",
       "      <th>Rating</th>\n",
       "    </tr>\n",
       "  </thead>\n",
       "  <tbody>\n",
       "    <tr>\n",
       "      <th>0</th>\n",
       "      <td>464626</td>\n",
       "      <td>4614</td>\n",
       "      <td>3.582804</td>\n",
       "      <td>3.582804</td>\n",
       "      <td>3.582804</td>\n",
       "      <td>3.582804</td>\n",
       "      <td>3.582804</td>\n",
       "      <td>3.582804</td>\n",
       "      <td>3.582804</td>\n",
       "      <td>3.582804</td>\n",
       "      <td>3.582804</td>\n",
       "      <td>3.582804</td>\n",
       "      <td>3.582804</td>\n",
       "      <td>3.582804</td>\n",
       "      <td>3.582804</td>\n",
       "      <td>3</td>\n",
       "    </tr>\n",
       "    <tr>\n",
       "      <th>1</th>\n",
       "      <td>1815614</td>\n",
       "      <td>4627</td>\n",
       "      <td>3.582804</td>\n",
       "      <td>3.582804</td>\n",
       "      <td>3.582804</td>\n",
       "      <td>3.582804</td>\n",
       "      <td>3.582804</td>\n",
       "      <td>3.582804</td>\n",
       "      <td>3.582804</td>\n",
       "      <td>3.582804</td>\n",
       "      <td>3.582804</td>\n",
       "      <td>3.582804</td>\n",
       "      <td>3.582804</td>\n",
       "      <td>3.582804</td>\n",
       "      <td>3.582804</td>\n",
       "      <td>3</td>\n",
       "    </tr>\n",
       "    <tr>\n",
       "      <th>2</th>\n",
       "      <td>2298717</td>\n",
       "      <td>4627</td>\n",
       "      <td>3.582804</td>\n",
       "      <td>3.582804</td>\n",
       "      <td>3.582804</td>\n",
       "      <td>3.582804</td>\n",
       "      <td>3.582804</td>\n",
       "      <td>3.582804</td>\n",
       "      <td>3.582804</td>\n",
       "      <td>3.582804</td>\n",
       "      <td>3.582804</td>\n",
       "      <td>3.582804</td>\n",
       "      <td>3.582804</td>\n",
       "      <td>3.582804</td>\n",
       "      <td>3.582804</td>\n",
       "      <td>5</td>\n",
       "    </tr>\n",
       "    <tr>\n",
       "      <th>3</th>\n",
       "      <td>2532402</td>\n",
       "      <td>4627</td>\n",
       "      <td>3.582804</td>\n",
       "      <td>3.582804</td>\n",
       "      <td>3.582804</td>\n",
       "      <td>3.582804</td>\n",
       "      <td>3.582804</td>\n",
       "      <td>3.582804</td>\n",
       "      <td>3.582804</td>\n",
       "      <td>3.582804</td>\n",
       "      <td>3.582804</td>\n",
       "      <td>3.582804</td>\n",
       "      <td>3.582804</td>\n",
       "      <td>3.582804</td>\n",
       "      <td>3.582804</td>\n",
       "      <td>4</td>\n",
       "    </tr>\n",
       "    <tr>\n",
       "      <th>4</th>\n",
       "      <td>2027</td>\n",
       "      <td>4798</td>\n",
       "      <td>3.582804</td>\n",
       "      <td>3.582804</td>\n",
       "      <td>3.582804</td>\n",
       "      <td>3.582804</td>\n",
       "      <td>3.582804</td>\n",
       "      <td>3.582804</td>\n",
       "      <td>3.582804</td>\n",
       "      <td>3.582804</td>\n",
       "      <td>3.582804</td>\n",
       "      <td>3.582804</td>\n",
       "      <td>3.582804</td>\n",
       "      <td>3.582804</td>\n",
       "      <td>3.582804</td>\n",
       "      <td>5</td>\n",
       "    </tr>\n",
       "  </tbody>\n",
       "</table>\n",
       "</div>"
      ],
      "text/plain": [
       "   User_ID  Movie_ID  Global_Average      SUR1      SUR2      SUR3      SUR4  \\\n",
       "0   464626      4614        3.582804  3.582804  3.582804  3.582804  3.582804   \n",
       "1  1815614      4627        3.582804  3.582804  3.582804  3.582804  3.582804   \n",
       "2  2298717      4627        3.582804  3.582804  3.582804  3.582804  3.582804   \n",
       "3  2532402      4627        3.582804  3.582804  3.582804  3.582804  3.582804   \n",
       "4     2027      4798        3.582804  3.582804  3.582804  3.582804  3.582804   \n",
       "\n",
       "       SUR5      SMR1      SMR2      SMR3      SMR4      SMR5  User_Average  \\\n",
       "0  3.582804  3.582804  3.582804  3.582804  3.582804  3.582804      3.582804   \n",
       "1  3.582804  3.582804  3.582804  3.582804  3.582804  3.582804      3.582804   \n",
       "2  3.582804  3.582804  3.582804  3.582804  3.582804  3.582804      3.582804   \n",
       "3  3.582804  3.582804  3.582804  3.582804  3.582804  3.582804      3.582804   \n",
       "4  3.582804  3.582804  3.582804  3.582804  3.582804  3.582804      3.582804   \n",
       "\n",
       "   Movie_Average  Rating  \n",
       "0       3.582804       3  \n",
       "1       3.582804       3  \n",
       "2       3.582804       5  \n",
       "3       3.582804       4  \n",
       "4       3.582804       5  "
      ]
     },
     "execution_count": 71,
     "metadata": {},
     "output_type": "execute_result"
    }
   ],
   "source": [
    "Test_reg.head()"
   ]
  },
  {
   "cell_type": "code",
   "execution_count": 72,
   "metadata": {},
   "outputs": [
    {
     "name": "stdout",
     "output_type": "stream",
     "text": [
      "Number of nan Values = 0\n"
     ]
    }
   ],
   "source": [
    "print(\"Number of nan Values = \"+str(Test_reg.isnull().sum().sum()))"
   ]
  },
  {
   "cell_type": "code",
   "execution_count": 73,
   "metadata": {},
   "outputs": [
    {
     "name": "stdout",
     "output_type": "stream",
     "text": [
      "Shape of Test Dataframe =(1150, 16)\n"
     ]
    }
   ],
   "source": [
    "print(\"Shape of Test Dataframe ={}\".format(Test_reg.shape))"
   ]
  },
  {
   "cell_type": "markdown",
   "metadata": {},
   "source": [
    "# Transforming Data for Surprise Models\n",
    "## Transforming Train Data"
   ]
  },
  {
   "cell_type": "code",
   "execution_count": 74,
   "metadata": {},
   "outputs": [
    {
     "data": {
      "text/html": [
       "<div>\n",
       "<style scoped>\n",
       "    .dataframe tbody tr th:only-of-type {\n",
       "        vertical-align: middle;\n",
       "    }\n",
       "\n",
       "    .dataframe tbody tr th {\n",
       "        vertical-align: top;\n",
       "    }\n",
       "\n",
       "    .dataframe thead th {\n",
       "        text-align: right;\n",
       "    }\n",
       "</style>\n",
       "<table border=\"1\" class=\"dataframe\">\n",
       "  <thead>\n",
       "    <tr style=\"text-align: right;\">\n",
       "      <th></th>\n",
       "      <th>User_ID</th>\n",
       "      <th>Movie_ID</th>\n",
       "      <th>Rating</th>\n",
       "    </tr>\n",
       "  </thead>\n",
       "  <tbody>\n",
       "    <tr>\n",
       "      <th>0</th>\n",
       "      <td>180921</td>\n",
       "      <td>4512</td>\n",
       "      <td>1</td>\n",
       "    </tr>\n",
       "    <tr>\n",
       "      <th>1</th>\n",
       "      <td>210185</td>\n",
       "      <td>4512</td>\n",
       "      <td>2</td>\n",
       "    </tr>\n",
       "    <tr>\n",
       "      <th>2</th>\n",
       "      <td>218038</td>\n",
       "      <td>4512</td>\n",
       "      <td>4</td>\n",
       "    </tr>\n",
       "    <tr>\n",
       "      <th>3</th>\n",
       "      <td>221936</td>\n",
       "      <td>4512</td>\n",
       "      <td>3</td>\n",
       "    </tr>\n",
       "    <tr>\n",
       "      <th>4</th>\n",
       "      <td>370736</td>\n",
       "      <td>4512</td>\n",
       "      <td>4</td>\n",
       "    </tr>\n",
       "  </tbody>\n",
       "</table>\n",
       "</div>"
      ],
      "text/plain": [
       "   User_ID  Movie_ID  Rating\n",
       "0   180921      4512       1\n",
       "1   210185      4512       2\n",
       "2   218038      4512       4\n",
       "3   221936      4512       3\n",
       "4   370736      4512       4"
      ]
     },
     "execution_count": 74,
     "metadata": {},
     "output_type": "execute_result"
    }
   ],
   "source": [
    "Train_Reg[['User_ID', 'Movie_ID', 'Rating']].head(5)"
   ]
  },
  {
   "cell_type": "code",
   "execution_count": null,
   "metadata": {},
   "outputs": [],
   "source": []
  },
  {
   "cell_type": "code",
   "execution_count": 75,
   "metadata": {},
   "outputs": [],
   "source": [
    "import xgboost as xgb\n",
    "from surprise import Reader, Dataset\n",
    "from surprise import BaselineOnly\n",
    "from surprise import KNNBaseline\n",
    "from surprise import SVD\n",
    "from surprise import SVDpp\n",
    "from surprise.model_selection import GridSearchCV"
   ]
  },
  {
   "cell_type": "markdown",
   "metadata": {},
   "source": [
    "# Transforming Test Data"
   ]
  },
  {
   "cell_type": "code",
   "execution_count": 76,
   "metadata": {},
   "outputs": [],
   "source": [
    "reader=Reader(rating_scale=(1,5))\n",
    "data=Dataset.load_from_df(Train_Reg[[\"User_ID\",\"Movie_ID\",\"Rating\"]],reader)\n",
    "trainset=data.build_full_trainset()"
   ]
  },
  {
   "cell_type": "code",
   "execution_count": 77,
   "metadata": {},
   "outputs": [
    {
     "data": {
      "text/plain": [
       "[(464626, 4614, 3),\n",
       " (1815614, 4627, 3),\n",
       " (2298717, 4627, 5),\n",
       " (2532402, 4627, 4),\n",
       " (2027, 4798, 5)]"
      ]
     },
     "execution_count": 77,
     "metadata": {},
     "output_type": "execute_result"
    }
   ],
   "source": [
    "testset = list(zip(Test_reg[\"User_ID\"].values, Test_reg[\"Movie_ID\"].values, Test_reg[\"Rating\"].values))\n",
    "testset[:5]"
   ]
  },
  {
   "cell_type": "markdown",
   "metadata": {},
   "source": [
    "# Applying Machine Learning Models"
   ]
  },
  {
   "cell_type": "code",
   "execution_count": 78,
   "metadata": {},
   "outputs": [],
   "source": [
    "error_table = pd.DataFrame(columns = [\"Model\", \"Train RMSE\", \"Train MAPE\", \"Test RMSE\", \"Test MAPE\"])\n",
    "model_train_evaluation = dict()\n",
    "model_test_evaluation = dict()"
   ]
  },
  {
   "cell_type": "code",
   "execution_count": 114,
   "metadata": {},
   "outputs": [],
   "source": [
    "def make_table(model_name,rmse_train, mape_train, rmse_test, mape_test):\n",
    "    global error_table\n",
    "    \n",
    "    error_table=error_table.append(pd.DataFrame([[model_name, rmse_train,mape_train,rmse_test,mape_test]],columns =[\"Model\",\"Train RMSE\",\n",
    "                                                                                                                    \"Train MAPE\", \"Test RMSE\", \"Test MAPE\"]))\n",
    "    error_table.reset_index(drop=True, inplace=True)"
   ]
  },
  {
   "cell_type": "markdown",
   "metadata": {},
   "source": [
    "# Utility Functions for Regression Models"
   ]
  },
  {
   "cell_type": "code",
   "execution_count": 139,
   "metadata": {},
   "outputs": [],
   "source": [
    "from sklearn.metrics import mean_squared_error"
   ]
  },
  {
   "cell_type": "code",
   "execution_count": 140,
   "metadata": {},
   "outputs": [],
   "source": [
    "def error_metrics(y_true, y_pred):\n",
    "    rmse = np.sqrt(mean_squared_error(y_true, y_pred))\n",
    "    mape = np.mean(abs((y_true - y_pred)/y_true))*100\n",
    "    return rmse, mape"
   ]
  },
  {
   "cell_type": "code",
   "execution_count": 141,
   "metadata": {},
   "outputs": [],
   "source": [
    "def train_test_xgboost(x_train,x_test,y_train,t_test, model_name):\n",
    "    startTime=datetime.now()\n",
    "    train_result=dict()\n",
    "    test_result=dict()\n",
    "    \n",
    "    clf=xgb.XGBRegressor(n_estimators=100,silent=True,n_jobs=10)\n",
    "    clf.fit(x_train,y_train)\n",
    "    \n",
    "    print(\"-\"*50)\n",
    "    print(\"TRAIN DATA\")\n",
    "    y_pred_train=clf.predict(x_train)\n",
    "    rmse_train, mape_train =error_metrics(y_train,y_pred_train)\n",
    "    print(\"RMSE = {}\".format(rmse_train))\n",
    "    print(\"MAPE = {}\".format(mape_train))\n",
    "    print(\"-\"*50)\n",
    "    train_result = {\"RMSE\": rmse_train, \"MAPE\": mape_train, \"Prediction\": y_pred_train}\n",
    "    \n",
    "    print(\"TEST DATA\")\n",
    "    y_pred_test=clf.predict(x_test)\n",
    "    rmse_test, mape_test=error_metrics(y_test,y_pred_test)\n",
    "    print(\"RMSE = {}\".format(rmse_test))\n",
    "    print(\"MAPE = {}\".format(mape_test))\n",
    "    print(\"-\"*50)\n",
    "    test_result = {\"RMSE\": rmse_test, \"MAPE\": mape_test, \"Prediction\": y_pred_test}\n",
    "        \n",
    "    print(\"Time Taken = \"+str(datetime.now() - startTime))\n",
    "    \n",
    "    plot_importance(xgb,clf)\n",
    "    make_table(model_name,rmse_train,mape_train,rmse_test,mape_test)\n",
    "    \n",
    "    return train_result, test_result"
   ]
  },
  {
   "cell_type": "code",
   "execution_count": 142,
   "metadata": {},
   "outputs": [],
   "source": [
    "def plot_importance(model,clf):\n",
    "    fig = plt.figure(figsize = (8, 6))\n",
    "    ax = fig.add_axes([0,0,1,1])\n",
    "    model.plot_importance(clf, ax = ax, height = 0.3)\n",
    "    plt.xlabel(\"F Score\", fontsize = 20)\n",
    "    plt.ylabel(\"Features\", fontsize = 20)\n",
    "    plt.title(\"Feature Importance\", fontsize = 20)\n",
    "    plt.tick_params(labelsize = 15)\n",
    "    \n",
    "    plt.show()    "
   ]
  },
  {
   "cell_type": "markdown",
   "metadata": {},
   "source": [
    "# Utility Functions for Surprise Models"
   ]
  },
  {
   "cell_type": "code",
   "execution_count": 143,
   "metadata": {},
   "outputs": [],
   "source": [
    "def get_ratings(predictions):\n",
    "    actual=np.array([pred.r_ui for pred in predictions])\n",
    "    predicted=np.array([pred.est for pred  in predictions])\n",
    "    return actual,predicted"
   ]
  },
  {
   "cell_type": "code",
   "execution_count": 144,
   "metadata": {},
   "outputs": [],
   "source": [
    "def get_error(predictions):\n",
    "    actual, predicted =get_ratings(predictions)\n",
    "    rmse=np.sqrt(mean_squared_error(actual, predicted))\n",
    "    mape=np.mean(abs((actual-predicted)/actual))*100\n",
    "    return rmse, mape"
   ]
  },
  {
   "cell_type": "code",
   "execution_count": 145,
   "metadata": {},
   "outputs": [],
   "source": [
    "my_seed=15\n",
    "random.seed(my_seed)\n",
    "np.random.seed(my_seed)\n",
    "\n",
    "def run_surprise(algo, trainset, testset, model_name):\n",
    "    startTime=datetime.now()\n",
    "    \n",
    "    train=dict()\n",
    "    test=dict()\n",
    "    \n",
    "    algo.fit(trainset)\n",
    "    \n",
    "#-----------------Evaluating Train Data------------------#\n",
    "    print(\"-\"*50)\n",
    "    print(\"TRAIN DATA\")\n",
    "    train_pred = algo.test(trainset.build_testset())\n",
    "\n",
    "    train_actual, train_predicted = get_ratings(train_pred)\n",
    "    train_rmse, train_mape = get_error(train_pred)\n",
    "    print(\"RMSE = {}\".format(train_rmse))\n",
    "    print(\"MAPE = {}\".format(train_mape))\n",
    "    print(\"-\"*50)\n",
    "    train = {\"RMSE\": train_rmse, \"MAPE\": train_mape, \"Prediction\": train_predicted}\n",
    "    \n",
    "#-----------------Evaluating Test Data------------------#\n",
    "    print(\"TEST DATA\")\n",
    "    test_pred = algo.test(testset)\n",
    "\n",
    "    test_actual, test_predicted = get_ratings(test_pred)\n",
    "    test_rmse, test_mape = get_error(test_pred)\n",
    "    print(\"RMSE = {}\".format(test_rmse))\n",
    "    print(\"MAPE = {}\".format(test_mape))\n",
    "    print(\"-\"*50)\n",
    "    test = {\"RMSE\": test_rmse, \"MAPE\": test_mape, \"Prediction\": test_predicted}\n",
    "    \n",
    "    print(\"Time Taken = \"+str(datetime.now() - startTime))\n",
    "    \n",
    "    make_table(model_name, train_rmse, train_mape, test_rmse, test_mape)\n",
    "    \n",
    "    return train, test   "
   ]
  },
  {
   "cell_type": "markdown",
   "metadata": {},
   "source": [
    "# XGBoost 13 features"
   ]
  },
  {
   "cell_type": "code",
   "execution_count": 146,
   "metadata": {},
   "outputs": [
    {
     "name": "stdout",
     "output_type": "stream",
     "text": [
      "[11:57:16] WARNING: C:/Users/Administrator/workspace/xgboost-win64_release_1.3.0/src/learner.cc:541: \n",
      "Parameters: { silent } might not be used.\n",
      "\n",
      "  This may not be accurate due to some parameters are only used in language bindings but\n",
      "  passed down to XGBoost core.  Or some parameters are not used but slip through this\n",
      "  verification. Please open an issue if you find above cases.\n",
      "\n",
      "\n",
      "--------------------------------------------------\n",
      "TRAIN DATA\n",
      "RMSE = 0.5949516863142196\n",
      "MAPE = 16.334639489650726\n",
      "--------------------------------------------------\n",
      "TEST DATA\n",
      "RMSE = 1.2562482311411585\n",
      "MAPE = 30.663328753001164\n",
      "--------------------------------------------------\n",
      "Time Taken = 0:00:01.243248\n"
     ]
    },
    {
     "data": {
      "image/png": "[encoded data removed]",
      "text/plain": [
       "<Figure size 576x432 with 1 Axes>"
      ]
     },
     "metadata": {},
     "output_type": "display_data"
    }
   ],
   "source": [
    "x_train=Train_Reg.drop([\"User_ID\",\"Movie_ID\",\"Rating\"],axis=1)\n",
    "x_test=Test_reg.drop([\"User_ID\", \"Movie_ID\", \"Rating\"], axis = 1)\n",
    "y_train = Train_Reg[\"Rating\"]\n",
    "\n",
    "y_test = Test_reg[\"Rating\"]\n",
    "\n",
    "train_result, test_result = train_test_xgboost(x_train, x_test, y_train, y_test, \"XGBoost_13\")\n",
    "\n",
    "model_train_evaluation[\"XGBoost_13\"] = train_result\n",
    "model_test_evaluation[\"XGBoost_13\"] = test_result"
   ]
  },
  {
   "cell_type": "markdown",
   "metadata": {},
   "source": [
    "# Surprise BaselineOnly Model\n",
    "## Predicted Rating"
   ]
  },
  {
   "cell_type": "code",
   "execution_count": 147,
   "metadata": {},
   "outputs": [
    {
     "name": "stdout",
     "output_type": "stream",
     "text": [
      "Estimating biases using sgd...\n",
      "--------------------------------------------------\n",
      "TRAIN DATA\n",
      "RMSE = 0.8811426214928658\n",
      "MAPE = 27.158727146074078\n",
      "--------------------------------------------------\n",
      "TEST DATA\n",
      "RMSE = 1.0678388468431512\n",
      "MAPE = 33.39729060309592\n",
      "--------------------------------------------------\n",
      "Time Taken = 0:00:00.179576\n"
     ]
    }
   ],
   "source": [
    "bsl_options={\"method\":\"sgd\",\"learning_rate\":0.01,\"n_epochs\":25}\n",
    "\n",
    "algo=BaselineOnly(bsl_options=bsl_options)\n",
    "\n",
    "train_result,test_result=run_surprise(algo, trainset,testset,\"BaselineOnly\")\n",
    "\n",
    "model_train_evaluation[\"BaselineOnly\"]=train_result\n",
    "model_test_evaluation[\"BaselineOnly\"]=test_result"
   ]
  },
  {
   "cell_type": "markdown",
   "metadata": {},
   "source": [
    "# XGBoost 13 Features + Surprise BaselineOnly Model"
   ]
  },
  {
   "cell_type": "code",
   "execution_count": 148,
   "metadata": {},
   "outputs": [
    {
     "data": {
      "text/html": [
       "<div>\n",
       "<style scoped>\n",
       "    .dataframe tbody tr th:only-of-type {\n",
       "        vertical-align: middle;\n",
       "    }\n",
       "\n",
       "    .dataframe tbody tr th {\n",
       "        vertical-align: top;\n",
       "    }\n",
       "\n",
       "    .dataframe thead th {\n",
       "        text-align: right;\n",
       "    }\n",
       "</style>\n",
       "<table border=\"1\" class=\"dataframe\">\n",
       "  <thead>\n",
       "    <tr style=\"text-align: right;\">\n",
       "      <th></th>\n",
       "      <th>User_ID</th>\n",
       "      <th>Movie_ID</th>\n",
       "      <th>Global_Average</th>\n",
       "      <th>SUR1</th>\n",
       "      <th>SUR2</th>\n",
       "      <th>SUR3</th>\n",
       "      <th>SUR4</th>\n",
       "      <th>SUR5</th>\n",
       "      <th>SMR1</th>\n",
       "      <th>SMR2</th>\n",
       "      <th>SMR3</th>\n",
       "      <th>SMR4</th>\n",
       "      <th>SMR5</th>\n",
       "      <th>User_Average</th>\n",
       "      <th>Movie_Average</th>\n",
       "      <th>Rating</th>\n",
       "      <th>BaselineOnly</th>\n",
       "    </tr>\n",
       "  </thead>\n",
       "  <tbody>\n",
       "    <tr>\n",
       "      <th>0</th>\n",
       "      <td>180921</td>\n",
       "      <td>4512</td>\n",
       "      <td>3.582804</td>\n",
       "      <td>3.0</td>\n",
       "      <td>2.0</td>\n",
       "      <td>1.0</td>\n",
       "      <td>2.0</td>\n",
       "      <td>1.0</td>\n",
       "      <td>4.0</td>\n",
       "      <td>3.0</td>\n",
       "      <td>4.0</td>\n",
       "      <td>2.0</td>\n",
       "      <td>2.0</td>\n",
       "      <td>2.900000</td>\n",
       "      <td>2.5</td>\n",
       "      <td>1</td>\n",
       "      <td>2.077166</td>\n",
       "    </tr>\n",
       "    <tr>\n",
       "      <th>1</th>\n",
       "      <td>210185</td>\n",
       "      <td>4512</td>\n",
       "      <td>3.582804</td>\n",
       "      <td>2.0</td>\n",
       "      <td>1.0</td>\n",
       "      <td>3.0</td>\n",
       "      <td>3.0</td>\n",
       "      <td>4.0</td>\n",
       "      <td>3.0</td>\n",
       "      <td>3.0</td>\n",
       "      <td>3.0</td>\n",
       "      <td>4.0</td>\n",
       "      <td>4.0</td>\n",
       "      <td>3.388889</td>\n",
       "      <td>2.5</td>\n",
       "      <td>2</td>\n",
       "      <td>2.916411</td>\n",
       "    </tr>\n",
       "    <tr>\n",
       "      <th>2</th>\n",
       "      <td>218038</td>\n",
       "      <td>4512</td>\n",
       "      <td>3.582804</td>\n",
       "      <td>2.0</td>\n",
       "      <td>3.0</td>\n",
       "      <td>3.0</td>\n",
       "      <td>2.0</td>\n",
       "      <td>4.0</td>\n",
       "      <td>4.0</td>\n",
       "      <td>4.0</td>\n",
       "      <td>4.0</td>\n",
       "      <td>3.0</td>\n",
       "      <td>5.0</td>\n",
       "      <td>4.250000</td>\n",
       "      <td>2.5</td>\n",
       "      <td>4</td>\n",
       "      <td>2.905264</td>\n",
       "    </tr>\n",
       "    <tr>\n",
       "      <th>3</th>\n",
       "      <td>221936</td>\n",
       "      <td>4512</td>\n",
       "      <td>3.582804</td>\n",
       "      <td>4.0</td>\n",
       "      <td>2.0</td>\n",
       "      <td>2.0</td>\n",
       "      <td>1.0</td>\n",
       "      <td>2.0</td>\n",
       "      <td>3.0</td>\n",
       "      <td>4.0</td>\n",
       "      <td>4.0</td>\n",
       "      <td>5.0</td>\n",
       "      <td>3.0</td>\n",
       "      <td>3.458333</td>\n",
       "      <td>2.5</td>\n",
       "      <td>3</td>\n",
       "      <td>3.290933</td>\n",
       "    </tr>\n",
       "    <tr>\n",
       "      <th>4</th>\n",
       "      <td>370736</td>\n",
       "      <td>4512</td>\n",
       "      <td>3.582804</td>\n",
       "      <td>2.0</td>\n",
       "      <td>4.0</td>\n",
       "      <td>1.0</td>\n",
       "      <td>2.0</td>\n",
       "      <td>2.0</td>\n",
       "      <td>4.0</td>\n",
       "      <td>4.0</td>\n",
       "      <td>4.0</td>\n",
       "      <td>4.0</td>\n",
       "      <td>5.0</td>\n",
       "      <td>4.038462</td>\n",
       "      <td>2.5</td>\n",
       "      <td>4</td>\n",
       "      <td>3.561135</td>\n",
       "    </tr>\n",
       "  </tbody>\n",
       "</table>\n",
       "</div>"
      ],
      "text/plain": [
       "   User_ID  Movie_ID  Global_Average  SUR1  SUR2  SUR3  SUR4  SUR5  SMR1  \\\n",
       "0   180921      4512        3.582804   3.0   2.0   1.0   2.0   1.0   4.0   \n",
       "1   210185      4512        3.582804   2.0   1.0   3.0   3.0   4.0   3.0   \n",
       "2   218038      4512        3.582804   2.0   3.0   3.0   2.0   4.0   4.0   \n",
       "3   221936      4512        3.582804   4.0   2.0   2.0   1.0   2.0   3.0   \n",
       "4   370736      4512        3.582804   2.0   4.0   1.0   2.0   2.0   4.0   \n",
       "\n",
       "   SMR2  SMR3  SMR4  SMR5  User_Average  Movie_Average  Rating  BaselineOnly  \n",
       "0   3.0   4.0   2.0   2.0      2.900000            2.5       1      2.077166  \n",
       "1   3.0   3.0   4.0   4.0      3.388889            2.5       2      2.916411  \n",
       "2   4.0   4.0   3.0   5.0      4.250000            2.5       4      2.905264  \n",
       "3   4.0   4.0   5.0   3.0      3.458333            2.5       3      3.290933  \n",
       "4   4.0   4.0   4.0   5.0      4.038462            2.5       4      3.561135  "
      ]
     },
     "execution_count": 148,
     "metadata": {},
     "output_type": "execute_result"
    }
   ],
   "source": [
    "Train_Reg[\"BaselineOnly\"]=model_train_evaluation[\"BaselineOnly\"][\"Prediction\"]\n",
    "Train_Reg.head()"
   ]
  },
  {
   "cell_type": "code",
   "execution_count": 149,
   "metadata": {},
   "outputs": [
    {
     "name": "stdout",
     "output_type": "stream",
     "text": [
      "Number of nan values = 0\n"
     ]
    }
   ],
   "source": [
    "print(\"Number of nan values = \"+str(Train_Reg.isnull().sum().sum()))"
   ]
  },
  {
   "cell_type": "code",
   "execution_count": 150,
   "metadata": {},
   "outputs": [
    {
     "data": {
      "text/html": [
       "<div>\n",
       "<style scoped>\n",
       "    .dataframe tbody tr th:only-of-type {\n",
       "        vertical-align: middle;\n",
       "    }\n",
       "\n",
       "    .dataframe tbody tr th {\n",
       "        vertical-align: top;\n",
       "    }\n",
       "\n",
       "    .dataframe thead th {\n",
       "        text-align: right;\n",
       "    }\n",
       "</style>\n",
       "<table border=\"1\" class=\"dataframe\">\n",
       "  <thead>\n",
       "    <tr style=\"text-align: right;\">\n",
       "      <th></th>\n",
       "      <th>User_ID</th>\n",
       "      <th>Movie_ID</th>\n",
       "      <th>Global_Average</th>\n",
       "      <th>SUR1</th>\n",
       "      <th>SUR2</th>\n",
       "      <th>SUR3</th>\n",
       "      <th>SUR4</th>\n",
       "      <th>SUR5</th>\n",
       "      <th>SMR1</th>\n",
       "      <th>SMR2</th>\n",
       "      <th>SMR3</th>\n",
       "      <th>SMR4</th>\n",
       "      <th>SMR5</th>\n",
       "      <th>User_Average</th>\n",
       "      <th>Movie_Average</th>\n",
       "      <th>Rating</th>\n",
       "      <th>BaselineOnly</th>\n",
       "    </tr>\n",
       "  </thead>\n",
       "  <tbody>\n",
       "    <tr>\n",
       "      <th>0</th>\n",
       "      <td>464626</td>\n",
       "      <td>4614</td>\n",
       "      <td>3.582804</td>\n",
       "      <td>3.582804</td>\n",
       "      <td>3.582804</td>\n",
       "      <td>3.582804</td>\n",
       "      <td>3.582804</td>\n",
       "      <td>3.582804</td>\n",
       "      <td>3.582804</td>\n",
       "      <td>3.582804</td>\n",
       "      <td>3.582804</td>\n",
       "      <td>3.582804</td>\n",
       "      <td>3.582804</td>\n",
       "      <td>3.582804</td>\n",
       "      <td>3.582804</td>\n",
       "      <td>3</td>\n",
       "      <td>3.582804</td>\n",
       "    </tr>\n",
       "    <tr>\n",
       "      <th>1</th>\n",
       "      <td>1815614</td>\n",
       "      <td>4627</td>\n",
       "      <td>3.582804</td>\n",
       "      <td>3.582804</td>\n",
       "      <td>3.582804</td>\n",
       "      <td>3.582804</td>\n",
       "      <td>3.582804</td>\n",
       "      <td>3.582804</td>\n",
       "      <td>3.582804</td>\n",
       "      <td>3.582804</td>\n",
       "      <td>3.582804</td>\n",
       "      <td>3.582804</td>\n",
       "      <td>3.582804</td>\n",
       "      <td>3.582804</td>\n",
       "      <td>3.582804</td>\n",
       "      <td>3</td>\n",
       "      <td>3.582804</td>\n",
       "    </tr>\n",
       "    <tr>\n",
       "      <th>2</th>\n",
       "      <td>2298717</td>\n",
       "      <td>4627</td>\n",
       "      <td>3.582804</td>\n",
       "      <td>3.582804</td>\n",
       "      <td>3.582804</td>\n",
       "      <td>3.582804</td>\n",
       "      <td>3.582804</td>\n",
       "      <td>3.582804</td>\n",
       "      <td>3.582804</td>\n",
       "      <td>3.582804</td>\n",
       "      <td>3.582804</td>\n",
       "      <td>3.582804</td>\n",
       "      <td>3.582804</td>\n",
       "      <td>3.582804</td>\n",
       "      <td>3.582804</td>\n",
       "      <td>5</td>\n",
       "      <td>3.582804</td>\n",
       "    </tr>\n",
       "    <tr>\n",
       "      <th>3</th>\n",
       "      <td>2532402</td>\n",
       "      <td>4627</td>\n",
       "      <td>3.582804</td>\n",
       "      <td>3.582804</td>\n",
       "      <td>3.582804</td>\n",
       "      <td>3.582804</td>\n",
       "      <td>3.582804</td>\n",
       "      <td>3.582804</td>\n",
       "      <td>3.582804</td>\n",
       "      <td>3.582804</td>\n",
       "      <td>3.582804</td>\n",
       "      <td>3.582804</td>\n",
       "      <td>3.582804</td>\n",
       "      <td>3.582804</td>\n",
       "      <td>3.582804</td>\n",
       "      <td>4</td>\n",
       "      <td>3.582804</td>\n",
       "    </tr>\n",
       "    <tr>\n",
       "      <th>4</th>\n",
       "      <td>2027</td>\n",
       "      <td>4798</td>\n",
       "      <td>3.582804</td>\n",
       "      <td>3.582804</td>\n",
       "      <td>3.582804</td>\n",
       "      <td>3.582804</td>\n",
       "      <td>3.582804</td>\n",
       "      <td>3.582804</td>\n",
       "      <td>3.582804</td>\n",
       "      <td>3.582804</td>\n",
       "      <td>3.582804</td>\n",
       "      <td>3.582804</td>\n",
       "      <td>3.582804</td>\n",
       "      <td>3.582804</td>\n",
       "      <td>3.582804</td>\n",
       "      <td>5</td>\n",
       "      <td>3.582804</td>\n",
       "    </tr>\n",
       "  </tbody>\n",
       "</table>\n",
       "</div>"
      ],
      "text/plain": [
       "   User_ID  Movie_ID  Global_Average      SUR1      SUR2      SUR3      SUR4  \\\n",
       "0   464626      4614        3.582804  3.582804  3.582804  3.582804  3.582804   \n",
       "1  1815614      4627        3.582804  3.582804  3.582804  3.582804  3.582804   \n",
       "2  2298717      4627        3.582804  3.582804  3.582804  3.582804  3.582804   \n",
       "3  2532402      4627        3.582804  3.582804  3.582804  3.582804  3.582804   \n",
       "4     2027      4798        3.582804  3.582804  3.582804  3.582804  3.582804   \n",
       "\n",
       "       SUR5      SMR1      SMR2      SMR3      SMR4      SMR5  User_Average  \\\n",
       "0  3.582804  3.582804  3.582804  3.582804  3.582804  3.582804      3.582804   \n",
       "1  3.582804  3.582804  3.582804  3.582804  3.582804  3.582804      3.582804   \n",
       "2  3.582804  3.582804  3.582804  3.582804  3.582804  3.582804      3.582804   \n",
       "3  3.582804  3.582804  3.582804  3.582804  3.582804  3.582804      3.582804   \n",
       "4  3.582804  3.582804  3.582804  3.582804  3.582804  3.582804      3.582804   \n",
       "\n",
       "   Movie_Average  Rating  BaselineOnly  \n",
       "0       3.582804       3      3.582804  \n",
       "1       3.582804       3      3.582804  \n",
       "2       3.582804       5      3.582804  \n",
       "3       3.582804       4      3.582804  \n",
       "4       3.582804       5      3.582804  "
      ]
     },
     "execution_count": 150,
     "metadata": {},
     "output_type": "execute_result"
    }
   ],
   "source": [
    "Test_reg[\"BaselineOnly\"] = model_test_evaluation[\"BaselineOnly\"][\"Prediction\"]\n",
    "Test_reg.head()"
   ]
  },
  {
   "cell_type": "code",
   "execution_count": 151,
   "metadata": {},
   "outputs": [
    {
     "name": "stdout",
     "output_type": "stream",
     "text": [
      "Number of nan values = 0\n"
     ]
    }
   ],
   "source": [
    "print(\"Number of nan values = \"+str(Test_reg.isnull().sum().sum()))"
   ]
  },
  {
   "cell_type": "code",
   "execution_count": 152,
   "metadata": {},
   "outputs": [
    {
     "name": "stdout",
     "output_type": "stream",
     "text": [
      "[11:57:23] WARNING: C:/Users/Administrator/workspace/xgboost-win64_release_1.3.0/src/learner.cc:541: \n",
      "Parameters: { silent } might not be used.\n",
      "\n",
      "  This may not be accurate due to some parameters are only used in language bindings but\n",
      "  passed down to XGBoost core.  Or some parameters are not used but slip through this\n",
      "  verification. Please open an issue if you find above cases.\n",
      "\n",
      "\n",
      "--------------------------------------------------\n",
      "TRAIN DATA\n",
      "RMSE = 0.5949516863142196\n",
      "MAPE = 16.334639489650726\n",
      "--------------------------------------------------\n",
      "TEST DATA\n",
      "RMSE = 1.2562482311411585\n",
      "MAPE = 30.663328753001164\n",
      "--------------------------------------------------\n",
      "Time Taken = 0:00:01.261574\n"
     ]
    },
    {
     "data": {
      "image/png": "[encoded data removed]",
      "text/plain": [
       "<Figure size 576x432 with 1 Axes>"
      ]
     },
     "metadata": {},
     "output_type": "display_data"
    }
   ],
   "source": [
    "x_train = Train_Reg.drop([\"User_ID\", \"Movie_ID\", \"Rating\"], axis = 1)\n",
    "\n",
    "x_test = Test_reg.drop([\"User_ID\", \"Movie_ID\", \"Rating\"], axis = 1)\n",
    "\n",
    "y_train = Train_Reg[\"Rating\"]\n",
    "\n",
    "y_test = Test_reg[\"Rating\"]\n",
    "\n",
    "train_result, test_result = train_test_xgboost(x_train, x_test, y_train, y_test, \"XGB_BSL\")\n",
    "\n",
    "model_train_evaluation[\"XGB_BSL\"] = train_result\n",
    "model_test_evaluation[\"XGB_BSL\"] = test_result"
   ]
  },
  {
   "cell_type": "markdown",
   "metadata": {},
   "source": [
    "# Surprise KNN-Baseline with User-User and Item-Item Similarity"
   ]
  },
  {
   "cell_type": "markdown",
   "metadata": {},
   "source": [
    "# Surprise KNN-Baseline with User-User.\n",
    "## Cross- Validation"
   ]
  },
  {
   "cell_type": "code",
   "execution_count": 153,
   "metadata": {},
   "outputs": [
    {
     "name": "stdout",
     "output_type": "stream",
     "text": [
      "Estimating biases using als...\n",
      "Computing the pearson_baseline similarity matrix...\n",
      "Done computing similarity matrix.\n",
      "Estimating biases using als...\n",
      "Computing the pearson_baseline similarity matrix...\n",
      "Done computing similarity matrix.\n",
      "Estimating biases using als...\n",
      "Computing the pearson_baseline similarity matrix...\n",
      "Done computing similarity matrix.\n",
      "Estimating biases using als...\n",
      "Computing the pearson_baseline similarity matrix...\n",
      "Done computing similarity matrix.\n",
      "Estimating biases using als...\n",
      "Computing the pearson_baseline similarity matrix...\n",
      "Done computing similarity matrix.\n",
      "Estimating biases using als...\n",
      "Computing the pearson_baseline similarity matrix...\n",
      "Done computing similarity matrix.\n",
      "Estimating biases using als...\n",
      "Computing the pearson_baseline similarity matrix...\n",
      "Done computing similarity matrix.\n",
      "Estimating biases using als...\n",
      "Computing the pearson_baseline similarity matrix...\n",
      "Done computing similarity matrix.\n",
      "Estimating biases using als...\n",
      "Computing the pearson_baseline similarity matrix...\n",
      "Done computing similarity matrix.\n",
      "Estimating biases using als...\n",
      "Computing the pearson_baseline similarity matrix...\n",
      "Done computing similarity matrix.\n",
      "Estimating biases using als...\n",
      "Computing the pearson_baseline similarity matrix...\n",
      "Done computing similarity matrix.\n",
      "Estimating biases using als...\n",
      "Computing the pearson_baseline similarity matrix...\n",
      "Done computing similarity matrix.\n",
      "Estimating biases using als...\n",
      "Computing the pearson_baseline similarity matrix...\n",
      "Done computing similarity matrix.\n",
      "Estimating biases using als...\n",
      "Computing the pearson_baseline similarity matrix...\n",
      "Done computing similarity matrix.\n",
      "Estimating biases using als...\n",
      "Computing the pearson_baseline similarity matrix...\n",
      "Done computing similarity matrix.\n",
      "Estimating biases using als...\n",
      "Computing the pearson_baseline similarity matrix...\n",
      "Done computing similarity matrix.\n",
      "Estimating biases using als...\n",
      "Computing the pearson_baseline similarity matrix...\n",
      "Done computing similarity matrix.\n",
      "Estimating biases using als...\n",
      "Computing the pearson_baseline similarity matrix...\n",
      "Done computing similarity matrix.\n",
      "Estimating biases using als...\n",
      "Computing the pearson_baseline similarity matrix...\n",
      "Done computing similarity matrix.\n",
      "Estimating biases using als...\n",
      "Computing the pearson_baseline similarity matrix...\n",
      "Done computing similarity matrix.\n",
      "Estimating biases using als...\n",
      "Computing the pearson_baseline similarity matrix...\n",
      "Done computing similarity matrix.\n",
      "Estimating biases using als...\n",
      "Computing the pearson_baseline similarity matrix...\n",
      "Done computing similarity matrix.\n",
      "Estimating biases using als...\n",
      "Computing the pearson_baseline similarity matrix...\n",
      "Done computing similarity matrix.\n",
      "Estimating biases using als...\n",
      "Computing the pearson_baseline similarity matrix...\n",
      "Done computing similarity matrix.\n",
      "Estimating biases using als...\n",
      "Computing the pearson_baseline similarity matrix...\n",
      "Done computing similarity matrix.\n",
      "Estimating biases using als...\n",
      "Computing the pearson_baseline similarity matrix...\n",
      "Done computing similarity matrix.\n",
      "Estimating biases using als...\n",
      "Computing the pearson_baseline similarity matrix...\n",
      "Done computing similarity matrix.\n",
      "Estimating biases using als...\n",
      "Computing the pearson_baseline similarity matrix...\n",
      "Done computing similarity matrix.\n",
      "Estimating biases using als...\n",
      "Computing the pearson_baseline similarity matrix...\n",
      "Done computing similarity matrix.\n",
      "Estimating biases using als...\n",
      "Computing the pearson_baseline similarity matrix...\n",
      "Done computing similarity matrix.\n",
      "Estimating biases using als...\n",
      "Computing the pearson_baseline similarity matrix...\n",
      "Done computing similarity matrix.\n",
      "Estimating biases using als...\n",
      "Computing the pearson_baseline similarity matrix...\n",
      "Done computing similarity matrix.\n",
      "Estimating biases using als...\n",
      "Computing the pearson_baseline similarity matrix...\n",
      "Done computing similarity matrix.\n",
      "Estimating biases using als...\n",
      "Computing the pearson_baseline similarity matrix...\n",
      "Done computing similarity matrix.\n",
      "Estimating biases using als...\n",
      "Computing the pearson_baseline similarity matrix...\n",
      "Done computing similarity matrix.\n",
      "Estimating biases using als...\n",
      "Computing the pearson_baseline similarity matrix...\n",
      "Done computing similarity matrix.\n",
      "Estimating biases using als...\n",
      "Computing the pearson_baseline similarity matrix...\n",
      "Done computing similarity matrix.\n",
      "Estimating biases using als...\n",
      "Computing the pearson_baseline similarity matrix...\n",
      "Done computing similarity matrix.\n",
      "Estimating biases using als...\n",
      "Computing the pearson_baseline similarity matrix...\n",
      "Done computing similarity matrix.\n",
      "Estimating biases using als...\n",
      "Computing the pearson_baseline similarity matrix...\n",
      "Done computing similarity matrix.\n",
      "Estimating biases using als...\n",
      "Computing the pearson_baseline similarity matrix...\n",
      "Done computing similarity matrix.\n",
      "Estimating biases using als...\n",
      "Computing the pearson_baseline similarity matrix...\n",
      "Done computing similarity matrix.\n",
      "Estimating biases using als...\n",
      "Computing the pearson_baseline similarity matrix...\n",
      "Done computing similarity matrix.\n",
      "Estimating biases using als...\n",
      "Computing the pearson_baseline similarity matrix...\n",
      "Done computing similarity matrix.\n",
      "Estimating biases using als...\n",
      "Computing the pearson_baseline similarity matrix...\n",
      "Done computing similarity matrix.\n",
      "Estimating biases using als...\n",
      "Computing the pearson_baseline similarity matrix...\n",
      "Done computing similarity matrix.\n",
      "Estimating biases using als...\n",
      "Computing the pearson_baseline similarity matrix...\n",
      "Done computing similarity matrix.\n",
      "Estimating biases using als...\n",
      "Computing the pearson_baseline similarity matrix...\n",
      "Done computing similarity matrix.\n",
      "1.0197568865615387\n",
      "{'sim_options': {'name': 'pearson_baseline', 'user_based': True, 'min_support': 2, 'shrinkage': 60}, 'k': 80}\n"
     ]
    }
   ],
   "source": [
    "param_grid  = {'sim_options':{'name': [\"pearson_baseline\"], \"user_based\": [True], \"min_support\": [2], \"shrinkage\": [60, 80, 80, 140]}, 'k': [5, 20, 40, 80]}\n",
    "\n",
    "gs = GridSearchCV(KNNBaseline, param_grid, measures=['rmse', 'mae'], cv=3)\n",
    "\n",
    "gs.fit(data)\n",
    "\n",
    "# best RMSE score\n",
    "print(gs.best_score['rmse'])\n",
    "\n",
    "# combination of parameters that gave the best RMSE score\n",
    "print(gs.best_params['rmse'])"
   ]
  },
  {
   "cell_type": "markdown",
   "metadata": {},
   "source": [
    "# Applying KNNBaseline User-User with best parameters"
   ]
  },
  {
   "cell_type": "code",
   "execution_count": 158,
   "metadata": {},
   "outputs": [
    {
     "name": "stdout",
     "output_type": "stream",
     "text": [
      "Estimating biases using sgd...\n",
      "Computing the pearson_baseline similarity matrix...\n",
      "Done computing similarity matrix.\n",
      "--------------------------------------------------\n",
      "TRAIN DATA\n",
      "RMSE = 0.3044975188091617\n",
      "MAPE = 8.090955152033715\n",
      "--------------------------------------------------\n",
      "TEST DATA\n",
      "RMSE = 1.067654798722828\n",
      "MAPE = 33.39814334762251\n",
      "--------------------------------------------------\n",
      "Time Taken = 0:00:09.800617\n"
     ]
    }
   ],
   "source": [
    "sim_options = {'name':'pearson_baseline', 'user_based':True, 'min_support':2, 'shrinkage':gs.best_params['rmse']['sim_options']['shrinkage']}\n",
    "\n",
    "bsl_options = {'method': 'sgd'} \n",
    "\n",
    "algo = KNNBaseline(k = gs.best_params['rmse']['k'], sim_options = sim_options, bsl_options=bsl_options)\n",
    "\n",
    "train_result, test_result = run_surprise(algo, trainset, testset, \"KNNBaseline_User\")\n",
    "\n",
    "model_train_evaluation[\"KNNBaseline_User\"] = train_result\n",
    "model_test_evaluation[\"KNNBaseline_User\"] = test_result"
   ]
  },
  {
   "cell_type": "markdown",
   "metadata": {},
   "source": [
    "# Surprise KNN-Baseline with Item-Item.\n",
    "## Cross- Validation"
   ]
  },
  {
   "cell_type": "code",
   "execution_count": 159,
   "metadata": {},
   "outputs": [
    {
     "name": "stdout",
     "output_type": "stream",
     "text": [
      "Estimating biases using als...\n",
      "Computing the pearson_baseline similarity matrix...\n",
      "Done computing similarity matrix.\n",
      "Estimating biases using als...\n",
      "Computing the pearson_baseline similarity matrix...\n",
      "Done computing similarity matrix.\n",
      "Estimating biases using als...\n",
      "Computing the pearson_baseline similarity matrix...\n",
      "Done computing similarity matrix.\n",
      "Estimating biases using als...\n",
      "Computing the pearson_baseline similarity matrix...\n",
      "Done computing similarity matrix.\n",
      "Estimating biases using als...\n",
      "Computing the pearson_baseline similarity matrix...\n",
      "Done computing similarity matrix.\n",
      "Estimating biases using als...\n",
      "Computing the pearson_baseline similarity matrix...\n",
      "Done computing similarity matrix.\n",
      "Estimating biases using als...\n",
      "Computing the pearson_baseline similarity matrix...\n",
      "Done computing similarity matrix.\n",
      "Estimating biases using als...\n",
      "Computing the pearson_baseline similarity matrix...\n",
      "Done computing similarity matrix.\n",
      "Estimating biases using als...\n",
      "Computing the pearson_baseline similarity matrix...\n",
      "Done computing similarity matrix.\n",
      "Estimating biases using als...\n",
      "Computing the pearson_baseline similarity matrix...\n",
      "Done computing similarity matrix.\n",
      "Estimating biases using als...\n",
      "Computing the pearson_baseline similarity matrix...\n",
      "Done computing similarity matrix.\n",
      "Estimating biases using als...\n",
      "Computing the pearson_baseline similarity matrix...\n",
      "Done computing similarity matrix.\n",
      "Estimating biases using als...\n",
      "Computing the pearson_baseline similarity matrix...\n",
      "Done computing similarity matrix.\n",
      "Estimating biases using als...\n",
      "Computing the pearson_baseline similarity matrix...\n",
      "Done computing similarity matrix.\n",
      "Estimating biases using als...\n",
      "Computing the pearson_baseline similarity matrix...\n",
      "Done computing similarity matrix.\n",
      "Estimating biases using als...\n",
      "Computing the pearson_baseline similarity matrix...\n",
      "Done computing similarity matrix.\n",
      "Estimating biases using als...\n",
      "Computing the pearson_baseline similarity matrix...\n",
      "Done computing similarity matrix.\n",
      "Estimating biases using als...\n",
      "Computing the pearson_baseline similarity matrix...\n",
      "Done computing similarity matrix.\n",
      "Estimating biases using als...\n",
      "Computing the pearson_baseline similarity matrix...\n",
      "Done computing similarity matrix.\n",
      "Estimating biases using als...\n",
      "Computing the pearson_baseline similarity matrix...\n",
      "Done computing similarity matrix.\n",
      "Estimating biases using als...\n",
      "Computing the pearson_baseline similarity matrix...\n",
      "Done computing similarity matrix.\n",
      "Estimating biases using als...\n",
      "Computing the pearson_baseline similarity matrix...\n",
      "Done computing similarity matrix.\n",
      "Estimating biases using als...\n",
      "Computing the pearson_baseline similarity matrix...\n",
      "Done computing similarity matrix.\n",
      "Estimating biases using als...\n",
      "Computing the pearson_baseline similarity matrix...\n",
      "Done computing similarity matrix.\n",
      "Estimating biases using als...\n",
      "Computing the pearson_baseline similarity matrix...\n",
      "Done computing similarity matrix.\n",
      "Estimating biases using als...\n",
      "Computing the pearson_baseline similarity matrix...\n",
      "Done computing similarity matrix.\n",
      "Estimating biases using als...\n",
      "Computing the pearson_baseline similarity matrix...\n",
      "Done computing similarity matrix.\n",
      "Estimating biases using als...\n",
      "Computing the pearson_baseline similarity matrix...\n",
      "Done computing similarity matrix.\n",
      "Estimating biases using als...\n",
      "Computing the pearson_baseline similarity matrix...\n",
      "Done computing similarity matrix.\n",
      "Estimating biases using als...\n",
      "Computing the pearson_baseline similarity matrix...\n",
      "Done computing similarity matrix.\n",
      "Estimating biases using als...\n",
      "Computing the pearson_baseline similarity matrix...\n",
      "Done computing similarity matrix.\n",
      "Estimating biases using als...\n",
      "Computing the pearson_baseline similarity matrix...\n",
      "Done computing similarity matrix.\n",
      "Estimating biases using als...\n",
      "Computing the pearson_baseline similarity matrix...\n",
      "Done computing similarity matrix.\n",
      "Estimating biases using als...\n",
      "Computing the pearson_baseline similarity matrix...\n",
      "Done computing similarity matrix.\n",
      "Estimating biases using als...\n",
      "Computing the pearson_baseline similarity matrix...\n",
      "Done computing similarity matrix.\n",
      "Estimating biases using als...\n",
      "Computing the pearson_baseline similarity matrix...\n",
      "Done computing similarity matrix.\n",
      "Estimating biases using als...\n",
      "Computing the pearson_baseline similarity matrix...\n",
      "Done computing similarity matrix.\n",
      "Estimating biases using als...\n",
      "Computing the pearson_baseline similarity matrix...\n",
      "Done computing similarity matrix.\n",
      "Estimating biases using als...\n",
      "Computing the pearson_baseline similarity matrix...\n",
      "Done computing similarity matrix.\n",
      "Estimating biases using als...\n",
      "Computing the pearson_baseline similarity matrix...\n",
      "Done computing similarity matrix.\n",
      "Estimating biases using als...\n",
      "Computing the pearson_baseline similarity matrix...\n",
      "Done computing similarity matrix.\n",
      "Estimating biases using als...\n",
      "Computing the pearson_baseline similarity matrix...\n",
      "Done computing similarity matrix.\n",
      "Estimating biases using als...\n",
      "Computing the pearson_baseline similarity matrix...\n",
      "Done computing similarity matrix.\n",
      "Estimating biases using als...\n",
      "Computing the pearson_baseline similarity matrix...\n",
      "Done computing similarity matrix.\n",
      "Estimating biases using als...\n",
      "Computing the pearson_baseline similarity matrix...\n",
      "Done computing similarity matrix.\n",
      "Estimating biases using als...\n",
      "Computing the pearson_baseline similarity matrix...\n",
      "Done computing similarity matrix.\n",
      "Estimating biases using als...\n",
      "Computing the pearson_baseline similarity matrix...\n",
      "Done computing similarity matrix.\n",
      "Estimating biases using als...\n",
      "Computing the pearson_baseline similarity matrix...\n",
      "Done computing similarity matrix.\n",
      "1.0957296662933629\n",
      "{'sim_options': {'name': 'pearson_baseline', 'user_based': False, 'min_support': 2, 'shrinkage': 60}, 'k': 20}\n"
     ]
    }
   ],
   "source": [
    "param_grid  = {'sim_options':{'name': [\"pearson_baseline\"], \"user_based\": [False], \"min_support\": [2], \"shrinkage\": [60, 80, 80, 140]}, 'k': [5, 20, 40, 80]}\n",
    "\n",
    "gs = GridSearchCV(KNNBaseline, param_grid, measures=['rmse', 'mae'], cv=3)\n",
    "\n",
    "gs.fit(data)\n",
    "\n",
    "# best RMSE score\n",
    "print(gs.best_score['rmse'])\n",
    "\n",
    "# combination of parameters that gave the best RMSE score\n",
    "print(gs.best_params['rmse'])"
   ]
  },
  {
   "cell_type": "markdown",
   "metadata": {},
   "source": [
    "# Applying KNNBaseline Item-Item with best parameters"
   ]
  },
  {
   "cell_type": "code",
   "execution_count": 160,
   "metadata": {},
   "outputs": [
    {
     "name": "stdout",
     "output_type": "stream",
     "text": [
      "Estimating biases using sgd...\n",
      "Computing the pearson_baseline similarity matrix...\n",
      "Done computing similarity matrix.\n",
      "--------------------------------------------------\n",
      "TRAIN DATA\n",
      "RMSE = 0.18165138844472184\n",
      "MAPE = 4.245794665995157\n",
      "--------------------------------------------------\n",
      "TEST DATA\n",
      "RMSE = 1.067654798722828\n",
      "MAPE = 33.39814334762251\n",
      "--------------------------------------------------\n",
      "Time Taken = 0:00:00.651855\n"
     ]
    }
   ],
   "source": [
    "sim_options = {'name':'pearson_baseline', 'user_based':False, 'min_support':2, 'shrinkage':gs.best_params['rmse']['sim_options']['shrinkage']}\n",
    "\n",
    "bsl_options = {'method': 'sgd'} \n",
    "\n",
    "algo = KNNBaseline(k = gs.best_params['rmse']['k'], sim_options = sim_options, bsl_options=bsl_options)\n",
    "\n",
    "train_result, test_result = run_surprise(algo, trainset, testset, \"KNNBaseline_Item\")\n",
    "\n",
    "model_train_evaluation[\"KNNBaseline_Item\"] = train_result\n",
    "model_test_evaluation[\"KNNBaseline_Item\"] = test_result"
   ]
  },
  {
   "cell_type": "markdown",
   "metadata": {},
   "source": [
    "# XGBoost 13 Features + Surprise BaselineOnly + Surprise KNN Baseline\n",
    "## Adding predicted ratings from Surprise KNN Baseline model to our Train and Test Dataframe"
   ]
  },
  {
   "cell_type": "code",
   "execution_count": 161,
   "metadata": {},
   "outputs": [],
   "source": [
    "Train_Reg[\"KNNBaseline_User\"] = model_train_evaluation[\"KNNBaseline_User\"][\"Prediction\"]\n",
    "Train_Reg[\"KNNBaseline_Item\"] = model_train_evaluation[\"KNNBaseline_Item\"][\"Prediction\"]\n",
    "\n",
    "Test_reg[\"KNNBaseline_User\"] = model_test_evaluation[\"KNNBaseline_User\"][\"Prediction\"]\n",
    "Test_reg[\"KNNBaseline_Item\"] = model_test_evaluation[\"KNNBaseline_Item\"][\"Prediction\"]"
   ]
  },
  {
   "cell_type": "code",
   "execution_count": 162,
   "metadata": {},
   "outputs": [
    {
     "data": {
      "text/html": [
       "<div>\n",
       "<style scoped>\n",
       "    .dataframe tbody tr th:only-of-type {\n",
       "        vertical-align: middle;\n",
       "    }\n",
       "\n",
       "    .dataframe tbody tr th {\n",
       "        vertical-align: top;\n",
       "    }\n",
       "\n",
       "    .dataframe thead th {\n",
       "        text-align: right;\n",
       "    }\n",
       "</style>\n",
       "<table border=\"1\" class=\"dataframe\">\n",
       "  <thead>\n",
       "    <tr style=\"text-align: right;\">\n",
       "      <th></th>\n",
       "      <th>User_ID</th>\n",
       "      <th>Movie_ID</th>\n",
       "      <th>Global_Average</th>\n",
       "      <th>SUR1</th>\n",
       "      <th>SUR2</th>\n",
       "      <th>SUR3</th>\n",
       "      <th>SUR4</th>\n",
       "      <th>SUR5</th>\n",
       "      <th>SMR1</th>\n",
       "      <th>SMR2</th>\n",
       "      <th>SMR3</th>\n",
       "      <th>SMR4</th>\n",
       "      <th>SMR5</th>\n",
       "      <th>User_Average</th>\n",
       "      <th>Movie_Average</th>\n",
       "      <th>Rating</th>\n",
       "      <th>BaselineOnly</th>\n",
       "      <th>KNNBaseline_User</th>\n",
       "      <th>KNNBaseline_Item</th>\n",
       "    </tr>\n",
       "  </thead>\n",
       "  <tbody>\n",
       "    <tr>\n",
       "      <th>0</th>\n",
       "      <td>180921</td>\n",
       "      <td>4512</td>\n",
       "      <td>3.582804</td>\n",
       "      <td>3.0</td>\n",
       "      <td>2.0</td>\n",
       "      <td>1.0</td>\n",
       "      <td>2.0</td>\n",
       "      <td>1.0</td>\n",
       "      <td>4.0</td>\n",
       "      <td>3.0</td>\n",
       "      <td>4.0</td>\n",
       "      <td>2.0</td>\n",
       "      <td>2.0</td>\n",
       "      <td>2.900000</td>\n",
       "      <td>2.5</td>\n",
       "      <td>1</td>\n",
       "      <td>2.077166</td>\n",
       "      <td>1.193482</td>\n",
       "      <td>1.076235</td>\n",
       "    </tr>\n",
       "    <tr>\n",
       "      <th>1</th>\n",
       "      <td>210185</td>\n",
       "      <td>4512</td>\n",
       "      <td>3.582804</td>\n",
       "      <td>2.0</td>\n",
       "      <td>1.0</td>\n",
       "      <td>3.0</td>\n",
       "      <td>3.0</td>\n",
       "      <td>4.0</td>\n",
       "      <td>3.0</td>\n",
       "      <td>3.0</td>\n",
       "      <td>3.0</td>\n",
       "      <td>4.0</td>\n",
       "      <td>4.0</td>\n",
       "      <td>3.388889</td>\n",
       "      <td>2.5</td>\n",
       "      <td>2</td>\n",
       "      <td>2.916411</td>\n",
       "      <td>2.246199</td>\n",
       "      <td>2.014904</td>\n",
       "    </tr>\n",
       "    <tr>\n",
       "      <th>2</th>\n",
       "      <td>218038</td>\n",
       "      <td>4512</td>\n",
       "      <td>3.582804</td>\n",
       "      <td>2.0</td>\n",
       "      <td>3.0</td>\n",
       "      <td>3.0</td>\n",
       "      <td>2.0</td>\n",
       "      <td>4.0</td>\n",
       "      <td>4.0</td>\n",
       "      <td>4.0</td>\n",
       "      <td>4.0</td>\n",
       "      <td>3.0</td>\n",
       "      <td>5.0</td>\n",
       "      <td>4.250000</td>\n",
       "      <td>2.5</td>\n",
       "      <td>4</td>\n",
       "      <td>2.905264</td>\n",
       "      <td>3.727792</td>\n",
       "      <td>3.653776</td>\n",
       "    </tr>\n",
       "    <tr>\n",
       "      <th>3</th>\n",
       "      <td>221936</td>\n",
       "      <td>4512</td>\n",
       "      <td>3.582804</td>\n",
       "      <td>4.0</td>\n",
       "      <td>2.0</td>\n",
       "      <td>2.0</td>\n",
       "      <td>1.0</td>\n",
       "      <td>2.0</td>\n",
       "      <td>3.0</td>\n",
       "      <td>4.0</td>\n",
       "      <td>4.0</td>\n",
       "      <td>5.0</td>\n",
       "      <td>3.0</td>\n",
       "      <td>3.458333</td>\n",
       "      <td>2.5</td>\n",
       "      <td>3</td>\n",
       "      <td>3.290933</td>\n",
       "      <td>3.097569</td>\n",
       "      <td>2.961074</td>\n",
       "    </tr>\n",
       "    <tr>\n",
       "      <th>4</th>\n",
       "      <td>370736</td>\n",
       "      <td>4512</td>\n",
       "      <td>3.582804</td>\n",
       "      <td>2.0</td>\n",
       "      <td>4.0</td>\n",
       "      <td>1.0</td>\n",
       "      <td>2.0</td>\n",
       "      <td>2.0</td>\n",
       "      <td>4.0</td>\n",
       "      <td>4.0</td>\n",
       "      <td>4.0</td>\n",
       "      <td>4.0</td>\n",
       "      <td>5.0</td>\n",
       "      <td>4.038462</td>\n",
       "      <td>2.5</td>\n",
       "      <td>4</td>\n",
       "      <td>3.561135</td>\n",
       "      <td>3.042586</td>\n",
       "      <td>3.105870</td>\n",
       "    </tr>\n",
       "  </tbody>\n",
       "</table>\n",
       "</div>"
      ],
      "text/plain": [
       "   User_ID  Movie_ID  Global_Average  SUR1  SUR2  SUR3  SUR4  SUR5  SMR1  \\\n",
       "0   180921      4512        3.582804   3.0   2.0   1.0   2.0   1.0   4.0   \n",
       "1   210185      4512        3.582804   2.0   1.0   3.0   3.0   4.0   3.0   \n",
       "2   218038      4512        3.582804   2.0   3.0   3.0   2.0   4.0   4.0   \n",
       "3   221936      4512        3.582804   4.0   2.0   2.0   1.0   2.0   3.0   \n",
       "4   370736      4512        3.582804   2.0   4.0   1.0   2.0   2.0   4.0   \n",
       "\n",
       "   SMR2  SMR3  SMR4  SMR5  User_Average  Movie_Average  Rating  BaselineOnly  \\\n",
       "0   3.0   4.0   2.0   2.0      2.900000            2.5       1      2.077166   \n",
       "1   3.0   3.0   4.0   4.0      3.388889            2.5       2      2.916411   \n",
       "2   4.0   4.0   3.0   5.0      4.250000            2.5       4      2.905264   \n",
       "3   4.0   4.0   5.0   3.0      3.458333            2.5       3      3.290933   \n",
       "4   4.0   4.0   4.0   5.0      4.038462            2.5       4      3.561135   \n",
       "\n",
       "   KNNBaseline_User  KNNBaseline_Item  \n",
       "0          1.193482          1.076235  \n",
       "1          2.246199          2.014904  \n",
       "2          3.727792          3.653776  \n",
       "3          3.097569          2.961074  \n",
       "4          3.042586          3.105870  "
      ]
     },
     "execution_count": 162,
     "metadata": {},
     "output_type": "execute_result"
    }
   ],
   "source": [
    "Train_Reg.head()"
   ]
  },
  {
   "cell_type": "code",
   "execution_count": 163,
   "metadata": {},
   "outputs": [
    {
     "name": "stdout",
     "output_type": "stream",
     "text": [
      "Number of nan values in Train Data 0\n"
     ]
    }
   ],
   "source": [
    "print(\"Number of nan values in Train Data \"+str(Train_Reg.isnull().sum().sum()))"
   ]
  },
  {
   "cell_type": "code",
   "execution_count": 165,
   "metadata": {},
   "outputs": [
    {
     "data": {
      "text/html": [
       "<div>\n",
       "<style scoped>\n",
       "    .dataframe tbody tr th:only-of-type {\n",
       "        vertical-align: middle;\n",
       "    }\n",
       "\n",
       "    .dataframe tbody tr th {\n",
       "        vertical-align: top;\n",
       "    }\n",
       "\n",
       "    .dataframe thead th {\n",
       "        text-align: right;\n",
       "    }\n",
       "</style>\n",
       "<table border=\"1\" class=\"dataframe\">\n",
       "  <thead>\n",
       "    <tr style=\"text-align: right;\">\n",
       "      <th></th>\n",
       "      <th>User_ID</th>\n",
       "      <th>Movie_ID</th>\n",
       "      <th>Global_Average</th>\n",
       "      <th>SUR1</th>\n",
       "      <th>SUR2</th>\n",
       "      <th>SUR3</th>\n",
       "      <th>SUR4</th>\n",
       "      <th>SUR5</th>\n",
       "      <th>SMR1</th>\n",
       "      <th>SMR2</th>\n",
       "      <th>SMR3</th>\n",
       "      <th>SMR4</th>\n",
       "      <th>SMR5</th>\n",
       "      <th>User_Average</th>\n",
       "      <th>Movie_Average</th>\n",
       "      <th>Rating</th>\n",
       "      <th>BaselineOnly</th>\n",
       "      <th>KNNBaseline_User</th>\n",
       "      <th>KNNBaseline_Item</th>\n",
       "    </tr>\n",
       "  </thead>\n",
       "  <tbody>\n",
       "    <tr>\n",
       "      <th>0</th>\n",
       "      <td>464626</td>\n",
       "      <td>4614</td>\n",
       "      <td>3.582804</td>\n",
       "      <td>3.582804</td>\n",
       "      <td>3.582804</td>\n",
       "      <td>3.582804</td>\n",
       "      <td>3.582804</td>\n",
       "      <td>3.582804</td>\n",
       "      <td>3.582804</td>\n",
       "      <td>3.582804</td>\n",
       "      <td>3.582804</td>\n",
       "      <td>3.582804</td>\n",
       "      <td>3.582804</td>\n",
       "      <td>3.582804</td>\n",
       "      <td>3.582804</td>\n",
       "      <td>3</td>\n",
       "      <td>3.582804</td>\n",
       "      <td>3.582804</td>\n",
       "      <td>3.582804</td>\n",
       "    </tr>\n",
       "    <tr>\n",
       "      <th>1</th>\n",
       "      <td>1815614</td>\n",
       "      <td>4627</td>\n",
       "      <td>3.582804</td>\n",
       "      <td>3.582804</td>\n",
       "      <td>3.582804</td>\n",
       "      <td>3.582804</td>\n",
       "      <td>3.582804</td>\n",
       "      <td>3.582804</td>\n",
       "      <td>3.582804</td>\n",
       "      <td>3.582804</td>\n",
       "      <td>3.582804</td>\n",
       "      <td>3.582804</td>\n",
       "      <td>3.582804</td>\n",
       "      <td>3.582804</td>\n",
       "      <td>3.582804</td>\n",
       "      <td>3</td>\n",
       "      <td>3.582804</td>\n",
       "      <td>3.582804</td>\n",
       "      <td>3.582804</td>\n",
       "    </tr>\n",
       "    <tr>\n",
       "      <th>2</th>\n",
       "      <td>2298717</td>\n",
       "      <td>4627</td>\n",
       "      <td>3.582804</td>\n",
       "      <td>3.582804</td>\n",
       "      <td>3.582804</td>\n",
       "      <td>3.582804</td>\n",
       "      <td>3.582804</td>\n",
       "      <td>3.582804</td>\n",
       "      <td>3.582804</td>\n",
       "      <td>3.582804</td>\n",
       "      <td>3.582804</td>\n",
       "      <td>3.582804</td>\n",
       "      <td>3.582804</td>\n",
       "      <td>3.582804</td>\n",
       "      <td>3.582804</td>\n",
       "      <td>5</td>\n",
       "      <td>3.582804</td>\n",
       "      <td>3.582804</td>\n",
       "      <td>3.582804</td>\n",
       "    </tr>\n",
       "    <tr>\n",
       "      <th>3</th>\n",
       "      <td>2532402</td>\n",
       "      <td>4627</td>\n",
       "      <td>3.582804</td>\n",
       "      <td>3.582804</td>\n",
       "      <td>3.582804</td>\n",
       "      <td>3.582804</td>\n",
       "      <td>3.582804</td>\n",
       "      <td>3.582804</td>\n",
       "      <td>3.582804</td>\n",
       "      <td>3.582804</td>\n",
       "      <td>3.582804</td>\n",
       "      <td>3.582804</td>\n",
       "      <td>3.582804</td>\n",
       "      <td>3.582804</td>\n",
       "      <td>3.582804</td>\n",
       "      <td>4</td>\n",
       "      <td>3.582804</td>\n",
       "      <td>3.582804</td>\n",
       "      <td>3.582804</td>\n",
       "    </tr>\n",
       "    <tr>\n",
       "      <th>4</th>\n",
       "      <td>2027</td>\n",
       "      <td>4798</td>\n",
       "      <td>3.582804</td>\n",
       "      <td>3.582804</td>\n",
       "      <td>3.582804</td>\n",
       "      <td>3.582804</td>\n",
       "      <td>3.582804</td>\n",
       "      <td>3.582804</td>\n",
       "      <td>3.582804</td>\n",
       "      <td>3.582804</td>\n",
       "      <td>3.582804</td>\n",
       "      <td>3.582804</td>\n",
       "      <td>3.582804</td>\n",
       "      <td>3.582804</td>\n",
       "      <td>3.582804</td>\n",
       "      <td>5</td>\n",
       "      <td>3.582804</td>\n",
       "      <td>3.582804</td>\n",
       "      <td>3.582804</td>\n",
       "    </tr>\n",
       "  </tbody>\n",
       "</table>\n",
       "</div>"
      ],
      "text/plain": [
       "   User_ID  Movie_ID  Global_Average      SUR1      SUR2      SUR3      SUR4  \\\n",
       "0   464626      4614        3.582804  3.582804  3.582804  3.582804  3.582804   \n",
       "1  1815614      4627        3.582804  3.582804  3.582804  3.582804  3.582804   \n",
       "2  2298717      4627        3.582804  3.582804  3.582804  3.582804  3.582804   \n",
       "3  2532402      4627        3.582804  3.582804  3.582804  3.582804  3.582804   \n",
       "4     2027      4798        3.582804  3.582804  3.582804  3.582804  3.582804   \n",
       "\n",
       "       SUR5      SMR1      SMR2      SMR3      SMR4      SMR5  User_Average  \\\n",
       "0  3.582804  3.582804  3.582804  3.582804  3.582804  3.582804      3.582804   \n",
       "1  3.582804  3.582804  3.582804  3.582804  3.582804  3.582804      3.582804   \n",
       "2  3.582804  3.582804  3.582804  3.582804  3.582804  3.582804      3.582804   \n",
       "3  3.582804  3.582804  3.582804  3.582804  3.582804  3.582804      3.582804   \n",
       "4  3.582804  3.582804  3.582804  3.582804  3.582804  3.582804      3.582804   \n",
       "\n",
       "   Movie_Average  Rating  BaselineOnly  KNNBaseline_User  KNNBaseline_Item  \n",
       "0       3.582804       3      3.582804          3.582804          3.582804  \n",
       "1       3.582804       3      3.582804          3.582804          3.582804  \n",
       "2       3.582804       5      3.582804          3.582804          3.582804  \n",
       "3       3.582804       4      3.582804          3.582804          3.582804  \n",
       "4       3.582804       5      3.582804          3.582804          3.582804  "
      ]
     },
     "execution_count": 165,
     "metadata": {},
     "output_type": "execute_result"
    }
   ],
   "source": [
    "Test_reg.head()"
   ]
  },
  {
   "cell_type": "code",
   "execution_count": 167,
   "metadata": {},
   "outputs": [
    {
     "name": "stdout",
     "output_type": "stream",
     "text": [
      "Number of nan values in Test Data 0\n"
     ]
    }
   ],
   "source": [
    "print(\"Number of nan values in Test Data \"+str(Test_reg.isnull().sum().sum()))"
   ]
  },
  {
   "cell_type": "code",
   "execution_count": 169,
   "metadata": {},
   "outputs": [
    {
     "name": "stdout",
     "output_type": "stream",
     "text": [
      "[12:17:11] WARNING: C:/Users/Administrator/workspace/xgboost-win64_release_1.3.0/src/learner.cc:541: \n",
      "Parameters: { silent } might not be used.\n",
      "\n",
      "  This may not be accurate due to some parameters are only used in language bindings but\n",
      "  passed down to XGBoost core.  Or some parameters are not used but slip through this\n",
      "  verification. Please open an issue if you find above cases.\n",
      "\n",
      "\n",
      "--------------------------------------------------\n",
      "TRAIN DATA\n",
      "RMSE = 0.5884776139759752\n",
      "MAPE = 16.365784406661987\n",
      "--------------------------------------------------\n",
      "TEST DATA\n",
      "RMSE = 1.146172457501923\n",
      "MAPE = 31.64374059974294\n",
      "--------------------------------------------------\n",
      "Time Taken = 0:00:01.265898\n"
     ]
    },
    {
     "data": {
      "image/png": "[encoded data removed]",
      "text/plain": [
       "<Figure size 576x432 with 1 Axes>"
      ]
     },
     "metadata": {},
     "output_type": "display_data"
    }
   ],
   "source": [
    "x_train = Train_Reg.drop([\"User_ID\", \"Movie_ID\", \"Rating\"], axis = 1)\n",
    "\n",
    "x_test = Test_reg.drop([\"User_ID\", \"Movie_ID\", \"Rating\"], axis = 1)\n",
    "\n",
    "y_train = Train_Reg[\"Rating\"]\n",
    "\n",
    "y_test = Test_reg[\"Rating\"]\n",
    "\n",
    "train_result, test_result = train_test_xgboost(x_train, x_test, y_train, y_test, \"XGB_BSL_KNN\")\n",
    "\n",
    "model_train_evaluation[\"XGB_BSL_KNN\"] = train_result\n",
    "model_test_evaluation[\"XGB_BSL_KNN\"] = test_result"
   ]
  },
  {
   "cell_type": "markdown",
   "metadata": {},
   "source": [
    "## Matrix Factorization SVD"
   ]
  },
  {
   "cell_type": "code",
   "execution_count": 170,
   "metadata": {},
   "outputs": [
    {
     "name": "stdout",
     "output_type": "stream",
     "text": [
      "0.9928795503593242\n",
      "{'n_factors': 7}\n"
     ]
    }
   ],
   "source": [
    "param_grid  = {'n_factors': [5,7,10,15,20,25,35,50,70,90]}   #here, n_factors is the equivalent to dimension 'd' when matrix 'A'\n",
    "#is broken into 'b' and 'c'. So, matrix 'A' will be of dimension n*m. So, matrices 'b' and 'c' will be of dimension n*d and m*d.\n",
    "\n",
    "gs = GridSearchCV(SVD, param_grid, measures=['rmse', 'mae'], cv=3)\n",
    "\n",
    "gs.fit(data)\n",
    "\n",
    "# best RMSE score\n",
    "print(gs.best_score['rmse'])\n",
    "\n",
    "# combination of parameters that gave the best RMSE score\n",
    "print(gs.best_params['rmse'])"
   ]
  },
  {
   "cell_type": "code",
   "execution_count": 172,
   "metadata": {},
   "outputs": [
    {
     "name": "stdout",
     "output_type": "stream",
     "text": [
      "Processing epoch 0\n",
      "Processing epoch 1\n",
      "Processing epoch 2\n",
      "Processing epoch 3\n",
      "Processing epoch 4\n",
      "Processing epoch 5\n",
      "Processing epoch 6\n",
      "Processing epoch 7\n",
      "Processing epoch 8\n",
      "Processing epoch 9\n",
      "Processing epoch 10\n",
      "Processing epoch 11\n",
      "Processing epoch 12\n",
      "Processing epoch 13\n",
      "Processing epoch 14\n",
      "Processing epoch 15\n",
      "Processing epoch 16\n",
      "Processing epoch 17\n",
      "Processing epoch 18\n",
      "Processing epoch 19\n",
      "--------------------------------------------------\n",
      "TRAIN DATA\n",
      "RMSE = 0.8915292018008784\n",
      "MAPE = 27.929401130209502\n",
      "--------------------------------------------------\n",
      "TEST DATA\n",
      "RMSE = 1.0676633276455576\n",
      "MAPE = 33.39843901285594\n",
      "--------------------------------------------------\n",
      "Time Taken = 0:00:00.419050\n"
     ]
    }
   ],
   "source": [
    "algo=SVD(n_factors=gs.best_params['rmse']['n_factors'],biased=True,verbose=True)\n",
    "train_result, test_result = run_surprise(algo, trainset, testset, \"SVD\")\n",
    "\n",
    "model_train_evaluation[\"SVD\"] = train_result\n",
    "model_test_evaluation[\"SVD\"] = test_result"
   ]
  },
  {
   "cell_type": "markdown",
   "metadata": {},
   "source": [
    "# Matrix Factorization SVDpp with implicit feedback"
   ]
  },
  {
   "cell_type": "markdown",
   "metadata": {},
   "source": [
    "# Cross- Validation"
   ]
  },
  {
   "cell_type": "code",
   "execution_count": 173,
   "metadata": {},
   "outputs": [
    {
     "name": "stdout",
     "output_type": "stream",
     "text": [
      "0.9857877246085246\n",
      "{'n_factors': 10, 'lr_all': 0.006}\n"
     ]
    }
   ],
   "source": [
    "param_grid = {'n_factors': [10, 30, 50, 80, 100], 'lr_all': [0.002, 0.006, 0.018, 0.054, 0.10]}\n",
    "\n",
    "gs = GridSearchCV(SVDpp, param_grid, measures=['rmse', 'mae'], cv=3)\n",
    "\n",
    "gs.fit(data)\n",
    "\n",
    "# best RMSE score\n",
    "print(gs.best_score['rmse'])\n",
    "\n",
    "# combination of parameters that gave the best RMSE score\n",
    "print(gs.best_params['rmse'])"
   ]
  },
  {
   "cell_type": "markdown",
   "metadata": {},
   "source": [
    "# Applying SVDpp with best parameters"
   ]
  },
  {
   "cell_type": "code",
   "execution_count": 174,
   "metadata": {},
   "outputs": [
    {
     "name": "stdout",
     "output_type": "stream",
     "text": [
      " processing epoch 0\n",
      " processing epoch 1\n",
      " processing epoch 2\n",
      " processing epoch 3\n",
      " processing epoch 4\n",
      " processing epoch 5\n",
      " processing epoch 6\n",
      " processing epoch 7\n",
      " processing epoch 8\n",
      " processing epoch 9\n",
      " processing epoch 10\n",
      " processing epoch 11\n",
      " processing epoch 12\n",
      " processing epoch 13\n",
      " processing epoch 14\n",
      " processing epoch 15\n",
      " processing epoch 16\n",
      " processing epoch 17\n",
      " processing epoch 18\n",
      " processing epoch 19\n",
      "--------------------------------------------------\n",
      "TRAIN DATA\n",
      "RMSE = 0.793069836701297\n",
      "MAPE = 24.331089234704926\n",
      "--------------------------------------------------\n",
      "TEST DATA\n",
      "RMSE = 1.0676735672268267\n",
      "MAPE = 33.3956791755603\n",
      "--------------------------------------------------\n",
      "Time Taken = 0:00:04.232203\n"
     ]
    }
   ],
   "source": [
    "algo = SVDpp(n_factors = gs.best_params['rmse']['n_factors'], lr_all = gs.best_params['rmse'][\"lr_all\"], verbose=True)\n",
    "\n",
    "train_result, test_result = run_surprise(algo, trainset, testset, \"SVDpp\")\n",
    "\n",
    "model_train_evaluation[\"SVDpp\"] = train_result\n",
    "model_test_evaluation[\"SVDpp\"] = test_result"
   ]
  },
  {
   "cell_type": "markdown",
   "metadata": {},
   "source": [
    "# XGBoost 13 Features + Surprise BaselineOnly + Surprise KNN Baseline + SVD + SVDpp"
   ]
  },
  {
   "cell_type": "code",
   "execution_count": 176,
   "metadata": {},
   "outputs": [],
   "source": [
    "Train_Reg[\"SVD\"] = model_train_evaluation[\"SVD\"][\"Prediction\"]\n",
    "Train_Reg[\"SVDpp\"] = model_train_evaluation[\"SVDpp\"][\"Prediction\"]\n",
    "\n",
    "Test_reg[\"SVD\"] = model_test_evaluation[\"SVD\"][\"Prediction\"]\n",
    "Test_reg[\"SVDpp\"] = model_test_evaluation[\"SVDpp\"][\"Prediction\"]"
   ]
  },
  {
   "cell_type": "code",
   "execution_count": 177,
   "metadata": {},
   "outputs": [
    {
     "data": {
      "text/html": [
       "<div>\n",
       "<style scoped>\n",
       "    .dataframe tbody tr th:only-of-type {\n",
       "        vertical-align: middle;\n",
       "    }\n",
       "\n",
       "    .dataframe tbody tr th {\n",
       "        vertical-align: top;\n",
       "    }\n",
       "\n",
       "    .dataframe thead th {\n",
       "        text-align: right;\n",
       "    }\n",
       "</style>\n",
       "<table border=\"1\" class=\"dataframe\">\n",
       "  <thead>\n",
       "    <tr style=\"text-align: right;\">\n",
       "      <th></th>\n",
       "      <th>User_ID</th>\n",
       "      <th>Movie_ID</th>\n",
       "      <th>Global_Average</th>\n",
       "      <th>SUR1</th>\n",
       "      <th>SUR2</th>\n",
       "      <th>SUR3</th>\n",
       "      <th>SUR4</th>\n",
       "      <th>SUR5</th>\n",
       "      <th>SMR1</th>\n",
       "      <th>SMR2</th>\n",
       "      <th>...</th>\n",
       "      <th>SMR4</th>\n",
       "      <th>SMR5</th>\n",
       "      <th>User_Average</th>\n",
       "      <th>Movie_Average</th>\n",
       "      <th>Rating</th>\n",
       "      <th>BaselineOnly</th>\n",
       "      <th>KNNBaseline_User</th>\n",
       "      <th>KNNBaseline_Item</th>\n",
       "      <th>SVD</th>\n",
       "      <th>SVDpp</th>\n",
       "    </tr>\n",
       "  </thead>\n",
       "  <tbody>\n",
       "    <tr>\n",
       "      <th>0</th>\n",
       "      <td>180921</td>\n",
       "      <td>4512</td>\n",
       "      <td>3.582804</td>\n",
       "      <td>3.0</td>\n",
       "      <td>2.0</td>\n",
       "      <td>1.0</td>\n",
       "      <td>2.0</td>\n",
       "      <td>1.0</td>\n",
       "      <td>4.0</td>\n",
       "      <td>3.0</td>\n",
       "      <td>...</td>\n",
       "      <td>2.0</td>\n",
       "      <td>2.0</td>\n",
       "      <td>2.900000</td>\n",
       "      <td>2.5</td>\n",
       "      <td>1</td>\n",
       "      <td>2.077166</td>\n",
       "      <td>1.193482</td>\n",
       "      <td>1.076235</td>\n",
       "      <td>2.237030</td>\n",
       "      <td>2.231730</td>\n",
       "    </tr>\n",
       "    <tr>\n",
       "      <th>1</th>\n",
       "      <td>210185</td>\n",
       "      <td>4512</td>\n",
       "      <td>3.582804</td>\n",
       "      <td>2.0</td>\n",
       "      <td>1.0</td>\n",
       "      <td>3.0</td>\n",
       "      <td>3.0</td>\n",
       "      <td>4.0</td>\n",
       "      <td>3.0</td>\n",
       "      <td>3.0</td>\n",
       "      <td>...</td>\n",
       "      <td>4.0</td>\n",
       "      <td>4.0</td>\n",
       "      <td>3.388889</td>\n",
       "      <td>2.5</td>\n",
       "      <td>2</td>\n",
       "      <td>2.916411</td>\n",
       "      <td>2.246199</td>\n",
       "      <td>2.014904</td>\n",
       "      <td>3.050194</td>\n",
       "      <td>2.752852</td>\n",
       "    </tr>\n",
       "    <tr>\n",
       "      <th>2</th>\n",
       "      <td>218038</td>\n",
       "      <td>4512</td>\n",
       "      <td>3.582804</td>\n",
       "      <td>2.0</td>\n",
       "      <td>3.0</td>\n",
       "      <td>3.0</td>\n",
       "      <td>2.0</td>\n",
       "      <td>4.0</td>\n",
       "      <td>4.0</td>\n",
       "      <td>4.0</td>\n",
       "      <td>...</td>\n",
       "      <td>3.0</td>\n",
       "      <td>5.0</td>\n",
       "      <td>4.250000</td>\n",
       "      <td>2.5</td>\n",
       "      <td>4</td>\n",
       "      <td>2.905264</td>\n",
       "      <td>3.727792</td>\n",
       "      <td>3.653776</td>\n",
       "      <td>3.037636</td>\n",
       "      <td>3.159202</td>\n",
       "    </tr>\n",
       "    <tr>\n",
       "      <th>3</th>\n",
       "      <td>221936</td>\n",
       "      <td>4512</td>\n",
       "      <td>3.582804</td>\n",
       "      <td>4.0</td>\n",
       "      <td>2.0</td>\n",
       "      <td>2.0</td>\n",
       "      <td>1.0</td>\n",
       "      <td>2.0</td>\n",
       "      <td>3.0</td>\n",
       "      <td>4.0</td>\n",
       "      <td>...</td>\n",
       "      <td>5.0</td>\n",
       "      <td>3.0</td>\n",
       "      <td>3.458333</td>\n",
       "      <td>2.5</td>\n",
       "      <td>3</td>\n",
       "      <td>3.290933</td>\n",
       "      <td>3.097569</td>\n",
       "      <td>2.961074</td>\n",
       "      <td>3.443622</td>\n",
       "      <td>3.291811</td>\n",
       "    </tr>\n",
       "    <tr>\n",
       "      <th>4</th>\n",
       "      <td>370736</td>\n",
       "      <td>4512</td>\n",
       "      <td>3.582804</td>\n",
       "      <td>2.0</td>\n",
       "      <td>4.0</td>\n",
       "      <td>1.0</td>\n",
       "      <td>2.0</td>\n",
       "      <td>2.0</td>\n",
       "      <td>4.0</td>\n",
       "      <td>4.0</td>\n",
       "      <td>...</td>\n",
       "      <td>4.0</td>\n",
       "      <td>5.0</td>\n",
       "      <td>4.038462</td>\n",
       "      <td>2.5</td>\n",
       "      <td>4</td>\n",
       "      <td>3.561135</td>\n",
       "      <td>3.042586</td>\n",
       "      <td>3.105870</td>\n",
       "      <td>3.806972</td>\n",
       "      <td>3.495492</td>\n",
       "    </tr>\n",
       "  </tbody>\n",
       "</table>\n",
       "<p>5 rows × 21 columns</p>\n",
       "</div>"
      ],
      "text/plain": [
       "   User_ID  Movie_ID  Global_Average  SUR1  SUR2  SUR3  SUR4  SUR5  SMR1  \\\n",
       "0   180921      4512        3.582804   3.0   2.0   1.0   2.0   1.0   4.0   \n",
       "1   210185      4512        3.582804   2.0   1.0   3.0   3.0   4.0   3.0   \n",
       "2   218038      4512        3.582804   2.0   3.0   3.0   2.0   4.0   4.0   \n",
       "3   221936      4512        3.582804   4.0   2.0   2.0   1.0   2.0   3.0   \n",
       "4   370736      4512        3.582804   2.0   4.0   1.0   2.0   2.0   4.0   \n",
       "\n",
       "   SMR2  ...  SMR4  SMR5  User_Average  Movie_Average  Rating  BaselineOnly  \\\n",
       "0   3.0  ...   2.0   2.0      2.900000            2.5       1      2.077166   \n",
       "1   3.0  ...   4.0   4.0      3.388889            2.5       2      2.916411   \n",
       "2   4.0  ...   3.0   5.0      4.250000            2.5       4      2.905264   \n",
       "3   4.0  ...   5.0   3.0      3.458333            2.5       3      3.290933   \n",
       "4   4.0  ...   4.0   5.0      4.038462            2.5       4      3.561135   \n",
       "\n",
       "   KNNBaseline_User  KNNBaseline_Item       SVD     SVDpp  \n",
       "0          1.193482          1.076235  2.237030  2.231730  \n",
       "1          2.246199          2.014904  3.050194  2.752852  \n",
       "2          3.727792          3.653776  3.037636  3.159202  \n",
       "3          3.097569          2.961074  3.443622  3.291811  \n",
       "4          3.042586          3.105870  3.806972  3.495492  \n",
       "\n",
       "[5 rows x 21 columns]"
      ]
     },
     "execution_count": 177,
     "metadata": {},
     "output_type": "execute_result"
    }
   ],
   "source": [
    "Train_Reg.head()"
   ]
  },
  {
   "cell_type": "code",
   "execution_count": 178,
   "metadata": {},
   "outputs": [
    {
     "name": "stdout",
     "output_type": "stream",
     "text": [
      "Number of nan values in Train Data 0\n"
     ]
    }
   ],
   "source": [
    "print(\"Number of nan values in Train Data \"+str(Train_Reg.isnull().sum().sum()))"
   ]
  },
  {
   "cell_type": "code",
   "execution_count": 179,
   "metadata": {},
   "outputs": [
    {
     "data": {
      "text/html": [
       "<div>\n",
       "<style scoped>\n",
       "    .dataframe tbody tr th:only-of-type {\n",
       "        vertical-align: middle;\n",
       "    }\n",
       "\n",
       "    .dataframe tbody tr th {\n",
       "        vertical-align: top;\n",
       "    }\n",
       "\n",
       "    .dataframe thead th {\n",
       "        text-align: right;\n",
       "    }\n",
       "</style>\n",
       "<table border=\"1\" class=\"dataframe\">\n",
       "  <thead>\n",
       "    <tr style=\"text-align: right;\">\n",
       "      <th></th>\n",
       "      <th>User_ID</th>\n",
       "      <th>Movie_ID</th>\n",
       "      <th>Global_Average</th>\n",
       "      <th>SUR1</th>\n",
       "      <th>SUR2</th>\n",
       "      <th>SUR3</th>\n",
       "      <th>SUR4</th>\n",
       "      <th>SUR5</th>\n",
       "      <th>SMR1</th>\n",
       "      <th>SMR2</th>\n",
       "      <th>...</th>\n",
       "      <th>SMR4</th>\n",
       "      <th>SMR5</th>\n",
       "      <th>User_Average</th>\n",
       "      <th>Movie_Average</th>\n",
       "      <th>Rating</th>\n",
       "      <th>BaselineOnly</th>\n",
       "      <th>KNNBaseline_User</th>\n",
       "      <th>KNNBaseline_Item</th>\n",
       "      <th>SVD</th>\n",
       "      <th>SVDpp</th>\n",
       "    </tr>\n",
       "  </thead>\n",
       "  <tbody>\n",
       "    <tr>\n",
       "      <th>0</th>\n",
       "      <td>464626</td>\n",
       "      <td>4614</td>\n",
       "      <td>3.582804</td>\n",
       "      <td>3.582804</td>\n",
       "      <td>3.582804</td>\n",
       "      <td>3.582804</td>\n",
       "      <td>3.582804</td>\n",
       "      <td>3.582804</td>\n",
       "      <td>3.582804</td>\n",
       "      <td>3.582804</td>\n",
       "      <td>...</td>\n",
       "      <td>3.582804</td>\n",
       "      <td>3.582804</td>\n",
       "      <td>3.582804</td>\n",
       "      <td>3.582804</td>\n",
       "      <td>3</td>\n",
       "      <td>3.582804</td>\n",
       "      <td>3.582804</td>\n",
       "      <td>3.582804</td>\n",
       "      <td>3.582804</td>\n",
       "      <td>3.582804</td>\n",
       "    </tr>\n",
       "    <tr>\n",
       "      <th>1</th>\n",
       "      <td>1815614</td>\n",
       "      <td>4627</td>\n",
       "      <td>3.582804</td>\n",
       "      <td>3.582804</td>\n",
       "      <td>3.582804</td>\n",
       "      <td>3.582804</td>\n",
       "      <td>3.582804</td>\n",
       "      <td>3.582804</td>\n",
       "      <td>3.582804</td>\n",
       "      <td>3.582804</td>\n",
       "      <td>...</td>\n",
       "      <td>3.582804</td>\n",
       "      <td>3.582804</td>\n",
       "      <td>3.582804</td>\n",
       "      <td>3.582804</td>\n",
       "      <td>3</td>\n",
       "      <td>3.582804</td>\n",
       "      <td>3.582804</td>\n",
       "      <td>3.582804</td>\n",
       "      <td>3.582804</td>\n",
       "      <td>3.582804</td>\n",
       "    </tr>\n",
       "    <tr>\n",
       "      <th>2</th>\n",
       "      <td>2298717</td>\n",
       "      <td>4627</td>\n",
       "      <td>3.582804</td>\n",
       "      <td>3.582804</td>\n",
       "      <td>3.582804</td>\n",
       "      <td>3.582804</td>\n",
       "      <td>3.582804</td>\n",
       "      <td>3.582804</td>\n",
       "      <td>3.582804</td>\n",
       "      <td>3.582804</td>\n",
       "      <td>...</td>\n",
       "      <td>3.582804</td>\n",
       "      <td>3.582804</td>\n",
       "      <td>3.582804</td>\n",
       "      <td>3.582804</td>\n",
       "      <td>5</td>\n",
       "      <td>3.582804</td>\n",
       "      <td>3.582804</td>\n",
       "      <td>3.582804</td>\n",
       "      <td>3.582804</td>\n",
       "      <td>3.582804</td>\n",
       "    </tr>\n",
       "    <tr>\n",
       "      <th>3</th>\n",
       "      <td>2532402</td>\n",
       "      <td>4627</td>\n",
       "      <td>3.582804</td>\n",
       "      <td>3.582804</td>\n",
       "      <td>3.582804</td>\n",
       "      <td>3.582804</td>\n",
       "      <td>3.582804</td>\n",
       "      <td>3.582804</td>\n",
       "      <td>3.582804</td>\n",
       "      <td>3.582804</td>\n",
       "      <td>...</td>\n",
       "      <td>3.582804</td>\n",
       "      <td>3.582804</td>\n",
       "      <td>3.582804</td>\n",
       "      <td>3.582804</td>\n",
       "      <td>4</td>\n",
       "      <td>3.582804</td>\n",
       "      <td>3.582804</td>\n",
       "      <td>3.582804</td>\n",
       "      <td>3.582804</td>\n",
       "      <td>3.582804</td>\n",
       "    </tr>\n",
       "    <tr>\n",
       "      <th>4</th>\n",
       "      <td>2027</td>\n",
       "      <td>4798</td>\n",
       "      <td>3.582804</td>\n",
       "      <td>3.582804</td>\n",
       "      <td>3.582804</td>\n",
       "      <td>3.582804</td>\n",
       "      <td>3.582804</td>\n",
       "      <td>3.582804</td>\n",
       "      <td>3.582804</td>\n",
       "      <td>3.582804</td>\n",
       "      <td>...</td>\n",
       "      <td>3.582804</td>\n",
       "      <td>3.582804</td>\n",
       "      <td>3.582804</td>\n",
       "      <td>3.582804</td>\n",
       "      <td>5</td>\n",
       "      <td>3.582804</td>\n",
       "      <td>3.582804</td>\n",
       "      <td>3.582804</td>\n",
       "      <td>3.582804</td>\n",
       "      <td>3.582804</td>\n",
       "    </tr>\n",
       "  </tbody>\n",
       "</table>\n",
       "<p>5 rows × 21 columns</p>\n",
       "</div>"
      ],
      "text/plain": [
       "   User_ID  Movie_ID  Global_Average      SUR1      SUR2      SUR3      SUR4  \\\n",
       "0   464626      4614        3.582804  3.582804  3.582804  3.582804  3.582804   \n",
       "1  1815614      4627        3.582804  3.582804  3.582804  3.582804  3.582804   \n",
       "2  2298717      4627        3.582804  3.582804  3.582804  3.582804  3.582804   \n",
       "3  2532402      4627        3.582804  3.582804  3.582804  3.582804  3.582804   \n",
       "4     2027      4798        3.582804  3.582804  3.582804  3.582804  3.582804   \n",
       "\n",
       "       SUR5      SMR1      SMR2  ...      SMR4      SMR5  User_Average  \\\n",
       "0  3.582804  3.582804  3.582804  ...  3.582804  3.582804      3.582804   \n",
       "1  3.582804  3.582804  3.582804  ...  3.582804  3.582804      3.582804   \n",
       "2  3.582804  3.582804  3.582804  ...  3.582804  3.582804      3.582804   \n",
       "3  3.582804  3.582804  3.582804  ...  3.582804  3.582804      3.582804   \n",
       "4  3.582804  3.582804  3.582804  ...  3.582804  3.582804      3.582804   \n",
       "\n",
       "   Movie_Average  Rating  BaselineOnly  KNNBaseline_User  KNNBaseline_Item  \\\n",
       "0       3.582804       3      3.582804          3.582804          3.582804   \n",
       "1       3.582804       3      3.582804          3.582804          3.582804   \n",
       "2       3.582804       5      3.582804          3.582804          3.582804   \n",
       "3       3.582804       4      3.582804          3.582804          3.582804   \n",
       "4       3.582804       5      3.582804          3.582804          3.582804   \n",
       "\n",
       "        SVD     SVDpp  \n",
       "0  3.582804  3.582804  \n",
       "1  3.582804  3.582804  \n",
       "2  3.582804  3.582804  \n",
       "3  3.582804  3.582804  \n",
       "4  3.582804  3.582804  \n",
       "\n",
       "[5 rows x 21 columns]"
      ]
     },
     "execution_count": 179,
     "metadata": {},
     "output_type": "execute_result"
    }
   ],
   "source": [
    "Test_reg.head()"
   ]
  },
  {
   "cell_type": "code",
   "execution_count": 181,
   "metadata": {},
   "outputs": [
    {
     "name": "stdout",
     "output_type": "stream",
     "text": [
      "Number of nan values in Test Data 0\n"
     ]
    }
   ],
   "source": [
    "print(\"Number of nan values in Test Data \"+str(Test_reg.isnull().sum().sum()))"
   ]
  },
  {
   "cell_type": "code",
   "execution_count": 183,
   "metadata": {},
   "outputs": [
    {
     "name": "stdout",
     "output_type": "stream",
     "text": [
      "[12:36:09] WARNING: C:/Users/Administrator/workspace/xgboost-win64_release_1.3.0/src/learner.cc:541: \n",
      "Parameters: { silent } might not be used.\n",
      "\n",
      "  This may not be accurate due to some parameters are only used in language bindings but\n",
      "  passed down to XGBoost core.  Or some parameters are not used but slip through this\n",
      "  verification. Please open an issue if you find above cases.\n",
      "\n",
      "\n",
      "--------------------------------------------------\n",
      "TRAIN DATA\n",
      "RMSE = 0.5828093439473843\n",
      "MAPE = 16.276511549949646\n",
      "--------------------------------------------------\n",
      "TEST DATA\n",
      "RMSE = 1.129455324311166\n",
      "MAPE = 31.89130551607692\n",
      "--------------------------------------------------\n",
      "Time Taken = 0:00:01.383285\n"
     ]
    },
    {
     "data": {
      "image/png": "[encoded data removed]",
      "text/plain": [
       "<Figure size 576x432 with 1 Axes>"
      ]
     },
     "metadata": {},
     "output_type": "display_data"
    }
   ],
   "source": [
    "x_train = Train_Reg.drop([\"User_ID\", \"Movie_ID\", \"Rating\"], axis = 1)\n",
    "\n",
    "x_test = Test_reg.drop([\"User_ID\", \"Movie_ID\", \"Rating\"], axis = 1)\n",
    "\n",
    "y_train = Train_Reg[\"Rating\"]\n",
    "\n",
    "y_test = Test_reg[\"Rating\"]\n",
    "\n",
    "train_result, test_result = train_test_xgboost(x_train, x_test, y_train, y_test, \"XGB_BSL_KNN_MF\")\n",
    "\n",
    "model_train_evaluation[\"XGB_BSL_KNN_MF\"] = train_result\n",
    "model_test_evaluation[\"XGB_BSL_KNN_MF\"] = test_result"
   ]
  },
  {
   "cell_type": "markdown",
   "metadata": {},
   "source": [
    "# Surprise KNN Baseline + SVD + SVDpp"
   ]
  },
  {
   "cell_type": "code",
   "execution_count": 184,
   "metadata": {},
   "outputs": [
    {
     "name": "stdout",
     "output_type": "stream",
     "text": [
      "[12:37:36] WARNING: C:/Users/Administrator/workspace/xgboost-win64_release_1.3.0/src/learner.cc:541: \n",
      "Parameters: { silent } might not be used.\n",
      "\n",
      "  This may not be accurate due to some parameters are only used in language bindings but\n",
      "  passed down to XGBoost core.  Or some parameters are not used but slip through this\n",
      "  verification. Please open an issue if you find above cases.\n",
      "\n",
      "\n",
      "--------------------------------------------------\n",
      "TRAIN DATA\n",
      "RMSE = 0.9222947113371508\n",
      "MAPE = 29.60980534553528\n",
      "--------------------------------------------------\n",
      "TEST DATA\n",
      "RMSE = 1.0746159984412627\n",
      "MAPE = 33.245188892751834\n",
      "--------------------------------------------------\n",
      "Time Taken = 0:00:01.092106\n"
     ]
    },
    {
     "data": {
      "image/png": "[encoded data removed]",
      "text/plain": [
       "<Figure size 576x432 with 1 Axes>"
      ]
     },
     "metadata": {},
     "output_type": "display_data"
    }
   ],
   "source": [
    "x_train = Train_Reg[[\"KNNBaseline_User\", \"KNNBaseline_Item\", \"SVD\", \"SVDpp\"]]\n",
    "\n",
    "x_test = Test_reg[[\"KNNBaseline_User\", \"KNNBaseline_Item\", \"SVD\", \"SVDpp\"]]\n",
    "\n",
    "y_train = Train_Reg[\"Rating\"]\n",
    "\n",
    "y_test = Test_reg[\"Rating\"]\n",
    "\n",
    "train_result, test_result = train_test_xgboost(x_train, x_test, y_train, y_test, \"XGB_KNN_MF\")\n",
    "\n",
    "model_train_evaluation[\"XGB_KNN_MF\"] = train_result\n",
    "model_test_evaluation[\"XGB_KNN_MF\"] = test_result"
   ]
  },
  {
   "cell_type": "code",
   "execution_count": 185,
   "metadata": {},
   "outputs": [],
   "source": [
    "error_table2 = error_table.drop([\"Train MAPE\", \"Test MAPE\"], axis = 1)"
   ]
  },
  {
   "cell_type": "code",
   "execution_count": 186,
   "metadata": {},
   "outputs": [
    {
     "data": {
      "image/png": "[encoded data removed]",
      "text/plain": [
       "<Figure size 1008x576 with 1 Axes>"
      ]
     },
     "metadata": {},
     "output_type": "display_data"
    }
   ],
   "source": [
    "error_table2.plot(x = \"Model\", kind = \"bar\", figsize = (14, 8), grid = True, fontsize = 15)\n",
    "plt.title(\"Train and Test RMSE and MAPE of all Models\", fontsize = 20)\n",
    "plt.ylabel(\"Error Values\", fontsize = 20)\n",
    "plt.legend(bbox_to_anchor=(1, 1), fontsize = 20)\n",
    "plt.show()"
   ]
  },
  {
   "cell_type": "code",
   "execution_count": 187,
   "metadata": {},
   "outputs": [
    {
     "data": {
      "text/html": [
       "<style  type=\"text/css\" >\n",
       "#T_808abf2c_c466_11ec_bdc6_4074e019a99brow8_col2,#T_808abf2c_c466_11ec_bdc6_4074e019a99brow9_col2,#T_808abf2c_c466_11ec_bdc6_4074e019a99brow10_col2,#T_808abf2c_c466_11ec_bdc6_4074e019a99brow11_col1,#T_808abf2c_c466_11ec_bdc6_4074e019a99brow11_col2{\n",
       "            background-color:  yellow;\n",
       "        }</style><table id=\"T_808abf2c_c466_11ec_bdc6_4074e019a99b\" ><thead>    <tr>        <th class=\"blank level0\" ></th>        <th class=\"col_heading level0 col0\" >Model</th>        <th class=\"col_heading level0 col1\" >Train RMSE</th>        <th class=\"col_heading level0 col2\" >Test RMSE</th>    </tr></thead><tbody>\n",
       "                <tr>\n",
       "                        <th id=\"T_808abf2c_c466_11ec_bdc6_4074e019a99blevel0_row0\" class=\"row_heading level0 row0\" >0</th>\n",
       "                        <td id=\"T_808abf2c_c466_11ec_bdc6_4074e019a99brow0_col0\" class=\"data row0 col0\" >XGBoost_13</td>\n",
       "                        <td id=\"T_808abf2c_c466_11ec_bdc6_4074e019a99brow0_col1\" class=\"data row0 col1\" >0.605147</td>\n",
       "                        <td id=\"T_808abf2c_c466_11ec_bdc6_4074e019a99brow0_col2\" class=\"data row0 col2\" >1.122649</td>\n",
       "            </tr>\n",
       "            <tr>\n",
       "                        <th id=\"T_808abf2c_c466_11ec_bdc6_4074e019a99blevel0_row1\" class=\"row_heading level0 row1\" >1</th>\n",
       "                        <td id=\"T_808abf2c_c466_11ec_bdc6_4074e019a99brow1_col0\" class=\"data row1 col0\" >XGBoost_13</td>\n",
       "                        <td id=\"T_808abf2c_c466_11ec_bdc6_4074e019a99brow1_col1\" class=\"data row1 col1\" >0.605147</td>\n",
       "                        <td id=\"T_808abf2c_c466_11ec_bdc6_4074e019a99brow1_col2\" class=\"data row1 col2\" >1.122649</td>\n",
       "            </tr>\n",
       "            <tr>\n",
       "                        <th id=\"T_808abf2c_c466_11ec_bdc6_4074e019a99blevel0_row2\" class=\"row_heading level0 row2\" >2</th>\n",
       "                        <td id=\"T_808abf2c_c466_11ec_bdc6_4074e019a99brow2_col0\" class=\"data row2 col0\" >BaselineOnly</td>\n",
       "                        <td id=\"T_808abf2c_c466_11ec_bdc6_4074e019a99brow2_col1\" class=\"data row2 col1\" >0.881143</td>\n",
       "                        <td id=\"T_808abf2c_c466_11ec_bdc6_4074e019a99brow2_col2\" class=\"data row2 col2\" >1.067839</td>\n",
       "            </tr>\n",
       "            <tr>\n",
       "                        <th id=\"T_808abf2c_c466_11ec_bdc6_4074e019a99blevel0_row3\" class=\"row_heading level0 row3\" >3</th>\n",
       "                        <td id=\"T_808abf2c_c466_11ec_bdc6_4074e019a99brow3_col0\" class=\"data row3 col0\" >XGB_BSL</td>\n",
       "                        <td id=\"T_808abf2c_c466_11ec_bdc6_4074e019a99brow3_col1\" class=\"data row3 col1\" >0.594952</td>\n",
       "                        <td id=\"T_808abf2c_c466_11ec_bdc6_4074e019a99brow3_col2\" class=\"data row3 col2\" >1.256248</td>\n",
       "            </tr>\n",
       "            <tr>\n",
       "                        <th id=\"T_808abf2c_c466_11ec_bdc6_4074e019a99blevel0_row4\" class=\"row_heading level0 row4\" >4</th>\n",
       "                        <td id=\"T_808abf2c_c466_11ec_bdc6_4074e019a99brow4_col0\" class=\"data row4 col0\" >XGB_BSL</td>\n",
       "                        <td id=\"T_808abf2c_c466_11ec_bdc6_4074e019a99brow4_col1\" class=\"data row4 col1\" >0.594952</td>\n",
       "                        <td id=\"T_808abf2c_c466_11ec_bdc6_4074e019a99brow4_col2\" class=\"data row4 col2\" >1.256248</td>\n",
       "            </tr>\n",
       "            <tr>\n",
       "                        <th id=\"T_808abf2c_c466_11ec_bdc6_4074e019a99blevel0_row5\" class=\"row_heading level0 row5\" >5</th>\n",
       "                        <td id=\"T_808abf2c_c466_11ec_bdc6_4074e019a99brow5_col0\" class=\"data row5 col0\" >XGBoost_13</td>\n",
       "                        <td id=\"T_808abf2c_c466_11ec_bdc6_4074e019a99brow5_col1\" class=\"data row5 col1\" >0.594952</td>\n",
       "                        <td id=\"T_808abf2c_c466_11ec_bdc6_4074e019a99brow5_col2\" class=\"data row5 col2\" >1.256248</td>\n",
       "            </tr>\n",
       "            <tr>\n",
       "                        <th id=\"T_808abf2c_c466_11ec_bdc6_4074e019a99blevel0_row6\" class=\"row_heading level0 row6\" >6</th>\n",
       "                        <td id=\"T_808abf2c_c466_11ec_bdc6_4074e019a99brow6_col0\" class=\"data row6 col0\" >BaselineOnly</td>\n",
       "                        <td id=\"T_808abf2c_c466_11ec_bdc6_4074e019a99brow6_col1\" class=\"data row6 col1\" >0.881143</td>\n",
       "                        <td id=\"T_808abf2c_c466_11ec_bdc6_4074e019a99brow6_col2\" class=\"data row6 col2\" >1.067839</td>\n",
       "            </tr>\n",
       "            <tr>\n",
       "                        <th id=\"T_808abf2c_c466_11ec_bdc6_4074e019a99blevel0_row7\" class=\"row_heading level0 row7\" >7</th>\n",
       "                        <td id=\"T_808abf2c_c466_11ec_bdc6_4074e019a99brow7_col0\" class=\"data row7 col0\" >XGB_BSL</td>\n",
       "                        <td id=\"T_808abf2c_c466_11ec_bdc6_4074e019a99brow7_col1\" class=\"data row7 col1\" >0.594952</td>\n",
       "                        <td id=\"T_808abf2c_c466_11ec_bdc6_4074e019a99brow7_col2\" class=\"data row7 col2\" >1.256248</td>\n",
       "            </tr>\n",
       "            <tr>\n",
       "                        <th id=\"T_808abf2c_c466_11ec_bdc6_4074e019a99blevel0_row8\" class=\"row_heading level0 row8\" >8</th>\n",
       "                        <td id=\"T_808abf2c_c466_11ec_bdc6_4074e019a99brow8_col0\" class=\"data row8 col0\" >KNNBaseline_Item</td>\n",
       "                        <td id=\"T_808abf2c_c466_11ec_bdc6_4074e019a99brow8_col1\" class=\"data row8 col1\" >0.181882</td>\n",
       "                        <td id=\"T_808abf2c_c466_11ec_bdc6_4074e019a99brow8_col2\" class=\"data row8 col2\" >1.067655</td>\n",
       "            </tr>\n",
       "            <tr>\n",
       "                        <th id=\"T_808abf2c_c466_11ec_bdc6_4074e019a99blevel0_row9\" class=\"row_heading level0 row9\" >9</th>\n",
       "                        <td id=\"T_808abf2c_c466_11ec_bdc6_4074e019a99brow9_col0\" class=\"data row9 col0\" >KNNBaseline_Item</td>\n",
       "                        <td id=\"T_808abf2c_c466_11ec_bdc6_4074e019a99brow9_col1\" class=\"data row9 col1\" >0.181882</td>\n",
       "                        <td id=\"T_808abf2c_c466_11ec_bdc6_4074e019a99brow9_col2\" class=\"data row9 col2\" >1.067655</td>\n",
       "            </tr>\n",
       "            <tr>\n",
       "                        <th id=\"T_808abf2c_c466_11ec_bdc6_4074e019a99blevel0_row10\" class=\"row_heading level0 row10\" >10</th>\n",
       "                        <td id=\"T_808abf2c_c466_11ec_bdc6_4074e019a99brow10_col0\" class=\"data row10 col0\" >KNNBaseline_User</td>\n",
       "                        <td id=\"T_808abf2c_c466_11ec_bdc6_4074e019a99brow10_col1\" class=\"data row10 col1\" >0.304498</td>\n",
       "                        <td id=\"T_808abf2c_c466_11ec_bdc6_4074e019a99brow10_col2\" class=\"data row10 col2\" >1.067655</td>\n",
       "            </tr>\n",
       "            <tr>\n",
       "                        <th id=\"T_808abf2c_c466_11ec_bdc6_4074e019a99blevel0_row11\" class=\"row_heading level0 row11\" >11</th>\n",
       "                        <td id=\"T_808abf2c_c466_11ec_bdc6_4074e019a99brow11_col0\" class=\"data row11 col0\" >KNNBaseline_Item</td>\n",
       "                        <td id=\"T_808abf2c_c466_11ec_bdc6_4074e019a99brow11_col1\" class=\"data row11 col1\" >0.181651</td>\n",
       "                        <td id=\"T_808abf2c_c466_11ec_bdc6_4074e019a99brow11_col2\" class=\"data row11 col2\" >1.067655</td>\n",
       "            </tr>\n",
       "            <tr>\n",
       "                        <th id=\"T_808abf2c_c466_11ec_bdc6_4074e019a99blevel0_row12\" class=\"row_heading level0 row12\" >12</th>\n",
       "                        <td id=\"T_808abf2c_c466_11ec_bdc6_4074e019a99brow12_col0\" class=\"data row12 col0\" >XGB_BSL_KNN</td>\n",
       "                        <td id=\"T_808abf2c_c466_11ec_bdc6_4074e019a99brow12_col1\" class=\"data row12 col1\" >0.588478</td>\n",
       "                        <td id=\"T_808abf2c_c466_11ec_bdc6_4074e019a99brow12_col2\" class=\"data row12 col2\" >1.146172</td>\n",
       "            </tr>\n",
       "            <tr>\n",
       "                        <th id=\"T_808abf2c_c466_11ec_bdc6_4074e019a99blevel0_row13\" class=\"row_heading level0 row13\" >13</th>\n",
       "                        <td id=\"T_808abf2c_c466_11ec_bdc6_4074e019a99brow13_col0\" class=\"data row13 col0\" >SVD</td>\n",
       "                        <td id=\"T_808abf2c_c466_11ec_bdc6_4074e019a99brow13_col1\" class=\"data row13 col1\" >0.891529</td>\n",
       "                        <td id=\"T_808abf2c_c466_11ec_bdc6_4074e019a99brow13_col2\" class=\"data row13 col2\" >1.067663</td>\n",
       "            </tr>\n",
       "            <tr>\n",
       "                        <th id=\"T_808abf2c_c466_11ec_bdc6_4074e019a99blevel0_row14\" class=\"row_heading level0 row14\" >14</th>\n",
       "                        <td id=\"T_808abf2c_c466_11ec_bdc6_4074e019a99brow14_col0\" class=\"data row14 col0\" >SVDpp</td>\n",
       "                        <td id=\"T_808abf2c_c466_11ec_bdc6_4074e019a99brow14_col1\" class=\"data row14 col1\" >0.793070</td>\n",
       "                        <td id=\"T_808abf2c_c466_11ec_bdc6_4074e019a99brow14_col2\" class=\"data row14 col2\" >1.067674</td>\n",
       "            </tr>\n",
       "            <tr>\n",
       "                        <th id=\"T_808abf2c_c466_11ec_bdc6_4074e019a99blevel0_row15\" class=\"row_heading level0 row15\" >15</th>\n",
       "                        <td id=\"T_808abf2c_c466_11ec_bdc6_4074e019a99brow15_col0\" class=\"data row15 col0\" >XGB_BSL_KNN_MF</td>\n",
       "                        <td id=\"T_808abf2c_c466_11ec_bdc6_4074e019a99brow15_col1\" class=\"data row15 col1\" >0.582809</td>\n",
       "                        <td id=\"T_808abf2c_c466_11ec_bdc6_4074e019a99brow15_col2\" class=\"data row15 col2\" >1.129455</td>\n",
       "            </tr>\n",
       "            <tr>\n",
       "                        <th id=\"T_808abf2c_c466_11ec_bdc6_4074e019a99blevel0_row16\" class=\"row_heading level0 row16\" >16</th>\n",
       "                        <td id=\"T_808abf2c_c466_11ec_bdc6_4074e019a99brow16_col0\" class=\"data row16 col0\" >XGB_KNN_MF</td>\n",
       "                        <td id=\"T_808abf2c_c466_11ec_bdc6_4074e019a99brow16_col1\" class=\"data row16 col1\" >0.922295</td>\n",
       "                        <td id=\"T_808abf2c_c466_11ec_bdc6_4074e019a99brow16_col2\" class=\"data row16 col2\" >1.074616</td>\n",
       "            </tr>\n",
       "    </tbody></table>"
      ],
      "text/plain": [
       "<pandas.io.formats.style.Styler at 0x15e3f776df0>"
      ]
     },
     "execution_count": 187,
     "metadata": {},
     "output_type": "execute_result"
    }
   ],
   "source": [
    "error_table.drop([\"Train MAPE\", \"Test MAPE\"], axis = 1).style.highlight_min(axis=0)"
   ]
  },
  {
   "cell_type": "markdown",
   "metadata": {},
   "source": [
    "# So, far our best model is SVDpp with Test RMSE of 1.067583"
   ]
  },
  {
   "cell_type": "code",
   "execution_count": null,
   "metadata": {},
   "outputs": [],
   "source": []
  }
 ],
 "metadata": {
  "kernelspec": {
   "display_name": "Python 3",
   "language": "python",
   "name": "python3"
  },
  "language_info": {
   "codemirror_mode": {
    "name": "ipython",
    "version": 3
   },
   "file_extension": ".py",
   "mimetype": "text/x-python",
   "name": "python",
   "nbconvert_exporter": "python",
   "pygments_lexer": "ipython3",
   "version": "3.8.5"
  }
 },
 "nbformat": 4,
 "nbformat_minor": 4
}
